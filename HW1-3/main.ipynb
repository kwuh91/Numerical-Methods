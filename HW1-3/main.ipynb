{
 "cells": [
  {
   "cell_type": "code",
   "execution_count": 1542,
   "metadata": {},
   "outputs": [],
   "source": [
    "import numpy as np\n",
    "import matplotlib.pyplot as plt\n",
    "from scipy.optimize import root\n",
    "from scipy.misc import derivative\n",
    "\n",
    "import sys \n",
    "import os\n",
    "sys.path.append(os.path.abspath(\"D:\\\\VScodeProjects\\\\numerical-methods\\\\pythonDependencies\"))\n",
    "from format import *      # type: ignore\n",
    "from formatLatex import * # type: ignore"
   ]
  },
  {
   "cell_type": "code",
   "execution_count": 1543,
   "metadata": {},
   "outputs": [],
   "source": [
    "def std_cout(data, info, PRECISION): \n",
    "    for dataElement, infoElement in zip(data, info):\n",
    "\n",
    "        dataElement = np.round(dataElement, PRECISION)\n",
    "\n",
    "        name = infoElement['name']\n",
    "        type = infoElement['type']\n",
    "\n",
    "        match type:\n",
    "            case 'matrix':\n",
    "                printBig(f'Matrix {name}') # type: ignore\n",
    "                printMatrix(dataElement)   # type: ignore\n",
    "                latexMatrix(dataElement)   # type: ignore\n",
    "\n",
    "            case 'cvector':\n",
    "                printBig(f'Vector {name}')         # type: ignore\n",
    "                printVector(dataElement)           # type: ignore\n",
    "                latexVector(dataElement, 'column') # type: ignore\n",
    "\n",
    "            case 'rvector':\n",
    "                printBig(f'Vector {name}')      # type: ignore\n",
    "                printVector(dataElement)        # type: ignore\n",
    "                latexVector(dataElement, 'row') # type: ignore\n",
    "\n",
    "            case _:\n",
    "                printBig(f'{name}')        # type: ignore\n",
    "                printBig(f'{dataElement}') # type: ignore"
   ]
  },
  {
   "cell_type": "markdown",
   "metadata": {},
   "source": [
    "<div style=\"text-align: center; font-size: 24px;\">\n",
    "    <p>Задание 1.1</p>\n",
    "</div>"
   ]
  },
  {
   "cell_type": "code",
   "execution_count": 1544,
   "metadata": {},
   "outputs": [],
   "source": [
    "PRECISION = 3\n",
    "EPSILON = 0.01\n",
    "\n",
    "np.set_printoptions(precision=PRECISION)\n",
    "\n",
    "N = 9\n",
    "# N = 8\n",
    "n = 52\n",
    "BETA = 1 - 0.03 * (50 - n)\n",
    "\n",
    "A = np.round(np.array([[ 10 * BETA, 1,          2,         3      ],\n",
    "                       [-1,         10 * BETA, -3,         2      ],\n",
    "                       [ 2,         3,          10 * BETA, 1      ],\n",
    "                       [ 3,         2,          1,         10*BETA]]), PRECISION)\n",
    "# A = np.round(np.array([[ 10 * BETA, 1,          2,         3      ],\n",
    "#                        [1,         10 * BETA, 3,         2      ],\n",
    "#                        [ -2,         3,          10 * BETA, 1      ],\n",
    "#                        [ 3,         2,          1,         10*BETA]]), PRECISION)\n",
    "\n",
    "x0 = np.zeros(len(A))\n",
    "b  = A @ np.ones(len(A))"
   ]
  },
  {
   "cell_type": "markdown",
   "metadata": {},
   "source": [
    "<div style=\"text-align: center; font-size: 24px;\">\n",
    "    <p>Initial data</p>\n",
    "</div>"
   ]
  },
  {
   "cell_type": "code",
   "execution_count": 1545,
   "metadata": {},
   "outputs": [
    {
     "data": {
      "text/html": [
       "<div style=\"text-align: center; font-size: 24px;\"><p>Matrix A</p></div>"
      ],
      "text/plain": [
       "<IPython.core.display.HTML object>"
      ]
     },
     "metadata": {},
     "output_type": "display_data"
    },
    {
     "data": {
      "text/html": [
       "<table style='border-collapse: collapse; width: 50%; margin: auto;'><tr><td style='border: 1px solid black; padding: 10px; text-align: center;'>10.6</td><td style='border: 1px solid black; padding: 10px; text-align: center;'>1.0</td><td style='border: 1px solid black; padding: 10px; text-align: center;'>2.0</td><td style='border: 1px solid black; padding: 10px; text-align: center;'>3.0</td></tr><tr><td style='border: 1px solid black; padding: 10px; text-align: center;'>-1.0</td><td style='border: 1px solid black; padding: 10px; text-align: center;'>10.6</td><td style='border: 1px solid black; padding: 10px; text-align: center;'>-3.0</td><td style='border: 1px solid black; padding: 10px; text-align: center;'>2.0</td></tr><tr><td style='border: 1px solid black; padding: 10px; text-align: center;'>2.0</td><td style='border: 1px solid black; padding: 10px; text-align: center;'>3.0</td><td style='border: 1px solid black; padding: 10px; text-align: center;'>10.6</td><td style='border: 1px solid black; padding: 10px; text-align: center;'>1.0</td></tr><tr><td style='border: 1px solid black; padding: 10px; text-align: center;'>3.0</td><td style='border: 1px solid black; padding: 10px; text-align: center;'>2.0</td><td style='border: 1px solid black; padding: 10px; text-align: center;'>1.0</td><td style='border: 1px solid black; padding: 10px; text-align: center;'>10.6</td></tr></table>"
      ],
      "text/plain": [
       "<IPython.core.display.HTML object>"
      ]
     },
     "metadata": {},
     "output_type": "display_data"
    },
    {
     "name": "stdout",
     "output_type": "stream",
     "text": [
      "\\begin{pmatrix}\n",
      "10.6 & 1.0 & 2.0 & 3.0 \\\\\n",
      "-1.0 & 10.6 & -3.0 & 2.0 \\\\\n",
      "2.0 & 3.0 & 10.6 & 1.0 \\\\\n",
      "3.0 & 2.0 & 1.0 & 10.6 \\\\\n",
      "\\end{pmatrix}\n"
     ]
    }
   ],
   "source": [
    "printBig('Matrix A') # type: ignore\n",
    "printMatrix(A)       # type: ignore\n",
    "latexMatrix(A)       # type: ignore"
   ]
  },
  {
   "cell_type": "code",
   "execution_count": 1546,
   "metadata": {},
   "outputs": [
    {
     "data": {
      "text/html": [
       "<div style=\"text-align: center; font-size: 24px;\"><p>Vector b</p></div>"
      ],
      "text/plain": [
       "<IPython.core.display.HTML object>"
      ]
     },
     "metadata": {},
     "output_type": "display_data"
    },
    {
     "data": {
      "text/html": [
       "<table style='border-collapse: collapse; margin: auto;'><tr><td style='border: 1px solid black; padding: 10px; text-align: center;'>16.6</td></tr><tr><td style='border: 1px solid black; padding: 10px; text-align: center;'>8.6</td></tr><tr><td style='border: 1px solid black; padding: 10px; text-align: center;'>16.6</td></tr><tr><td style='border: 1px solid black; padding: 10px; text-align: center;'>16.6</td></tr></table>"
      ],
      "text/plain": [
       "<IPython.core.display.HTML object>"
      ]
     },
     "metadata": {},
     "output_type": "display_data"
    },
    {
     "name": "stdout",
     "output_type": "stream",
     "text": [
      "\\begin{pmatrix}\n",
      "16.6 \\\\\n",
      "8.6 \\\\\n",
      "16.6 \\\\\n",
      "16.6 \\\\\n",
      "\\end{pmatrix}\n"
     ]
    }
   ],
   "source": [
    "printBig('Vector b')      # type: ignore\n",
    "printVector(b)            # type: ignore\n",
    "latexVector(b, 'column')  # type: ignore"
   ]
  },
  {
   "cell_type": "code",
   "execution_count": 1547,
   "metadata": {},
   "outputs": [
    {
     "data": {
      "text/html": [
       "<div style=\"text-align: center; font-size: 24px;\"><p>Vector x0</p></div>"
      ],
      "text/plain": [
       "<IPython.core.display.HTML object>"
      ]
     },
     "metadata": {},
     "output_type": "display_data"
    },
    {
     "data": {
      "text/html": [
       "<table style='border-collapse: collapse; margin: auto;'><tr><td style='border: 1px solid black; padding: 10px; text-align: center;'>0.0</td></tr><tr><td style='border: 1px solid black; padding: 10px; text-align: center;'>0.0</td></tr><tr><td style='border: 1px solid black; padding: 10px; text-align: center;'>0.0</td></tr><tr><td style='border: 1px solid black; padding: 10px; text-align: center;'>0.0</td></tr></table>"
      ],
      "text/plain": [
       "<IPython.core.display.HTML object>"
      ]
     },
     "metadata": {},
     "output_type": "display_data"
    },
    {
     "name": "stdout",
     "output_type": "stream",
     "text": [
      "\\begin{pmatrix}\n",
      "0.0 \\\\\n",
      "0.0 \\\\\n",
      "0.0 \\\\\n",
      "0.0 \\\\\n",
      "\\end{pmatrix}\n"
     ]
    }
   ],
   "source": [
    "printBig('Vector x0')      # type: ignore\n",
    "printVector(x0)            # type: ignore\n",
    "latexVector(x0, 'column')  # type: ignore"
   ]
  },
  {
   "cell_type": "code",
   "execution_count": 1548,
   "metadata": {},
   "outputs": [],
   "source": [
    "def SimpleIterationMethod(A, b, x0, EPSILON):\n",
    "    def chebushev(data):\n",
    "        return np.linalg.norm(data, np.inf)\n",
    "\n",
    "    D = np.diagflat(1 / np.diagonal(A))\n",
    "    E = np.identity(len(A))\n",
    "    F = E - D @ A\n",
    "\n",
    "    norm = chebushev(F)\n",
    "\n",
    "    g = D @ b\n",
    "\n",
    "    theoretical_k = np.emath.logn(chebushev(F), (EPSILON * (1 - chebushev(F)))/(chebushev(g)))\n",
    "    print(f'theoretical k: {theoretical_k}')\n",
    "\n",
    "    def mainRecursion(x, k):\n",
    "        # print(f'\\ncurrent x: {x}')\n",
    "        # print(f'current k: {k}')\n",
    "\n",
    "        print(f'\\n& k: {k} \\\\\\\\')\n",
    "        print(f'& x_{{({k})}}: {x} \\\\\\\\')\n",
    "\n",
    "        previousX = x\n",
    "        x = F @ x + g\n",
    "\n",
    "        # print(f'new x: {x}')\n",
    "        print(f'& x_{{({k + 1})}}: {x} \\\\\\\\')\n",
    "\n",
    "        if k > 0:\n",
    "            print(f'{chebushev(x - b)} <= {chebushev(F)**k / (1 - chebushev(F)) * chebushev(g) + chebushev(F)**k * chebushev(x0)}')\n",
    "            print(f'{chebushev(x - b)} <= {chebushev(F) * chebushev(previousX - b)}')\n",
    "            print(f'{chebushev(x - previousX)} <= {EPSILON}')\n",
    "\n",
    "            firstCheck  = chebushev(x - b) <= (chebushev(F)**k / (1 - chebushev(F)) * chebushev(g) + chebushev(F)**k * chebushev(x0))\n",
    "            secondCheck = chebushev(x - b) <= (chebushev(F) * chebushev(previousX - b))\n",
    "            thirdCheck  = chebushev(x - previousX) < EPSILON\n",
    "\n",
    "            print(f'checks: [{firstCheck}, {secondCheck}, {thirdCheck}]')\n",
    "\n",
    "            if not any([firstCheck, secondCheck, thirdCheck]):\n",
    "                return mainRecursion(x, k + 1)\n",
    "            else:\n",
    "                return previousX\n",
    "        else:\n",
    "            return mainRecursion(x, k + 1)\n",
    "    \n",
    "    x = mainRecursion(x0, 0)\n",
    "    print(f'result: {x}')\n",
    "\n",
    "\n",
    "\n",
    "\n",
    "\n",
    "\n",
    "    data = []\n",
    "    info = []\n",
    "\n",
    "    data.extend([D, E, F])\n",
    "    info.extend([{'name': 'D', 'type': 'matrix'}, \n",
    "                 {'name': 'E', 'type': 'matrix'},\n",
    "                 {'name': 'F', 'type': 'matrix'}])\n",
    "\n",
    "    data.append(norm)\n",
    "    info.append({'name': 'F norm', 'type': ''})\n",
    "\n",
    "    data.append(g)\n",
    "    info.append({'name': 'g', 'type': 'cvector'})\n",
    "\n",
    "    std_cout(data, info, PRECISION=PRECISION)\n"
   ]
  },
  {
   "cell_type": "code",
   "execution_count": 1549,
   "metadata": {},
   "outputs": [
    {
     "name": "stdout",
     "output_type": "stream",
     "text": [
      "theoretical k: 10.347167733802928\n",
      "\n",
      "& k: 0 \\\\\n",
      "& x_{(0)}: [0. 0. 0. 0.] \\\\\n",
      "& x_{(1)}: [1.566 0.811 1.566 1.566] \\\\\n",
      "\n",
      "& k: 1 \\\\\n",
      "& x_{(1)}: [1.566 0.811 1.566 1.566] \\\\\n",
      "& x_{(2)}: [0.751 1.107 0.893 0.822] \\\\\n",
      "15.849199003203989 <= 2.0426579163248575\n",
      "15.849199003203989 <= 8.509789960840159\n",
      "0.8152367390530441 <= 0.01\n",
      "checks: [False, False, False]\n",
      "\n",
      "& k: 2 \\\\\n",
      "& x_{(2)}: [0.751 1.107 0.893 0.822] \\\\\n",
      "& x_{(3)}: [1.06  0.98  1.034 1.06 ] \\\\\n",
      "15.566415228678709 <= 1.1562214620706743\n",
      "15.566415228678709 <= 8.971244718794711\n",
      "0.30965159158231315 <= 0.01\n",
      "checks: [False, False, False]\n",
      "\n",
      "& k: 3 \\\\\n",
      "& x_{(3)}: [1.06  0.98  1.034 1.06 ] \\\\\n",
      "& x_{(4)}: [0.978 1.004 0.989 0.984] \\\\\n",
      "15.621544947640075 <= 0.6544649785305705\n",
      "15.621544947640075 <= 8.811178431327573\n",
      "0.08199753601839999 <= 0.01\n",
      "checks: [False, False, False]\n",
      "\n",
      "& k: 4 \\\\\n",
      "& x_{(4)}: [0.978 1.004 0.989 0.984] \\\\\n",
      "& x_{(5)}: [1.006 0.998 1.005 1.006] \\\\\n",
      "15.595456670308975 <= 0.37045187463994567\n",
      "15.595456670308975 <= 8.84238393262646\n",
      "0.028001258253636863 <= 0.01\n",
      "checks: [False, False, False]\n",
      "\n",
      "& k: 5 \\\\\n",
      "& x_{(5)}: [1.006 0.998 1.005 1.006] \\\\\n",
      "& x_{(6)}: [0.998 1.001 0.999 0.998] \\\\\n",
      "15.602481461102348 <= 0.2096897403622334\n",
      "15.602481461102348 <= 8.82761698319376\n",
      "0.00893777171591037 <= 0.01\n",
      "checks: [False, False, True]\n",
      "result: [1.006 0.998 1.005 1.006]\n"
     ]
    },
    {
     "data": {
      "text/html": [
       "<div style=\"text-align: center; font-size: 24px;\"><p>Matrix D</p></div>"
      ],
      "text/plain": [
       "<IPython.core.display.HTML object>"
      ]
     },
     "metadata": {},
     "output_type": "display_data"
    },
    {
     "data": {
      "text/html": [
       "<table style='border-collapse: collapse; width: 50%; margin: auto;'><tr><td style='border: 1px solid black; padding: 10px; text-align: center;'>0.094</td><td style='border: 1px solid black; padding: 10px; text-align: center;'>0.0</td><td style='border: 1px solid black; padding: 10px; text-align: center;'>0.0</td><td style='border: 1px solid black; padding: 10px; text-align: center;'>0.0</td></tr><tr><td style='border: 1px solid black; padding: 10px; text-align: center;'>0.0</td><td style='border: 1px solid black; padding: 10px; text-align: center;'>0.094</td><td style='border: 1px solid black; padding: 10px; text-align: center;'>0.0</td><td style='border: 1px solid black; padding: 10px; text-align: center;'>0.0</td></tr><tr><td style='border: 1px solid black; padding: 10px; text-align: center;'>0.0</td><td style='border: 1px solid black; padding: 10px; text-align: center;'>0.0</td><td style='border: 1px solid black; padding: 10px; text-align: center;'>0.094</td><td style='border: 1px solid black; padding: 10px; text-align: center;'>0.0</td></tr><tr><td style='border: 1px solid black; padding: 10px; text-align: center;'>0.0</td><td style='border: 1px solid black; padding: 10px; text-align: center;'>0.0</td><td style='border: 1px solid black; padding: 10px; text-align: center;'>0.0</td><td style='border: 1px solid black; padding: 10px; text-align: center;'>0.094</td></tr></table>"
      ],
      "text/plain": [
       "<IPython.core.display.HTML object>"
      ]
     },
     "metadata": {},
     "output_type": "display_data"
    },
    {
     "name": "stdout",
     "output_type": "stream",
     "text": [
      "\\begin{pmatrix}\n",
      "0.094 & 0.0 & 0.0 & 0.0 \\\\\n",
      "0.0 & 0.094 & 0.0 & 0.0 \\\\\n",
      "0.0 & 0.0 & 0.094 & 0.0 \\\\\n",
      "0.0 & 0.0 & 0.0 & 0.094 \\\\\n",
      "\\end{pmatrix}\n"
     ]
    },
    {
     "data": {
      "text/html": [
       "<div style=\"text-align: center; font-size: 24px;\"><p>Matrix E</p></div>"
      ],
      "text/plain": [
       "<IPython.core.display.HTML object>"
      ]
     },
     "metadata": {},
     "output_type": "display_data"
    },
    {
     "data": {
      "text/html": [
       "<table style='border-collapse: collapse; width: 50%; margin: auto;'><tr><td style='border: 1px solid black; padding: 10px; text-align: center;'>1.0</td><td style='border: 1px solid black; padding: 10px; text-align: center;'>0.0</td><td style='border: 1px solid black; padding: 10px; text-align: center;'>0.0</td><td style='border: 1px solid black; padding: 10px; text-align: center;'>0.0</td></tr><tr><td style='border: 1px solid black; padding: 10px; text-align: center;'>0.0</td><td style='border: 1px solid black; padding: 10px; text-align: center;'>1.0</td><td style='border: 1px solid black; padding: 10px; text-align: center;'>0.0</td><td style='border: 1px solid black; padding: 10px; text-align: center;'>0.0</td></tr><tr><td style='border: 1px solid black; padding: 10px; text-align: center;'>0.0</td><td style='border: 1px solid black; padding: 10px; text-align: center;'>0.0</td><td style='border: 1px solid black; padding: 10px; text-align: center;'>1.0</td><td style='border: 1px solid black; padding: 10px; text-align: center;'>0.0</td></tr><tr><td style='border: 1px solid black; padding: 10px; text-align: center;'>0.0</td><td style='border: 1px solid black; padding: 10px; text-align: center;'>0.0</td><td style='border: 1px solid black; padding: 10px; text-align: center;'>0.0</td><td style='border: 1px solid black; padding: 10px; text-align: center;'>1.0</td></tr></table>"
      ],
      "text/plain": [
       "<IPython.core.display.HTML object>"
      ]
     },
     "metadata": {},
     "output_type": "display_data"
    },
    {
     "name": "stdout",
     "output_type": "stream",
     "text": [
      "\\begin{pmatrix}\n",
      "1.0 & 0.0 & 0.0 & 0.0 \\\\\n",
      "0.0 & 1.0 & 0.0 & 0.0 \\\\\n",
      "0.0 & 0.0 & 1.0 & 0.0 \\\\\n",
      "0.0 & 0.0 & 0.0 & 1.0 \\\\\n",
      "\\end{pmatrix}\n"
     ]
    },
    {
     "data": {
      "text/html": [
       "<div style=\"text-align: center; font-size: 24px;\"><p>Matrix F</p></div>"
      ],
      "text/plain": [
       "<IPython.core.display.HTML object>"
      ]
     },
     "metadata": {},
     "output_type": "display_data"
    },
    {
     "data": {
      "text/html": [
       "<table style='border-collapse: collapse; width: 50%; margin: auto;'><tr><td style='border: 1px solid black; padding: 10px; text-align: center;'>0.0</td><td style='border: 1px solid black; padding: 10px; text-align: center;'>-0.094</td><td style='border: 1px solid black; padding: 10px; text-align: center;'>-0.189</td><td style='border: 1px solid black; padding: 10px; text-align: center;'>-0.283</td></tr><tr><td style='border: 1px solid black; padding: 10px; text-align: center;'>0.094</td><td style='border: 1px solid black; padding: 10px; text-align: center;'>0.0</td><td style='border: 1px solid black; padding: 10px; text-align: center;'>0.283</td><td style='border: 1px solid black; padding: 10px; text-align: center;'>-0.189</td></tr><tr><td style='border: 1px solid black; padding: 10px; text-align: center;'>-0.189</td><td style='border: 1px solid black; padding: 10px; text-align: center;'>-0.283</td><td style='border: 1px solid black; padding: 10px; text-align: center;'>0.0</td><td style='border: 1px solid black; padding: 10px; text-align: center;'>-0.094</td></tr><tr><td style='border: 1px solid black; padding: 10px; text-align: center;'>-0.283</td><td style='border: 1px solid black; padding: 10px; text-align: center;'>-0.189</td><td style='border: 1px solid black; padding: 10px; text-align: center;'>-0.094</td><td style='border: 1px solid black; padding: 10px; text-align: center;'>0.0</td></tr></table>"
      ],
      "text/plain": [
       "<IPython.core.display.HTML object>"
      ]
     },
     "metadata": {},
     "output_type": "display_data"
    },
    {
     "name": "stdout",
     "output_type": "stream",
     "text": [
      "\\begin{pmatrix}\n",
      "0.0 & -0.094 & -0.189 & -0.283 \\\\\n",
      "0.094 & 0.0 & 0.283 & -0.189 \\\\\n",
      "-0.189 & -0.283 & 0.0 & -0.094 \\\\\n",
      "-0.283 & -0.189 & -0.094 & 0.0 \\\\\n",
      "\\end{pmatrix}\n"
     ]
    },
    {
     "data": {
      "text/html": [
       "<div style=\"text-align: center; font-size: 24px;\"><p>F norm</p></div>"
      ],
      "text/plain": [
       "<IPython.core.display.HTML object>"
      ]
     },
     "metadata": {},
     "output_type": "display_data"
    },
    {
     "data": {
      "text/html": [
       "<div style=\"text-align: center; font-size: 24px;\"><p>0.566</p></div>"
      ],
      "text/plain": [
       "<IPython.core.display.HTML object>"
      ]
     },
     "metadata": {},
     "output_type": "display_data"
    },
    {
     "data": {
      "text/html": [
       "<div style=\"text-align: center; font-size: 24px;\"><p>Vector g</p></div>"
      ],
      "text/plain": [
       "<IPython.core.display.HTML object>"
      ]
     },
     "metadata": {},
     "output_type": "display_data"
    },
    {
     "data": {
      "text/html": [
       "<table style='border-collapse: collapse; margin: auto;'><tr><td style='border: 1px solid black; padding: 10px; text-align: center;'>1.566</td></tr><tr><td style='border: 1px solid black; padding: 10px; text-align: center;'>0.811</td></tr><tr><td style='border: 1px solid black; padding: 10px; text-align: center;'>1.566</td></tr><tr><td style='border: 1px solid black; padding: 10px; text-align: center;'>1.566</td></tr></table>"
      ],
      "text/plain": [
       "<IPython.core.display.HTML object>"
      ]
     },
     "metadata": {},
     "output_type": "display_data"
    },
    {
     "name": "stdout",
     "output_type": "stream",
     "text": [
      "\\begin{pmatrix}\n",
      "1.566 \\\\\n",
      "0.811 \\\\\n",
      "1.566 \\\\\n",
      "1.566 \\\\\n",
      "\\end{pmatrix}\n"
     ]
    }
   ],
   "source": [
    "SimpleIterationMethod(A, b, x0, EPSILON)"
   ]
  },
  {
   "cell_type": "markdown",
   "metadata": {},
   "source": [
    "<div style=\"text-align: center; font-size: 24px;\">\n",
    "    <p>Задание 1.2</p>\n",
    "</div>"
   ]
  },
  {
   "cell_type": "code",
   "execution_count": 1550,
   "metadata": {},
   "outputs": [],
   "source": [
    "def GaussSeidelMethod(A, b, x0, EPSILON):\n",
    "    def chebushev(data):\n",
    "        return np.linalg.norm(data, np.inf)\n",
    "    \n",
    "    oldD = np.diagflat(1 / np.diagonal(A))\n",
    "    E = np.identity(len(A))\n",
    "    F = E - oldD @ A\n",
    "\n",
    "    normF = chebushev(F)\n",
    "    g = oldD @ b\n",
    "\n",
    "    B = np.tril(F)\n",
    "    newD = np.diagflat(np.diagonal(F))\n",
    "    Q = B - newD\n",
    "    P = F - Q\n",
    "\n",
    "    def mainRecursion(y, k):\n",
    "        # print(f'\\ncurrent y: {y}')\n",
    "        # print(f'current k: {k}')\n",
    "\n",
    "        print(f'\\n& k: {k} \\\\\\\\')\n",
    "        print(f'& y_{{({k})}}: {y} \\\\\\\\')\n",
    "\n",
    "        previousY = y\n",
    "        y = np.linalg.inv(E - Q) @ P @ previousY + np.linalg.inv(E - Q) @ g\n",
    "\n",
    "        # print(f'new y: {y}')\n",
    "        print(f'& y_{{({k + 1})}}: {y} \\\\\\\\')\n",
    "\n",
    "        if k > 0:\n",
    "            print(f'{chebushev(y - b)} <= {chebushev(F)**k / (1 - chebushev(F)) * chebushev(g) + chebushev(F)**k * chebushev(x0)}')\n",
    "            print(f'{chebushev(y - b)} <= {chebushev(F) * chebushev(previousY - b)}')\n",
    "            print(f'{chebushev(y - previousY)} <= {EPSILON}')\n",
    "\n",
    "            firstCheck  = chebushev(y - b) <= (chebushev(F)**k / (1 - chebushev(F)) * chebushev(g) + chebushev(F)**k * chebushev(x0))\n",
    "            secondCheck = chebushev(y - b) <= (chebushev(F) * chebushev(previousY - b))\n",
    "            thirdCheck  = chebushev(y - previousY) < EPSILON\n",
    "\n",
    "            print(f'checks: [{firstCheck}, {secondCheck}, {thirdCheck}]')\n",
    "\n",
    "            if not any([firstCheck, secondCheck, thirdCheck]):\n",
    "                return mainRecursion(y, k + 1)\n",
    "            else:\n",
    "                return previousY\n",
    "        else:\n",
    "            return mainRecursion(y, k + 1)\n",
    "    \n",
    "    y = mainRecursion(x0, 0)\n",
    "    print(f'result: {y}')\n",
    "\n",
    "\n",
    "\n",
    "\n",
    "\n",
    "\n",
    "\n",
    "    data = []\n",
    "    info = []\n",
    "\n",
    "    data.extend([A, oldD, E, F, B, newD, Q, P])\n",
    "    info.extend([{'name': 'A', 'type': 'matrix'}, \n",
    "                 {'name': 'D1', 'type': 'matrix'},\n",
    "                 {'name': 'E', 'type': 'matrix'},\n",
    "                 {'name': 'F', 'type': 'matrix'}, \n",
    "                 {'name': 'B', 'type': 'matrix'},\n",
    "                 {'name': 'D2', 'type': 'matrix'},\n",
    "                 {'name': 'Q', 'type': 'matrix'},\n",
    "                 {'name': 'P', 'type': 'matrix'}])\n",
    "\n",
    "    data.append(normF)\n",
    "    info.append({'name': 'F norm', 'type': ''})\n",
    "\n",
    "    data.append(g)\n",
    "    info.append({'name': 'g', 'type': 'cvector'})\n",
    "\n",
    "    std_cout(data, info, PRECISION=PRECISION)\n"
   ]
  },
  {
   "cell_type": "code",
   "execution_count": 1551,
   "metadata": {},
   "outputs": [
    {
     "name": "stdout",
     "output_type": "stream",
     "text": [
      "\n",
      "& k: 0 \\\\\n",
      "& y_{(0)}: [0. 0. 0. 0.] \\\\\n",
      "& y_{(1)}: [1.566 0.959 0.999 0.848] \\\\\n",
      "\n",
      "& k: 1 \\\\\n",
      "& y_{(1)}: [1.566 0.959 0.999 0.848] \\\\\n",
      "& y_{(2)}: [1.047 1.033 0.996 0.981] \\\\\n",
      "15.619201223578232 <= 2.0426579163248575\n",
      "15.619201223578232 <= 8.916448575881713\n",
      "0.5188807833469409 <= 0.01\n",
      "checks: [False, False, False]\n",
      "\n",
      "& k: 2 \\\\\n",
      "& y_{(2)}: [1.047 1.033 0.996 0.981] \\\\\n",
      "& y_{(3)}: [1.003 1.003 1.    0.999] \\\\\n",
      "15.601437229300851 <= 1.1562214620706743\n",
      "15.601437229300851 <= 8.841057296365038\n",
      "0.04410560814660225 <= 0.01\n",
      "checks: [False, False, False]\n",
      "\n",
      "& k: 3 \\\\\n",
      "& y_{(3)}: [1.003 1.003 1.    0.999] \\\\\n",
      "& y_{(4)}: [1. 1. 1. 1.] \\\\\n",
      "15.600093048035498 <= 0.6544649785305705\n",
      "15.600093048035498 <= 8.831002205264634\n",
      "0.0029932562017636055 <= 0.01\n",
      "checks: [False, False, True]\n",
      "result: [1.003 1.003 1.    0.999]\n"
     ]
    },
    {
     "data": {
      "text/html": [
       "<div style=\"text-align: center; font-size: 24px;\"><p>Matrix A</p></div>"
      ],
      "text/plain": [
       "<IPython.core.display.HTML object>"
      ]
     },
     "metadata": {},
     "output_type": "display_data"
    },
    {
     "data": {
      "text/html": [
       "<table style='border-collapse: collapse; width: 50%; margin: auto;'><tr><td style='border: 1px solid black; padding: 10px; text-align: center;'>10.6</td><td style='border: 1px solid black; padding: 10px; text-align: center;'>1.0</td><td style='border: 1px solid black; padding: 10px; text-align: center;'>2.0</td><td style='border: 1px solid black; padding: 10px; text-align: center;'>3.0</td></tr><tr><td style='border: 1px solid black; padding: 10px; text-align: center;'>-1.0</td><td style='border: 1px solid black; padding: 10px; text-align: center;'>10.6</td><td style='border: 1px solid black; padding: 10px; text-align: center;'>-3.0</td><td style='border: 1px solid black; padding: 10px; text-align: center;'>2.0</td></tr><tr><td style='border: 1px solid black; padding: 10px; text-align: center;'>2.0</td><td style='border: 1px solid black; padding: 10px; text-align: center;'>3.0</td><td style='border: 1px solid black; padding: 10px; text-align: center;'>10.6</td><td style='border: 1px solid black; padding: 10px; text-align: center;'>1.0</td></tr><tr><td style='border: 1px solid black; padding: 10px; text-align: center;'>3.0</td><td style='border: 1px solid black; padding: 10px; text-align: center;'>2.0</td><td style='border: 1px solid black; padding: 10px; text-align: center;'>1.0</td><td style='border: 1px solid black; padding: 10px; text-align: center;'>10.6</td></tr></table>"
      ],
      "text/plain": [
       "<IPython.core.display.HTML object>"
      ]
     },
     "metadata": {},
     "output_type": "display_data"
    },
    {
     "name": "stdout",
     "output_type": "stream",
     "text": [
      "\\begin{pmatrix}\n",
      "10.6 & 1.0 & 2.0 & 3.0 \\\\\n",
      "-1.0 & 10.6 & -3.0 & 2.0 \\\\\n",
      "2.0 & 3.0 & 10.6 & 1.0 \\\\\n",
      "3.0 & 2.0 & 1.0 & 10.6 \\\\\n",
      "\\end{pmatrix}\n"
     ]
    },
    {
     "data": {
      "text/html": [
       "<div style=\"text-align: center; font-size: 24px;\"><p>Matrix D1</p></div>"
      ],
      "text/plain": [
       "<IPython.core.display.HTML object>"
      ]
     },
     "metadata": {},
     "output_type": "display_data"
    },
    {
     "data": {
      "text/html": [
       "<table style='border-collapse: collapse; width: 50%; margin: auto;'><tr><td style='border: 1px solid black; padding: 10px; text-align: center;'>0.094</td><td style='border: 1px solid black; padding: 10px; text-align: center;'>0.0</td><td style='border: 1px solid black; padding: 10px; text-align: center;'>0.0</td><td style='border: 1px solid black; padding: 10px; text-align: center;'>0.0</td></tr><tr><td style='border: 1px solid black; padding: 10px; text-align: center;'>0.0</td><td style='border: 1px solid black; padding: 10px; text-align: center;'>0.094</td><td style='border: 1px solid black; padding: 10px; text-align: center;'>0.0</td><td style='border: 1px solid black; padding: 10px; text-align: center;'>0.0</td></tr><tr><td style='border: 1px solid black; padding: 10px; text-align: center;'>0.0</td><td style='border: 1px solid black; padding: 10px; text-align: center;'>0.0</td><td style='border: 1px solid black; padding: 10px; text-align: center;'>0.094</td><td style='border: 1px solid black; padding: 10px; text-align: center;'>0.0</td></tr><tr><td style='border: 1px solid black; padding: 10px; text-align: center;'>0.0</td><td style='border: 1px solid black; padding: 10px; text-align: center;'>0.0</td><td style='border: 1px solid black; padding: 10px; text-align: center;'>0.0</td><td style='border: 1px solid black; padding: 10px; text-align: center;'>0.094</td></tr></table>"
      ],
      "text/plain": [
       "<IPython.core.display.HTML object>"
      ]
     },
     "metadata": {},
     "output_type": "display_data"
    },
    {
     "name": "stdout",
     "output_type": "stream",
     "text": [
      "\\begin{pmatrix}\n",
      "0.094 & 0.0 & 0.0 & 0.0 \\\\\n",
      "0.0 & 0.094 & 0.0 & 0.0 \\\\\n",
      "0.0 & 0.0 & 0.094 & 0.0 \\\\\n",
      "0.0 & 0.0 & 0.0 & 0.094 \\\\\n",
      "\\end{pmatrix}\n"
     ]
    },
    {
     "data": {
      "text/html": [
       "<div style=\"text-align: center; font-size: 24px;\"><p>Matrix E</p></div>"
      ],
      "text/plain": [
       "<IPython.core.display.HTML object>"
      ]
     },
     "metadata": {},
     "output_type": "display_data"
    },
    {
     "data": {
      "text/html": [
       "<table style='border-collapse: collapse; width: 50%; margin: auto;'><tr><td style='border: 1px solid black; padding: 10px; text-align: center;'>1.0</td><td style='border: 1px solid black; padding: 10px; text-align: center;'>0.0</td><td style='border: 1px solid black; padding: 10px; text-align: center;'>0.0</td><td style='border: 1px solid black; padding: 10px; text-align: center;'>0.0</td></tr><tr><td style='border: 1px solid black; padding: 10px; text-align: center;'>0.0</td><td style='border: 1px solid black; padding: 10px; text-align: center;'>1.0</td><td style='border: 1px solid black; padding: 10px; text-align: center;'>0.0</td><td style='border: 1px solid black; padding: 10px; text-align: center;'>0.0</td></tr><tr><td style='border: 1px solid black; padding: 10px; text-align: center;'>0.0</td><td style='border: 1px solid black; padding: 10px; text-align: center;'>0.0</td><td style='border: 1px solid black; padding: 10px; text-align: center;'>1.0</td><td style='border: 1px solid black; padding: 10px; text-align: center;'>0.0</td></tr><tr><td style='border: 1px solid black; padding: 10px; text-align: center;'>0.0</td><td style='border: 1px solid black; padding: 10px; text-align: center;'>0.0</td><td style='border: 1px solid black; padding: 10px; text-align: center;'>0.0</td><td style='border: 1px solid black; padding: 10px; text-align: center;'>1.0</td></tr></table>"
      ],
      "text/plain": [
       "<IPython.core.display.HTML object>"
      ]
     },
     "metadata": {},
     "output_type": "display_data"
    },
    {
     "name": "stdout",
     "output_type": "stream",
     "text": [
      "\\begin{pmatrix}\n",
      "1.0 & 0.0 & 0.0 & 0.0 \\\\\n",
      "0.0 & 1.0 & 0.0 & 0.0 \\\\\n",
      "0.0 & 0.0 & 1.0 & 0.0 \\\\\n",
      "0.0 & 0.0 & 0.0 & 1.0 \\\\\n",
      "\\end{pmatrix}\n"
     ]
    },
    {
     "data": {
      "text/html": [
       "<div style=\"text-align: center; font-size: 24px;\"><p>Matrix F</p></div>"
      ],
      "text/plain": [
       "<IPython.core.display.HTML object>"
      ]
     },
     "metadata": {},
     "output_type": "display_data"
    },
    {
     "data": {
      "text/html": [
       "<table style='border-collapse: collapse; width: 50%; margin: auto;'><tr><td style='border: 1px solid black; padding: 10px; text-align: center;'>0.0</td><td style='border: 1px solid black; padding: 10px; text-align: center;'>-0.094</td><td style='border: 1px solid black; padding: 10px; text-align: center;'>-0.189</td><td style='border: 1px solid black; padding: 10px; text-align: center;'>-0.283</td></tr><tr><td style='border: 1px solid black; padding: 10px; text-align: center;'>0.094</td><td style='border: 1px solid black; padding: 10px; text-align: center;'>0.0</td><td style='border: 1px solid black; padding: 10px; text-align: center;'>0.283</td><td style='border: 1px solid black; padding: 10px; text-align: center;'>-0.189</td></tr><tr><td style='border: 1px solid black; padding: 10px; text-align: center;'>-0.189</td><td style='border: 1px solid black; padding: 10px; text-align: center;'>-0.283</td><td style='border: 1px solid black; padding: 10px; text-align: center;'>0.0</td><td style='border: 1px solid black; padding: 10px; text-align: center;'>-0.094</td></tr><tr><td style='border: 1px solid black; padding: 10px; text-align: center;'>-0.283</td><td style='border: 1px solid black; padding: 10px; text-align: center;'>-0.189</td><td style='border: 1px solid black; padding: 10px; text-align: center;'>-0.094</td><td style='border: 1px solid black; padding: 10px; text-align: center;'>0.0</td></tr></table>"
      ],
      "text/plain": [
       "<IPython.core.display.HTML object>"
      ]
     },
     "metadata": {},
     "output_type": "display_data"
    },
    {
     "name": "stdout",
     "output_type": "stream",
     "text": [
      "\\begin{pmatrix}\n",
      "0.0 & -0.094 & -0.189 & -0.283 \\\\\n",
      "0.094 & 0.0 & 0.283 & -0.189 \\\\\n",
      "-0.189 & -0.283 & 0.0 & -0.094 \\\\\n",
      "-0.283 & -0.189 & -0.094 & 0.0 \\\\\n",
      "\\end{pmatrix}\n"
     ]
    },
    {
     "data": {
      "text/html": [
       "<div style=\"text-align: center; font-size: 24px;\"><p>Matrix B</p></div>"
      ],
      "text/plain": [
       "<IPython.core.display.HTML object>"
      ]
     },
     "metadata": {},
     "output_type": "display_data"
    },
    {
     "data": {
      "text/html": [
       "<table style='border-collapse: collapse; width: 50%; margin: auto;'><tr><td style='border: 1px solid black; padding: 10px; text-align: center;'>0.0</td><td style='border: 1px solid black; padding: 10px; text-align: center;'>0.0</td><td style='border: 1px solid black; padding: 10px; text-align: center;'>0.0</td><td style='border: 1px solid black; padding: 10px; text-align: center;'>0.0</td></tr><tr><td style='border: 1px solid black; padding: 10px; text-align: center;'>0.094</td><td style='border: 1px solid black; padding: 10px; text-align: center;'>0.0</td><td style='border: 1px solid black; padding: 10px; text-align: center;'>0.0</td><td style='border: 1px solid black; padding: 10px; text-align: center;'>0.0</td></tr><tr><td style='border: 1px solid black; padding: 10px; text-align: center;'>-0.189</td><td style='border: 1px solid black; padding: 10px; text-align: center;'>-0.283</td><td style='border: 1px solid black; padding: 10px; text-align: center;'>0.0</td><td style='border: 1px solid black; padding: 10px; text-align: center;'>0.0</td></tr><tr><td style='border: 1px solid black; padding: 10px; text-align: center;'>-0.283</td><td style='border: 1px solid black; padding: 10px; text-align: center;'>-0.189</td><td style='border: 1px solid black; padding: 10px; text-align: center;'>-0.094</td><td style='border: 1px solid black; padding: 10px; text-align: center;'>0.0</td></tr></table>"
      ],
      "text/plain": [
       "<IPython.core.display.HTML object>"
      ]
     },
     "metadata": {},
     "output_type": "display_data"
    },
    {
     "name": "stdout",
     "output_type": "stream",
     "text": [
      "\\begin{pmatrix}\n",
      "0.0 & 0.0 & 0.0 & 0.0 \\\\\n",
      "0.094 & 0.0 & 0.0 & 0.0 \\\\\n",
      "-0.189 & -0.283 & 0.0 & 0.0 \\\\\n",
      "-0.283 & -0.189 & -0.094 & 0.0 \\\\\n",
      "\\end{pmatrix}\n"
     ]
    },
    {
     "data": {
      "text/html": [
       "<div style=\"text-align: center; font-size: 24px;\"><p>Matrix D2</p></div>"
      ],
      "text/plain": [
       "<IPython.core.display.HTML object>"
      ]
     },
     "metadata": {},
     "output_type": "display_data"
    },
    {
     "data": {
      "text/html": [
       "<table style='border-collapse: collapse; width: 50%; margin: auto;'><tr><td style='border: 1px solid black; padding: 10px; text-align: center;'>0.0</td><td style='border: 1px solid black; padding: 10px; text-align: center;'>0.0</td><td style='border: 1px solid black; padding: 10px; text-align: center;'>0.0</td><td style='border: 1px solid black; padding: 10px; text-align: center;'>0.0</td></tr><tr><td style='border: 1px solid black; padding: 10px; text-align: center;'>0.0</td><td style='border: 1px solid black; padding: 10px; text-align: center;'>0.0</td><td style='border: 1px solid black; padding: 10px; text-align: center;'>0.0</td><td style='border: 1px solid black; padding: 10px; text-align: center;'>0.0</td></tr><tr><td style='border: 1px solid black; padding: 10px; text-align: center;'>0.0</td><td style='border: 1px solid black; padding: 10px; text-align: center;'>0.0</td><td style='border: 1px solid black; padding: 10px; text-align: center;'>0.0</td><td style='border: 1px solid black; padding: 10px; text-align: center;'>0.0</td></tr><tr><td style='border: 1px solid black; padding: 10px; text-align: center;'>0.0</td><td style='border: 1px solid black; padding: 10px; text-align: center;'>0.0</td><td style='border: 1px solid black; padding: 10px; text-align: center;'>0.0</td><td style='border: 1px solid black; padding: 10px; text-align: center;'>0.0</td></tr></table>"
      ],
      "text/plain": [
       "<IPython.core.display.HTML object>"
      ]
     },
     "metadata": {},
     "output_type": "display_data"
    },
    {
     "name": "stdout",
     "output_type": "stream",
     "text": [
      "\\begin{pmatrix}\n",
      "0.0 & 0.0 & 0.0 & 0.0 \\\\\n",
      "0.0 & 0.0 & 0.0 & 0.0 \\\\\n",
      "0.0 & 0.0 & 0.0 & 0.0 \\\\\n",
      "0.0 & 0.0 & 0.0 & 0.0 \\\\\n",
      "\\end{pmatrix}\n"
     ]
    },
    {
     "data": {
      "text/html": [
       "<div style=\"text-align: center; font-size: 24px;\"><p>Matrix Q</p></div>"
      ],
      "text/plain": [
       "<IPython.core.display.HTML object>"
      ]
     },
     "metadata": {},
     "output_type": "display_data"
    },
    {
     "data": {
      "text/html": [
       "<table style='border-collapse: collapse; width: 50%; margin: auto;'><tr><td style='border: 1px solid black; padding: 10px; text-align: center;'>0.0</td><td style='border: 1px solid black; padding: 10px; text-align: center;'>0.0</td><td style='border: 1px solid black; padding: 10px; text-align: center;'>0.0</td><td style='border: 1px solid black; padding: 10px; text-align: center;'>0.0</td></tr><tr><td style='border: 1px solid black; padding: 10px; text-align: center;'>0.094</td><td style='border: 1px solid black; padding: 10px; text-align: center;'>0.0</td><td style='border: 1px solid black; padding: 10px; text-align: center;'>0.0</td><td style='border: 1px solid black; padding: 10px; text-align: center;'>0.0</td></tr><tr><td style='border: 1px solid black; padding: 10px; text-align: center;'>-0.189</td><td style='border: 1px solid black; padding: 10px; text-align: center;'>-0.283</td><td style='border: 1px solid black; padding: 10px; text-align: center;'>0.0</td><td style='border: 1px solid black; padding: 10px; text-align: center;'>0.0</td></tr><tr><td style='border: 1px solid black; padding: 10px; text-align: center;'>-0.283</td><td style='border: 1px solid black; padding: 10px; text-align: center;'>-0.189</td><td style='border: 1px solid black; padding: 10px; text-align: center;'>-0.094</td><td style='border: 1px solid black; padding: 10px; text-align: center;'>0.0</td></tr></table>"
      ],
      "text/plain": [
       "<IPython.core.display.HTML object>"
      ]
     },
     "metadata": {},
     "output_type": "display_data"
    },
    {
     "name": "stdout",
     "output_type": "stream",
     "text": [
      "\\begin{pmatrix}\n",
      "0.0 & 0.0 & 0.0 & 0.0 \\\\\n",
      "0.094 & 0.0 & 0.0 & 0.0 \\\\\n",
      "-0.189 & -0.283 & 0.0 & 0.0 \\\\\n",
      "-0.283 & -0.189 & -0.094 & 0.0 \\\\\n",
      "\\end{pmatrix}\n"
     ]
    },
    {
     "data": {
      "text/html": [
       "<div style=\"text-align: center; font-size: 24px;\"><p>Matrix P</p></div>"
      ],
      "text/plain": [
       "<IPython.core.display.HTML object>"
      ]
     },
     "metadata": {},
     "output_type": "display_data"
    },
    {
     "data": {
      "text/html": [
       "<table style='border-collapse: collapse; width: 50%; margin: auto;'><tr><td style='border: 1px solid black; padding: 10px; text-align: center;'>0.0</td><td style='border: 1px solid black; padding: 10px; text-align: center;'>-0.094</td><td style='border: 1px solid black; padding: 10px; text-align: center;'>-0.189</td><td style='border: 1px solid black; padding: 10px; text-align: center;'>-0.283</td></tr><tr><td style='border: 1px solid black; padding: 10px; text-align: center;'>0.0</td><td style='border: 1px solid black; padding: 10px; text-align: center;'>0.0</td><td style='border: 1px solid black; padding: 10px; text-align: center;'>0.283</td><td style='border: 1px solid black; padding: 10px; text-align: center;'>-0.189</td></tr><tr><td style='border: 1px solid black; padding: 10px; text-align: center;'>0.0</td><td style='border: 1px solid black; padding: 10px; text-align: center;'>0.0</td><td style='border: 1px solid black; padding: 10px; text-align: center;'>0.0</td><td style='border: 1px solid black; padding: 10px; text-align: center;'>-0.094</td></tr><tr><td style='border: 1px solid black; padding: 10px; text-align: center;'>0.0</td><td style='border: 1px solid black; padding: 10px; text-align: center;'>0.0</td><td style='border: 1px solid black; padding: 10px; text-align: center;'>0.0</td><td style='border: 1px solid black; padding: 10px; text-align: center;'>0.0</td></tr></table>"
      ],
      "text/plain": [
       "<IPython.core.display.HTML object>"
      ]
     },
     "metadata": {},
     "output_type": "display_data"
    },
    {
     "name": "stdout",
     "output_type": "stream",
     "text": [
      "\\begin{pmatrix}\n",
      "0.0 & -0.094 & -0.189 & -0.283 \\\\\n",
      "0.0 & 0.0 & 0.283 & -0.189 \\\\\n",
      "0.0 & 0.0 & 0.0 & -0.094 \\\\\n",
      "0.0 & 0.0 & 0.0 & 0.0 \\\\\n",
      "\\end{pmatrix}\n"
     ]
    },
    {
     "data": {
      "text/html": [
       "<div style=\"text-align: center; font-size: 24px;\"><p>F norm</p></div>"
      ],
      "text/plain": [
       "<IPython.core.display.HTML object>"
      ]
     },
     "metadata": {},
     "output_type": "display_data"
    },
    {
     "data": {
      "text/html": [
       "<div style=\"text-align: center; font-size: 24px;\"><p>0.566</p></div>"
      ],
      "text/plain": [
       "<IPython.core.display.HTML object>"
      ]
     },
     "metadata": {},
     "output_type": "display_data"
    },
    {
     "data": {
      "text/html": [
       "<div style=\"text-align: center; font-size: 24px;\"><p>Vector g</p></div>"
      ],
      "text/plain": [
       "<IPython.core.display.HTML object>"
      ]
     },
     "metadata": {},
     "output_type": "display_data"
    },
    {
     "data": {
      "text/html": [
       "<table style='border-collapse: collapse; margin: auto;'><tr><td style='border: 1px solid black; padding: 10px; text-align: center;'>1.566</td></tr><tr><td style='border: 1px solid black; padding: 10px; text-align: center;'>0.811</td></tr><tr><td style='border: 1px solid black; padding: 10px; text-align: center;'>1.566</td></tr><tr><td style='border: 1px solid black; padding: 10px; text-align: center;'>1.566</td></tr></table>"
      ],
      "text/plain": [
       "<IPython.core.display.HTML object>"
      ]
     },
     "metadata": {},
     "output_type": "display_data"
    },
    {
     "name": "stdout",
     "output_type": "stream",
     "text": [
      "\\begin{pmatrix}\n",
      "1.566 \\\\\n",
      "0.811 \\\\\n",
      "1.566 \\\\\n",
      "1.566 \\\\\n",
      "\\end{pmatrix}\n"
     ]
    }
   ],
   "source": [
    "GaussSeidelMethod(A, b, x0, EPSILON)"
   ]
  },
  {
   "cell_type": "markdown",
   "metadata": {},
   "source": [
    "<div style=\"text-align: center; font-size: 24px;\">\n",
    "    <p>Задание 2.1</p>\n",
    "</div>"
   ]
  },
  {
   "cell_type": "code",
   "execution_count": 1552,
   "metadata": {},
   "outputs": [],
   "source": [
    "N       = 9\n",
    "n       = 52\n",
    "alpha   = 0.003 * (n - 50)\n",
    "EPSILON = 0.0001\n",
    "\n",
    "def polynomial(x):\n",
    "    return (N + 5.2 + (-1)**N * alpha) * x**3 - (2 * N**2 + 10.4 * N + (-1)**(N+1) * alpha) * x**2 - N**2 * (N + 5.2) * (x - 2 * N) + (-1)**N * alpha"
   ]
  },
  {
   "cell_type": "code",
   "execution_count": 1553,
   "metadata": {},
   "outputs": [],
   "source": [
    "def drawPolynomial(roots = None):\n",
    "    # Generate a range of x-values\n",
    "    x = np.linspace(-20, 25, 400)  # 400 points between -10 and 10\n",
    "\n",
    "    # Calculate the corresponding y-values\n",
    "    y = polynomial(x)\n",
    "\n",
    "    # Create the plot\n",
    "    plt.figure(figsize=(10, 6))\n",
    "    plt.plot(x, y)\n",
    "    # Add a horizontal line at y=0 to visualize the roots\n",
    "    plt.axhline(0, color='black',linewidth=0.5)\n",
    "    plt.axvline(0, color='black',linewidth=0.5)\n",
    "\n",
    "    if roots is not None:\n",
    "        for root in roots:\n",
    "            plt.axvline(root, color='red',linewidth=0.5)\n",
    "\n",
    "    # Add grid for better visualization\n",
    "    plt.grid(color = 'gray', linestyle = '--', linewidth = 0.5)\n",
    "\n",
    "    # Add labels and title\n",
    "    plt.xlabel('x')\n",
    "    plt.ylabel('y')\n",
    "    plt.title(f'Plot of the polynomial \\\n",
    "            $ y = \\\n",
    "            {round(N + 5.2 + (-1)**N * alpha, PRECISION)} \\\\cdot x^3 - \\\n",
    "            {round(2 * N**2 + 10.4 * N + (-1)**(N+1) * alpha, PRECISION)} \\\\cdot x^2 - \\\n",
    "            {round(N**2 * (N + 5.2), PRECISION)} \\\\cdot x + \\\n",
    "            {round(-(N**2 * (N + 5.2)) * -(2 * N) + ((-1)**N * alpha), PRECISION)}$')\n",
    "\n",
    "    plt.xlim(-20, 25)\n",
    "    plt.ylim(-200000, 150000)\n",
    "\n",
    "    # Add legend\n",
    "    plt.legend()\n",
    "\n",
    "    # Show the plot\n",
    "    plt.show()"
   ]
  },
  {
   "cell_type": "code",
   "execution_count": 1554,
   "metadata": {},
   "outputs": [
    {
     "name": "stderr",
     "output_type": "stream",
     "text": [
      "No artists with labels found to put in legend.  Note that artists whose label start with an underscore are ignored when legend() is called with no argument.\n"
     ]
    },
    {
     "data": {
      "image/png": "[encoded data removed]",
      "text/plain": [
       "<Figure size 1000x600 with 1 Axes>"
      ]
     },
     "metadata": {},
     "output_type": "display_data"
    }
   ],
   "source": [
    "drawPolynomial()"
   ]
  },
  {
   "cell_type": "code",
   "execution_count": 1555,
   "metadata": {},
   "outputs": [
    {
     "name": "stdout",
     "output_type": "stream",
     "text": [
      "Roots of the polynomial: [-9.000562591621339, 8.997886402334267, 18.010707751918982]\n"
     ]
    }
   ],
   "source": [
    "initial_guesses = [-10, 10, 17.5]\n",
    "\n",
    "solutions = []\n",
    "for guess in initial_guesses:\n",
    "    sol = root(polynomial, guess)\n",
    "    solutions.append(sol.x[0])\n",
    "\n",
    "print(\"Roots of the polynomial:\", solutions)"
   ]
  },
  {
   "cell_type": "code",
   "execution_count": 1556,
   "metadata": {},
   "outputs": [
    {
     "name": "stderr",
     "output_type": "stream",
     "text": [
      "No artists with labels found to put in legend.  Note that artists whose label start with an underscore are ignored when legend() is called with no argument.\n"
     ]
    },
    {
     "data": {
      "image/png": "[encoded data removed]",
      "text/plain": [
       "<Figure size 1000x600 with 1 Axes>"
      ]
     },
     "metadata": {},
     "output_type": "display_data"
    }
   ],
   "source": [
    "drawPolynomial(roots=solutions)"
   ]
  },
  {
   "cell_type": "markdown",
   "metadata": {},
   "source": [
    "<div style=\"text-align: center; font-size: 24px;\">\n",
    "    <p>Метод Ньютона</p>\n",
    "</div>"
   ]
  },
  {
   "cell_type": "code",
   "execution_count": 1557,
   "metadata": {},
   "outputs": [],
   "source": [
    "PRECISION = 5\n",
    "\n",
    "def NewtonRaphsonMethod(polynomial, x0, EPSILON):\n",
    "    def finite_differences(f, x, h=1e-6):\n",
    "        return (f(x + h) - f(x - h)) / (2 * h)\n",
    "\n",
    "    def mainRecursion(x, k):\n",
    "\n",
    "        print(f'\\n& k: {k} \\\\\\\\')\n",
    "        print(f'& x_{{({k})}}: {round(x, PRECISION)} \\\\\\\\')\n",
    "\n",
    "        previousX = x\n",
    "        x = previousX - finite_differences(polynomial, previousX)**-1 * polynomial(previousX)\n",
    "\n",
    "        print(f'& x_{{({k + 1})}}: {round(x, PRECISION)} \\\\\\\\')\n",
    "\n",
    "        if k > 0:\n",
    "            check = abs(x - previousX) < EPSILON\n",
    "\n",
    "            print(f'{(abs(round(x - previousX, PRECISION + 5)))} < {EPSILON}') if check else print(f'{(abs(round(x - previousX, PRECISION + 5)))} > {EPSILON}')\n",
    "\n",
    "            print(f'check: {check}')\n",
    "\n",
    "            if not check:\n",
    "                return mainRecursion(x, k + 1)\n",
    "            else:\n",
    "                return previousX\n",
    "        else:\n",
    "            return mainRecursion(x, k + 1)\n",
    "    \n",
    "    x = mainRecursion(x0, 0)\n",
    "    print(f'result: {round(x, PRECISION)}')\n"
   ]
  },
  {
   "cell_type": "code",
   "execution_count": 1558,
   "metadata": {},
   "outputs": [
    {
     "name": "stdout",
     "output_type": "stream",
     "text": [
      "\n",
      "& k: 0 \\\\\n",
      "& x_{(0)}: -10 \\\\\n",
      "& x_{(1)}: -9.08164 \\\\\n",
      "\n",
      "& k: 1 \\\\\n",
      "& x_{(1)}: -9.08164 \\\\\n",
      "& x_{(2)}: -9.00116 \\\\\n",
      "0.0804784867 > 0.0001\n",
      "check: False\n",
      "\n",
      "& k: 2 \\\\\n",
      "& x_{(2)}: -9.00116 \\\\\n",
      "& x_{(3)}: -9.00056 \\\\\n",
      "0.0006017347 > 0.0001\n",
      "check: False\n",
      "\n",
      "& k: 3 \\\\\n",
      "& x_{(3)}: -9.00056 \\\\\n",
      "& x_{(4)}: -9.00056 \\\\\n",
      "3.35e-08 < 0.0001\n",
      "check: True\n",
      "result: -9.00056\n"
     ]
    }
   ],
   "source": [
    "NewtonRaphsonMethod(polynomial, -10, EPSILON)"
   ]
  },
  {
   "cell_type": "markdown",
   "metadata": {},
   "source": [
    "<div style=\"text-align: center; font-size: 24px;\">\n",
    "    <p>Метод секущих</p>\n",
    "</div>"
   ]
  },
  {
   "cell_type": "code",
   "execution_count": 1559,
   "metadata": {},
   "outputs": [],
   "source": [
    "def SecantMethod(polynomial, segment, EPSILON):\n",
    "    a = segment[0]\n",
    "    b = segment[1]\n",
    "\n",
    "    fa = polynomial(a)\n",
    "    fb = polynomial(b)\n",
    "\n",
    "    x0 = a\n",
    "\n",
    "    def mainRecursion(x, k):\n",
    "\n",
    "        print(f'\\n& k: {k} \\\\\\\\')\n",
    "        print(f'& x_{{({k})}}: {round(x, PRECISION)} \\\\\\\\')\n",
    "\n",
    "        previousX = x\n",
    "        x = previousX - ((b - previousX) * polynomial(previousX))/(fb - polynomial(previousX))\n",
    "\n",
    "        print(f'& x_{{({k + 1})}}: {round(x, PRECISION)} \\\\\\\\')\n",
    "\n",
    "        if k > 0:\n",
    "            check = abs(x - previousX) < EPSILON\n",
    "\n",
    "            print(f'& {(abs(round(x - previousX, PRECISION)))} < {EPSILON}') if check else print(f'& {(abs(round(x - previousX, PRECISION)))} > {EPSILON}')\n",
    "\n",
    "            print(f'check: {check}')\n",
    "\n",
    "            if not check:\n",
    "                return mainRecursion(x, k + 1)\n",
    "            else:\n",
    "                return previousX\n",
    "        else:\n",
    "            return mainRecursion(x, k + 1)\n",
    "    \n",
    "    x = mainRecursion(x0, 0)\n",
    "    print(f'result: {round(x, PRECISION)}')"
   ]
  },
  {
   "cell_type": "code",
   "execution_count": 1560,
   "metadata": {},
   "outputs": [
    {
     "name": "stdout",
     "output_type": "stream",
     "text": [
      "\n",
      "& k: 0 \\\\\n",
      "& x_{(0)}: 15 \\\\\n",
      "& x_{(1)}: 17.02965 \\\\\n",
      "\n",
      "& k: 1 \\\\\n",
      "& x_{(1)}: 17.02965 \\\\\n",
      "& x_{(2)}: 17.75509 \\\\\n",
      "& 0.72544 > 0.0001\n",
      "check: False\n",
      "\n",
      "& k: 2 \\\\\n",
      "& x_{(2)}: 17.75509 \\\\\n",
      "& x_{(3)}: 17.94866 \\\\\n",
      "& 0.19357 > 0.0001\n",
      "check: False\n",
      "\n",
      "& k: 3 \\\\\n",
      "& x_{(3)}: 17.94866 \\\\\n",
      "& x_{(4)}: 17.99592 \\\\\n",
      "& 0.04726 > 0.0001\n",
      "check: False\n",
      "\n",
      "& k: 4 \\\\\n",
      "& x_{(4)}: 17.99592 \\\\\n",
      "& x_{(5)}: 18.0072 \\\\\n",
      "& 0.01128 > 0.0001\n",
      "check: False\n",
      "\n",
      "& k: 5 \\\\\n",
      "& x_{(5)}: 18.0072 \\\\\n",
      "& x_{(6)}: 18.00988 \\\\\n",
      "& 0.00268 > 0.0001\n",
      "check: False\n",
      "\n",
      "& k: 6 \\\\\n",
      "& x_{(6)}: 18.00988 \\\\\n",
      "& x_{(7)}: 18.01051 \\\\\n",
      "& 0.00063 > 0.0001\n",
      "check: False\n",
      "\n",
      "& k: 7 \\\\\n",
      "& x_{(7)}: 18.01051 \\\\\n",
      "& x_{(8)}: 18.01066 \\\\\n",
      "& 0.00015 > 0.0001\n",
      "check: False\n",
      "\n",
      "& k: 8 \\\\\n",
      "& x_{(8)}: 18.01066 \\\\\n",
      "& x_{(9)}: 18.0107 \\\\\n",
      "& 4e-05 < 0.0001\n",
      "check: True\n",
      "result: 18.01066\n"
     ]
    }
   ],
   "source": [
    "SecantMethod(polynomial, [15, 20], EPSILON)"
   ]
  },
  {
   "cell_type": "markdown",
   "metadata": {},
   "source": [
    "<div style=\"text-align: center; font-size: 24px;\">\n",
    "    <p>Метод деления отрезка пополам</p>\n",
    "</div>"
   ]
  },
  {
   "cell_type": "code",
   "execution_count": 1561,
   "metadata": {},
   "outputs": [],
   "source": [
    "def BisectionMethod(polynomial, segment, EPSILON, KMAX = 100000):\n",
    "    a = segment[0]\n",
    "    b = segment[1]\n",
    "\n",
    "    fa = polynomial(a)\n",
    "    fb = polynomial(b)\n",
    "\n",
    "    def mainRecursion(a, b, k):\n",
    "\n",
    "        print(f'\\n& k: {k} \\\\\\\\')\n",
    "\n",
    "        c = (a + b)/2\n",
    "        fc = polynomial(c)\n",
    "\n",
    "        print(f'& a: {round(a, PRECISION)} \\\\\\\\')\n",
    "        print(f'& b: {round(b, PRECISION)} \\\\\\\\')\n",
    "        print(f'& c: {round(c, PRECISION)} \\\\\\\\')\n",
    "        print(f'& f(c): {round(fc, PRECISION)} \\\\\\\\')\n",
    "\n",
    "        if k < KMAX:\n",
    "            check = (fc == 0) or (b - a)/2 < EPSILON \n",
    "\n",
    "            print(f'& {(abs(round((b - a)/2, PRECISION)))} < {EPSILON}') if check else print(f'& {(abs(round((b - a)/2, PRECISION)))} > {EPSILON}')\n",
    "            print(f'check: {check}')\n",
    "\n",
    "            if not check:\n",
    "                fa_sign = np.sign(fa)\n",
    "                fb_sign = np.sign(fb)\n",
    "                fc_sign = np.sign(fc)\n",
    "\n",
    "                if fc_sign == fa_sign:\n",
    "                    return mainRecursion(c, b, k + 1)\n",
    "                else:\n",
    "                    return mainRecursion(a, c, k + 1)\n",
    "            else:\n",
    "                return c\n",
    "        else:\n",
    "            return None\n",
    "    \n",
    "    x = mainRecursion(a, b, 0)\n",
    "    print(f'result: {round(x, PRECISION)}')"
   ]
  },
  {
   "cell_type": "code",
   "execution_count": 1562,
   "metadata": {},
   "outputs": [
    {
     "name": "stdout",
     "output_type": "stream",
     "text": [
      "\n",
      "& k: 0 \\\\\n",
      "& a: 5 \\\\\n",
      "& b: 10 \\\\\n",
      "& c: 7.5 \\\\\n",
      "& f(c): 3687.35025 \\\\\n",
      "& 2.5 > 0.0001\n",
      "check: False\n",
      "\n",
      "& k: 1 \\\\\n",
      "& a: 7.5 \\\\\n",
      "& b: 10 \\\\\n",
      "& c: 8.75 \\\\\n",
      "& f(c): 578.38072 \\\\\n",
      "& 1.25 > 0.0001\n",
      "check: False\n",
      "\n",
      "& k: 2 \\\\\n",
      "& a: 8.75 \\\\\n",
      "& b: 10 \\\\\n",
      "& c: 9.375 \\\\\n",
      "& f(c): -849.40649 \\\\\n",
      "& 0.625 > 0.0001\n",
      "check: False\n",
      "\n",
      "& k: 3 \\\\\n",
      "& a: 8.75 \\\\\n",
      "& b: 9.375 \\\\\n",
      "& c: 9.0625 \\\\\n",
      "& f(c): -148.23685 \\\\\n",
      "& 0.3125 > 0.0001\n",
      "check: False\n",
      "\n",
      "& k: 4 \\\\\n",
      "& a: 8.75 \\\\\n",
      "& b: 9.0625 \\\\\n",
      "& c: 8.90625 \\\\\n",
      "& f(c): 212.05338 \\\\\n",
      "& 0.15625 > 0.0001\n",
      "check: False\n",
      "\n",
      "& k: 5 \\\\\n",
      "& a: 8.90625 \\\\\n",
      "& b: 9.0625 \\\\\n",
      "& c: 8.98438 \\\\\n",
      "& f(c): 31.13332 \\\\\n",
      "& 0.07812 > 0.0001\n",
      "check: False\n",
      "\n",
      "& k: 6 \\\\\n",
      "& a: 8.98438 \\\\\n",
      "& b: 9.0625 \\\\\n",
      "& c: 9.02344 \\\\\n",
      "& f(c): -58.74804 \\\\\n",
      "& 0.03906 > 0.0001\n",
      "check: False\n",
      "\n",
      "& k: 7 \\\\\n",
      "& a: 8.98438 \\\\\n",
      "& b: 9.02344 \\\\\n",
      "& c: 9.00391 \\\\\n",
      "& f(c): -13.85611 \\\\\n",
      "& 0.01953 > 0.0001\n",
      "check: False\n",
      "\n",
      "& k: 8 \\\\\n",
      "& a: 8.98438 \\\\\n",
      "& b: 9.00391 \\\\\n",
      "& c: 8.99414 \\\\\n",
      "& f(c): 8.62646 \\\\\n",
      "& 0.00977 > 0.0001\n",
      "check: False\n",
      "\n",
      "& k: 9 \\\\\n",
      "& a: 8.99414 \\\\\n",
      "& b: 9.00391 \\\\\n",
      "& c: 8.99902 \\\\\n",
      "& f(c): -2.61786 \\\\\n",
      "& 0.00488 > 0.0001\n",
      "check: False\n",
      "\n",
      "& k: 10 \\\\\n",
      "& a: 8.99414 \\\\\n",
      "& b: 8.99902 \\\\\n",
      "& c: 8.99658 \\\\\n",
      "& f(c): 3.00354 \\\\\n",
      "& 0.00244 > 0.0001\n",
      "check: False\n",
      "\n",
      "& k: 11 \\\\\n",
      "& a: 8.99658 \\\\\n",
      "& b: 8.99902 \\\\\n",
      "& c: 8.9978 \\\\\n",
      "& f(c): 0.19265 \\\\\n",
      "& 0.00122 > 0.0001\n",
      "check: False\n",
      "\n",
      "& k: 12 \\\\\n",
      "& a: 8.9978 \\\\\n",
      "& b: 8.99902 \\\\\n",
      "& c: 8.99841 \\\\\n",
      "& f(c): -1.21266 \\\\\n",
      "& 0.00061 > 0.0001\n",
      "check: False\n",
      "\n",
      "& k: 13 \\\\\n",
      "& a: 8.9978 \\\\\n",
      "& b: 8.99841 \\\\\n",
      "& c: 8.99811 \\\\\n",
      "& f(c): -0.51002 \\\\\n",
      "& 0.00031 > 0.0001\n",
      "check: False\n",
      "\n",
      "& k: 14 \\\\\n",
      "& a: 8.9978 \\\\\n",
      "& b: 8.99811 \\\\\n",
      "& c: 8.99796 \\\\\n",
      "& f(c): -0.15869 \\\\\n",
      "& 0.00015 > 0.0001\n",
      "check: False\n",
      "\n",
      "& k: 15 \\\\\n",
      "& a: 8.9978 \\\\\n",
      "& b: 8.99796 \\\\\n",
      "& c: 8.99788 \\\\\n",
      "& f(c): 0.01698 \\\\\n",
      "& 8e-05 < 0.0001\n",
      "check: True\n",
      "result: 8.99788\n"
     ]
    }
   ],
   "source": [
    "BisectionMethod(polynomial, [5, 10], EPSILON)"
   ]
  }
 ],
 "metadata": {
  "kernelspec": {
   "display_name": "Python 3",
   "language": "python",
   "name": "python3"
  },
  "language_info": {
   "codemirror_mode": {
    "name": "ipython",
    "version": 3
   },
   "file_extension": ".py",
   "mimetype": "text/x-python",
   "name": "python",
   "nbconvert_exporter": "python",
   "pygments_lexer": "ipython3",
   "version": "3.11.9"
  }
 },
 "nbformat": 4,
 "nbformat_minor": 2
}
