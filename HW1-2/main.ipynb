{
 "cells": [
  {
   "cell_type": "code",
   "execution_count": 644,
   "metadata": {},
   "outputs": [],
   "source": [
    "import numpy as np\n",
    "import statsmodels.api as sm\n",
    "import copy\n",
    "from scipy.stats import t\n",
    "import matplotlib.pyplot as plt"
   ]
  },
  {
   "cell_type": "code",
   "execution_count": 645,
   "metadata": {},
   "outputs": [],
   "source": [
    "PRECISION = 5\n",
    "np.set_printoptions(suppress=True)"
   ]
  },
  {
   "cell_type": "code",
   "execution_count": 646,
   "metadata": {},
   "outputs": [],
   "source": [
    "def formatTabular(arr) -> None:\n",
    "    arr = np.array(arr)\n",
    "    # 1d array\n",
    "    if len(arr.shape) == 1:\n",
    "        for ind, el in enumerate(arr):\n",
    "            print(round(el, PRECISION), end=' & ') if ind != len(arr) - 1 \\\n",
    "                  else \\\n",
    "            print(round(el, PRECISION), end=' \\\\\\\\ \\n \\\\hline \\n')\n",
    "    # 2d array\n",
    "    elif len(arr.shape) == 2:\n",
    "        for row in arr:\n",
    "            for ind, el in enumerate(row):\n",
    "                print(round(el, PRECISION), end=' & ') if ind != len(row)- 1 \\\n",
    "                    else \\\n",
    "                print(round(el, PRECISION), end=' \\\\\\\\ \\n \\\\hline \\n')\n",
    "    \n",
    "    else:\n",
    "        raise Exception(\"Invalid array dimension\")"
   ]
  },
  {
   "cell_type": "code",
   "execution_count": 647,
   "metadata": {},
   "outputs": [],
   "source": [
    "data = \"\"\"\n",
    "1,158574 1,194067 1,745872 1,566271 1,825556 1,942503\n",
    "1,238868 1,913419 1,182653 1,044649 1,304209 1,924039\n",
    "1,564043 1,561357 1,070589 1,778954 1,226447 1,824122\n",
    "1,737266 1,798975 1,952239 1,752281 1,247871 1,54796\n",
    "1,364544 1,03122 1,380596 1,688101 1,987396 1,058504\n",
    "1,535295 1,742973 1,580401 1,063356 1,999237 1,425459\n",
    "1,780725 1,306711 1,972594 1,68627 1,582629 1,767235\n",
    "1,135044 1,139164 1,686178 1,220069 1,034577 1,019745\n",
    "1,246498 1,114597 1,079653 1,333415 1,054445 1,156743\n",
    "1,416456 1,349223 1,68038 1,003235 1,471908 1,095523\n",
    "1,611866 1,972991 1,443953 1,014008 1,91699 1,182531\n",
    "1,520585 1,427992 1,464156 1,011505 1,108341 1,981536\n",
    "1,229896 1,304392 1,852107 1,705496 1,725639 1,21482\n",
    "1,726829 1,866756 1,074984 1,09888 1,983154 1,256935\n",
    "1,77279 1,363353 1,227454 1,076754 1,656758 1,675253\n",
    "1,418256 1,072481 1,123447 1,438917 1,059481 1,080325\n",
    "1,119724 1,947356 1,372631 1,635578 1,94058 1,112827\n",
    "1,728446 1,802332 1,365001 1,184759 1,119633 1,880032\n",
    "1,161107 1,359294 1,956206 1,143406 1,49144 1,688437\n",
    "1,963561 1,271859 1,250008 1,19367 1,466262 1,624409\n",
    "\"\"\"\n",
    "\n",
    "data = data.strip().split('\\n')\n",
    "data = [list(map(float, line.replace(',', '.').split())) for line in data]\n",
    "# data = np.array(data)\n",
    "dataCopy = copy.deepcopy(data)\n",
    "# data"
   ]
  },
  {
   "cell_type": "code",
   "execution_count": 648,
   "metadata": {},
   "outputs": [
    {
     "name": "stdout",
     "output_type": "stream",
     "text": [
      "N = 9, alpha = -0.025\n"
     ]
    }
   ],
   "source": [
    "N = 9\n",
    "# N = 8\n",
    "\n",
    "n = 52\n",
    "alpha = (n - 53)/40\n",
    "\n",
    "print(f'N = {N}, alpha = {alpha}')"
   ]
  },
  {
   "cell_type": "code",
   "execution_count": 649,
   "metadata": {},
   "outputs": [],
   "source": [
    "# y + alpha\n",
    "additionalData = [14.77, 13.41, 13.84, 13.60, 13.23, 14.88, 15.39, 9.56, 10.37, 11.95,\n",
    "                  14.13, 13.83, 12.51, 14.9, 15.31, 10.67, 12.52, 14.18, 13.02, 15.16]\n",
    "# additionalData = [14.65, 15.06, 13.37, 15.90, 10.41, 14.25, 15.14, 11.54, 10.05, 12.38,\n",
    "#                   13.80, 14.62, 13.11, 12.60, 12.80, 9.82, 13.30, 15.14, 15.01, 12.44]\n",
    "\n",
    "# y \n",
    "y = [round(el - alpha, 3) for el in additionalData]\n",
    "\n",
    "# y"
   ]
  },
  {
   "cell_type": "code",
   "execution_count": 650,
   "metadata": {},
   "outputs": [
    {
     "data": {
      "text/plain": [
       "[[1.158574, 1.194067, 1.745872, 1.566271, 1.825556, 1.942503, 14.77, 14.795],\n",
       " [1.238868, 1.913419, 1.182653, 1.044649, 1.304209, 1.924039, 13.41, 13.435],\n",
       " [1.564043, 1.561357, 1.070589, 1.778954, 1.226447, 1.824122, 13.84, 13.865],\n",
       " [1.737266, 1.798975, 1.952239, 1.752281, 1.247871, 1.54796, 13.6, 13.625],\n",
       " [1.364544, 1.03122, 1.380596, 1.688101, 1.987396, 1.058504, 13.23, 13.255],\n",
       " [1.535295, 1.742973, 1.580401, 1.063356, 1.999237, 1.425459, 14.88, 14.905],\n",
       " [1.780725, 1.306711, 1.972594, 1.68627, 1.582629, 1.767235, 15.39, 15.415],\n",
       " [1.135044, 1.139164, 1.686178, 1.220069, 1.034577, 1.019745, 9.56, 9.585],\n",
       " [1.246498, 1.114597, 1.079653, 1.333415, 1.054445, 1.156743, 10.37, 10.395],\n",
       " [1.416456, 1.349223, 1.68038, 1.003235, 1.471908, 1.095523, 11.95, 11.975],\n",
       " [1.611866, 1.972991, 1.443953, 1.014008, 1.91699, 1.182531, 14.13, 14.155],\n",
       " [1.520585, 1.427992, 1.464156, 1.011505, 1.108341, 1.981536, 13.83, 13.855],\n",
       " [1.229896, 1.304392, 1.852107, 1.705496, 1.725639, 1.21482, 12.51, 12.535],\n",
       " [1.726829, 1.866756, 1.074984, 1.09888, 1.983154, 1.256935, 14.9, 14.925],\n",
       " [1.77279, 1.363353, 1.227454, 1.076754, 1.656758, 1.675253, 15.31, 15.335],\n",
       " [1.418256, 1.072481, 1.123447, 1.438917, 1.059481, 1.080325, 10.67, 10.695],\n",
       " [1.119724, 1.947356, 1.372631, 1.635578, 1.94058, 1.112827, 12.52, 12.545],\n",
       " [1.728446, 1.802332, 1.365001, 1.184759, 1.119633, 1.880032, 14.18, 14.205],\n",
       " [1.161107, 1.359294, 1.956206, 1.143406, 1.49144, 1.688437, 13.02, 13.045],\n",
       " [1.963561, 1.271859, 1.250008, 1.19367, 1.466262, 1.624409, 15.16, 15.185]]"
      ]
     },
     "execution_count": 650,
     "metadata": {},
     "output_type": "execute_result"
    }
   ],
   "source": [
    "if len(additionalData) == len(y):\n",
    "    for i in range(len(y)):\n",
    "        dataCopy[i].extend([additionalData[i], y[i]])\n",
    "else:\n",
    "    raise Exception(\"Ivalid data\")\n",
    "\n",
    "dataCopy"
   ]
  },
  {
   "cell_type": "code",
   "execution_count": 651,
   "metadata": {},
   "outputs": [],
   "source": [
    "def myCalculateRegression(Z, Y):\n",
    "    _Z = np.array(Z) # Отклики\n",
    "    _Y = np.array(Y) # Регрессоры\n",
    "\n",
    "    _n, _k = _Z.shape # Количество наблюдений в наборе данных (n)\n",
    "                      # Количество предикторов (k)\n",
    "\n",
    "    # добавление свободного члена\n",
    "    x0 = np.array([[1] for _ in range(_n)])\n",
    "    _Z = np.hstack((x0, _Z))\n",
    "\n",
    "    # коэффициенты\n",
    "    _x = np.linalg.inv(_Z.T @ _Z) @ _Z.T @ _Y\n",
    "\n",
    "    # предсказания\n",
    "    _y = np.zeros(_n) \n",
    "    for i in range(_n):\n",
    "        _y[i] = _x[0]\n",
    "        for j in range(1, _k + 1):\n",
    "            _y[i] += _Z[i][j] * _x[j]\n",
    "\n",
    "    # t-статистика && доверительный интервал\n",
    "\n",
    "    alpha = 0.05 / 2 # уровень значимости теста (95% для двустророннего)\n",
    "    k = _n - _k - 1  # число степеней свободы \n",
    "    t_k = t.ppf(1 - alpha, df=k) # табличное значение при k степенй свободы и alpha значимости\n",
    "\n",
    "    # оценка дисперсии остатков(σ^2)\n",
    "    sigma2 = 0\n",
    "    for j in range(_n):\n",
    "        sigma2 += (_Y[j] - _y[j])**2\n",
    "    sigma2 *= 1 / (_n - _k - 1)\n",
    "\n",
    "    _t = np.zeros(_k + 1) \n",
    "    _upper = np.zeros(_k + 1)\n",
    "    _lower = np.zeros(_k + 1)\n",
    "    for i in range(_k + 1):\n",
    "        # стандратная ошибка (SE)\n",
    "        SE = np.sqrt(sigma2 * np.linalg.inv(_Z.T @ _Z)[i][i])\n",
    "\n",
    "        # t-статистика\n",
    "        _ti = _x[i] / SE\n",
    "        _t[i] = _ti\n",
    "\n",
    "        # нижние 95%\n",
    "        _lower[i] = _x[i] - t_k * SE\n",
    "        \n",
    "        # верхние 95%\n",
    "        _upper[i] = _x[i] + t_k* SE\n",
    "\n",
    "    print(f'оценка дисперсии остатков:\\nσ^2: {round(sigma2, PRECISION)}\\nσ: {np.round(np.sqrt(sigma2), PRECISION)}\\n')\n",
    "    print(f'коэффициенты:\\n{_x}\\n')\n",
    "    print(f't-статистика:\\n{_t}\\n')\n",
    "    print(f'нижние 95%:\\n{_lower}\\n')\n",
    "    print(f'верхние 95%:\\n{_upper}\\n')\n",
    "\n",
    "    return _y"
   ]
  },
  {
   "cell_type": "code",
   "execution_count": 652,
   "metadata": {},
   "outputs": [
    {
     "name": "stdout",
     "output_type": "stream",
     "text": [
      "оценка дисперсии остатков:\n",
      "σ^2: 1e-05\n",
      "σ: 0.00382\n",
      "\n",
      "коэффициенты:\n",
      "[ 0.01702005  2.99863545  0.00618907 -0.00102846  0.00046174  2.99956383\n",
      "  3.00008523]\n",
      "\n",
      "t-статистика:\n",
      "[   1.79294819  820.62189259    2.00415025   -0.34355288    0.14509494\n",
      " 1091.22203284 1062.3420425 ]\n",
      "\n",
      "нижние 95%:\n",
      "[-0.00348784  2.99074125 -0.00048242 -0.00749578 -0.00641324  2.99362538\n",
      "  2.99398429]\n",
      "\n",
      "верхние 95%:\n",
      "[0.03752793 3.00652966 0.01286056 0.00543885 0.00733672 3.00550227\n",
      " 3.00618617]\n",
      "\n"
     ]
    }
   ],
   "source": [
    "_ = myCalculateRegression(data, y)"
   ]
  },
  {
   "cell_type": "code",
   "execution_count": 653,
   "metadata": {},
   "outputs": [],
   "source": [
    "def delEl(data, ind):\n",
    "    for row in data:\n",
    "        # print(f'old: {row}')\n",
    "        del row[ind]\n",
    "        # print(f'new: {row}\\n')"
   ]
  },
  {
   "cell_type": "code",
   "execution_count": 654,
   "metadata": {},
   "outputs": [],
   "source": [
    "# removing z4\n",
    "delEl(data, 4 - 1)\n",
    "# data"
   ]
  },
  {
   "cell_type": "code",
   "execution_count": 655,
   "metadata": {},
   "outputs": [
    {
     "name": "stdout",
     "output_type": "stream",
     "text": [
      "оценка дисперсии остатков:\n",
      "σ^2: 1e-05\n",
      "σ: 0.00368\n",
      "\n",
      "коэффициенты:\n",
      "[ 0.01764842  2.9986069   0.00609859 -0.00095054  2.99959795  3.0000825 ]\n",
      "\n",
      "t-статистика:\n",
      "[   2.16635067  852.1389684     2.09081432   -0.33467129 1135.67554265\n",
      " 1101.57629897]\n",
      "\n",
      "нижние 95%:\n",
      "[ 0.00017567  2.99105957 -0.00015743 -0.00704218  2.99393304  2.99424129]\n",
      "\n",
      "верхние 95%:\n",
      "[0.03512117 3.00615423 0.0123546  0.00514111 3.00526286 3.00592371]\n",
      "\n"
     ]
    }
   ],
   "source": [
    "_ = myCalculateRegression(data, y)"
   ]
  },
  {
   "cell_type": "code",
   "execution_count": 656,
   "metadata": {},
   "outputs": [],
   "source": [
    "# removing z3\n",
    "delEl(data, 3 - 1)\n",
    "# data"
   ]
  },
  {
   "cell_type": "code",
   "execution_count": 657,
   "metadata": {},
   "outputs": [
    {
     "name": "stdout",
     "output_type": "stream",
     "text": [
      "оценка дисперсии остатков:\n",
      "σ^2: 1e-05\n",
      "σ: 0.00357\n",
      "\n",
      "коэффициенты:\n",
      "[0.01623102 2.99882929 0.00625377 2.99941767 2.99990123]\n",
      "\n",
      "t-статистика:\n",
      "[   2.40457509  894.70255189    2.2389109  1195.92593893 1158.78592253]\n",
      "\n",
      "нижние 95%:\n",
      "[0.00184361 2.99168518 0.00030016 2.99407194 2.99438326]\n",
      "\n",
      "верхние 95%:\n",
      "[0.03061843 3.0059734  0.01220737 3.00476341 3.00541919]\n",
      "\n"
     ]
    }
   ],
   "source": [
    "predicted = myCalculateRegression(data, y)"
   ]
  },
  {
   "cell_type": "code",
   "execution_count": 658,
   "metadata": {},
   "outputs": [],
   "source": [
    "def plot_predicted_vs_actual(Y, y_pred):\n",
    "    # Plot actual vs predicted values\n",
    "    plt.figure(figsize=(8, 6))\n",
    "    \n",
    "    # Scatter plot: Actual vs Predicted\n",
    "    plt.scatter(Y, y_pred, color='blue', label='Predicted vs Actual')\n",
    "    \n",
    "    # Add a 45-degree reference line (perfect prediction)\n",
    "    min_val = min(min(Y), min(y_pred))\n",
    "    max_val = max(max(Y), max(y_pred))\n",
    "    plt.plot([min_val, max_val], [min_val, max_val], 'r--', label='Perfect Prediction')\n",
    "    \n",
    "    # Add labels and title\n",
    "    plt.xlabel('Actual values (Y)')\n",
    "    plt.ylabel('Predicted values (ŷ)')\n",
    "    plt.title('Actual vs Predicted Values')\n",
    "    \n",
    "    # Add a legend\n",
    "    plt.legend()\n",
    "    \n",
    "    # Show plot\n",
    "    plt.show()"
   ]
  },
  {
   "cell_type": "code",
   "execution_count": 659,
   "metadata": {},
   "outputs": [
    {
     "data": {
      "image/png": "[encoded data removed]",
      "text/plain": [
       "<Figure size 800x600 with 1 Axes>"
      ]
     },
     "metadata": {},
     "output_type": "display_data"
    }
   ],
   "source": [
    "plot_predicted_vs_actual(y, predicted)"
   ]
  },
  {
   "cell_type": "code",
   "execution_count": 660,
   "metadata": {},
   "outputs": [],
   "source": [
    "y_plus_alpha = np.array([-4.75, -4.56, -4.34, -4.17, -3.98, -3.82, -3.65, -3.48, -3.31, -3.13, -2.93, -2.72, -2.49, -2.24, -1.95, -1.64, -1.29, -0.91, -0.48, 0.00])\n",
    "# y_plus_alpha = np.array([-3.81, -3.64, -3.48, -3.33, -3.19, -3.05, -2.92, -2.78, -2.65, -2.5, -2.34, -2.18, -1.99, -1.79, -1.56, -1.31, -1.03, -0.72, -0.38, 0.00])\n",
    "\n",
    "_y = y_plus_alpha - alpha\n",
    "\n",
    "_t = np.array([0.05, 0.1, 0.15, 0.2, 0.25, 0.3, 0.35, 0.4, 0.45, 0.5, 0.55, 0.6, 0.65, 0.7, 0.75, 0.8, 0.85, 0.9, 0.95, 1])\n",
    "\n",
    "_T = np.vstack((_t, _t**2, _t**3)).T"
   ]
  },
  {
   "cell_type": "code",
   "execution_count": 661,
   "metadata": {},
   "outputs": [
    {
     "name": "stdout",
     "output_type": "stream",
     "text": [
      "оценка дисперсии остатков:\n",
      "σ^2: 4e-05\n",
      "σ: 0.00605\n",
      "\n",
      "коэффициенты:\n",
      "[-4.97012693  4.94428699 -4.88081748  4.92832484]\n",
      "\n",
      "t-статистика:\n",
      "[-752.32615041   93.00244124  -42.01858581   67.66452102]\n",
      "\n",
      "нижние 95%:\n",
      "[-4.98413176  4.83158651 -5.12706258  4.77392218]\n",
      "\n",
      "верхние 95%:\n",
      "[-4.95612211  5.05698748 -4.63457238  5.0827275 ]\n",
      "\n"
     ]
    },
    {
     "data": {
      "text/plain": [
       "array([-4.73449859, -4.51957809, -4.32166918, -4.13707564, -3.9621012 ,\n",
       "       -3.79304964, -3.6262247 , -3.45793014, -3.28446973, -3.1021472 ,\n",
       "       -2.90726633, -2.69613087, -2.46504457, -2.21031118, -1.92823448,\n",
       "       -1.61511821, -1.26726613, -0.88098199, -0.45256956,  0.02166742])"
      ]
     },
     "execution_count": 661,
     "metadata": {},
     "output_type": "execute_result"
    }
   ],
   "source": [
    "results = myCalculateRegression(_T, _y)\n",
    "results"
   ]
  },
  {
   "cell_type": "code",
   "execution_count": 662,
   "metadata": {},
   "outputs": [],
   "source": [
    "answer = np.vstack((_t, results, _y)).T\n",
    "# formatTabular(answer)"
   ]
  },
  {
   "cell_type": "code",
   "execution_count": 663,
   "metadata": {},
   "outputs": [
    {
     "data": {
      "image/png": "[encoded data removed]",
      "text/plain": [
       "<Figure size 640x480 with 1 Axes>"
      ]
     },
     "metadata": {},
     "output_type": "display_data"
    }
   ],
   "source": [
    "# Построение графика: известные значения Y и предсказанные значения\n",
    "plt.scatter(_t, _y, color='blue', label='Actual Y')\n",
    "plt.plot(_t, results, color='red', label='Predicted Y')\n",
    "plt.xlabel('t')\n",
    "plt.ylabel('Y')\n",
    "plt.title('Polynomial Regression: Actual vs Predicted')\n",
    "plt.legend()\n",
    "plt.show()"
   ]
  },
  {
   "cell_type": "code",
   "execution_count": 664,
   "metadata": {},
   "outputs": [],
   "source": [
    "# def calculateRegression(x, y):\n",
    "#     X = np.array(x) # Независимые переменные\n",
    "#     Y = np.array(y) # Зависимые   переменные\n",
    "\n",
    "#     # Добавляем константу (свободный член β0) для включения интерсепта\n",
    "#     X = sm.add_constant(X)\n",
    "\n",
    "#     # Создание и обучение модели\n",
    "#     model = sm.OLS(Y, X)\n",
    "#     results = model.fit()\n",
    "\n",
    "#     # results.summary()\n",
    "#     print(\"Коэффициенты:\\n\", [round(el, 9) for el in results.params], end='\\n\\n')\n",
    "#     print(\"t-статистика:\\n\", [round(el, 9) for el in results.tvalues], end='\\n\\n')\n",
    "\n",
    "#     intervals = results.conf_int()\n",
    "#     lowerIntervals = []\n",
    "#     upperIntervals = []\n",
    "#     # print(\"Доверительные интервалы (95%):\\n\", , end='\\n\\n')\n",
    "#     for el in intervals:\n",
    "#         lowerIntervals.append(el[0])\n",
    "#         upperIntervals.append(el[1])\n",
    "\n",
    "#     print(\"Нижние 95%:\\n\", [round(el, 9) for el in lowerIntervals], end='\\n\\n')\n",
    "#     print(\"Верхние 95%:\\n\", [round(el, 9) for el in upperIntervals], end='\\n\\n')\n",
    "\n",
    "#     print('\\n')\n",
    "\n",
    "#     print('Коэффициенты & ',end='')\n",
    "#     formatTabular(results.params)\n",
    "#     print('t-статистика & ',end='')\n",
    "#     formatTabular(results.tvalues)\n",
    "#     print('Нижние 95\\% & ',end='')\n",
    "#     formatTabular(lowerIntervals)\n",
    "#     print('Верхние 95\\% & ',end='')\n",
    "#     formatTabular(upperIntervals)\n",
    "\n",
    "#     # return results"
   ]
  }
 ],
 "metadata": {
  "kernelspec": {
   "display_name": "Python 3",
   "language": "python",
   "name": "python3"
  },
  "language_info": {
   "codemirror_mode": {
    "name": "ipython",
    "version": 3
   },
   "file_extension": ".py",
   "mimetype": "text/x-python",
   "name": "python",
   "nbconvert_exporter": "python",
   "pygments_lexer": "ipython3",
   "version": "3.11.9"
  }
 },
 "nbformat": 4,
 "nbformat_minor": 2
}
