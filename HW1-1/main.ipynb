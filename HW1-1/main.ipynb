{
 "cells": [
  {
   "cell_type": "code",
   "execution_count": 1389,
   "metadata": {},
   "outputs": [],
   "source": [
    "import sympy as sp\n",
    "from IPython.display import display, Markdown\n",
    "import math"
   ]
  },
  {
   "cell_type": "code",
   "execution_count": 1390,
   "metadata": {},
   "outputs": [],
   "source": [
    "studentNumero = 9\n",
    "groupNumero   = 52\n",
    "n = groupNumero\n",
    "alphaNumero = (n - 50) / 100\n",
    "\n",
    "N, alpha, x1, x2, x3 = sp.symbols(\"N \\\\alpha x^1 x^2 x^3\")"
   ]
  },
  {
   "cell_type": "code",
   "execution_count": 1391,
   "metadata": {},
   "outputs": [],
   "source": [
    "def norm(A):\n",
    "    # print(len(A))\n",
    "    maxi = -float(\"inf\")\n",
    "\n",
    "    sumy = 0\n",
    "    for i, el in enumerate(A):\n",
    "        # print(f\"adding {abs(el)}\")\n",
    "        sumy += abs(el)\n",
    "    \n",
    "        if (i + 1) % math.sqrt(len(A)) == 0: \n",
    "            maxi = max(maxi, sumy)\n",
    "            # print(f\"what would new max be?: {maxi} or {sumy}\")\n",
    "            sumy = 0\n",
    "    \n",
    "    return maxi"
   ]
  },
  {
   "cell_type": "code",
   "execution_count": 1392,
   "metadata": {},
   "outputs": [
    {
     "data": {
      "text/plain": [
       "0.02"
      ]
     },
     "execution_count": 1392,
     "metadata": {},
     "output_type": "execute_result"
    }
   ],
   "source": [
    "alphaNumero"
   ]
  },
  {
   "cell_type": "code",
   "execution_count": 1393,
   "metadata": {},
   "outputs": [],
   "source": [
    "first  = sp.Eq(150   * (1 + 0.5 * N + alpha) * x1 + 150   * (1 + 0.5 * N)         * x2 + 150   * (1 + 0.5*N)           * x3, 150 * (3 + 1.5 * N + alpha))\n",
    "second = sp.Eq(150.1 * (1 + 0.5 * N)         * x1 + 149.9 * (1 + 0.5 * N + alpha) * x2 + 150   * (1 + 0.5 * N)         * x3, 150 * (3 + 1.5 * N + alpha))\n",
    "third  = sp.Eq(149.9 * (1 + 0.5 * N)         * x1 + 150   * (1 + 0.5 * N)         * x2 + 150.1 * (1 + 0.5 * N + alpha) * x3, 150 * (3 + 1.5 * N + alpha))\n",
    "\n",
    "first1  = sp.Eq(150   * (1 + 0.5 * N + alpha) * x1 + 150   * (1 + 0.5 * N)         * x2 + 150   * (1 + 0.5*N)           * x3, 150 * (3 + 1.5 * N + alpha) * (1 + 0.01))\n",
    "second1 = sp.Eq(150.1 * (1 + 0.5 * N)         * x1 + 149.9 * (1 + 0.5 * N + alpha) * x2 + 150   * (1 + 0.5 * N)         * x3, 150 * (3 + 1.5 * N + alpha) * (1 - 0.01))\n",
    "third1  = sp.Eq(149.9 * (1 + 0.5 * N)         * x1 + 150   * (1 + 0.5 * N)         * x2 + 150.1 * (1 + 0.5 * N + alpha) * x3, 150 * (3 + 1.5 * N + alpha) * (1 + 0.01))\n",
    "\n",
    "system = [first, second, third]\n",
    "system1 = [first1, second1, third1]"
   ]
  },
  {
   "cell_type": "code",
   "execution_count": 1394,
   "metadata": {},
   "outputs": [
    {
     "data": {
      "text/markdown": [
       "\\begin{equation} x^{1} \\cdot \\left(75.0 N + 150 \\alpha + 150\\right) + x^{2} \\cdot \\left(75.0 N + 150\\right) + x^{3} \\cdot \\left(75.0 N + 150\\right) = 225.0 N + 150 \\alpha + 450 \\end{equation}"
      ],
      "text/plain": [
       "<IPython.core.display.Markdown object>"
      ]
     },
     "metadata": {},
     "output_type": "display_data"
    },
    {
     "data": {
      "text/markdown": [
       "\\begin{equation} x^{1} \\cdot \\left(75.05 N + 150.1\\right) + x^{2} \\cdot \\left(74.95 N + 149.9 \\alpha + 149.9\\right) + x^{3} \\cdot \\left(75.0 N + 150\\right) = 225.0 N + 150 \\alpha + 450 \\end{equation}"
      ],
      "text/plain": [
       "<IPython.core.display.Markdown object>"
      ]
     },
     "metadata": {},
     "output_type": "display_data"
    },
    {
     "data": {
      "text/markdown": [
       "\\begin{equation} x^{1} \\cdot \\left(74.95 N + 149.9\\right) + x^{2} \\cdot \\left(75.0 N + 150\\right) + x^{3} \\cdot \\left(75.05 N + 150.1 \\alpha + 150.1\\right) = 225.0 N + 150 \\alpha + 450 \\end{equation}"
      ],
      "text/plain": [
       "<IPython.core.display.Markdown object>"
      ]
     },
     "metadata": {},
     "output_type": "display_data"
    }
   ],
   "source": [
    "for element in system:\n",
    "    display(Markdown(f'\\\\begin{{equation}} {sp.latex(element)} \\\\end{{equation}}'))"
   ]
  },
  {
   "cell_type": "code",
   "execution_count": 1395,
   "metadata": {},
   "outputs": [
    {
     "data": {
      "text/markdown": [
       "\\begin{equation} x^{1} \\cdot \\left(75.0 N + 150 \\alpha + 150\\right) + x^{2} \\cdot \\left(75.0 N + 150\\right) + x^{3} \\cdot \\left(75.0 N + 150\\right) = 227.25 N + 151.5 \\alpha + 454.5 \\end{equation}"
      ],
      "text/plain": [
       "<IPython.core.display.Markdown object>"
      ]
     },
     "metadata": {},
     "output_type": "display_data"
    },
    {
     "data": {
      "text/markdown": [
       "\\begin{equation} x^{1} \\cdot \\left(75.05 N + 150.1\\right) + x^{2} \\cdot \\left(74.95 N + 149.9 \\alpha + 149.9\\right) + x^{3} \\cdot \\left(75.0 N + 150\\right) = 222.75 N + 148.5 \\alpha + 445.5 \\end{equation}"
      ],
      "text/plain": [
       "<IPython.core.display.Markdown object>"
      ]
     },
     "metadata": {},
     "output_type": "display_data"
    },
    {
     "data": {
      "text/markdown": [
       "\\begin{equation} x^{1} \\cdot \\left(74.95 N + 149.9\\right) + x^{2} \\cdot \\left(75.0 N + 150\\right) + x^{3} \\cdot \\left(75.05 N + 150.1 \\alpha + 150.1\\right) = 227.25 N + 151.5 \\alpha + 454.5 \\end{equation}"
      ],
      "text/plain": [
       "<IPython.core.display.Markdown object>"
      ]
     },
     "metadata": {},
     "output_type": "display_data"
    }
   ],
   "source": [
    "for element in system1:\n",
    "    display(Markdown(f'\\\\begin{{equation}} {sp.latex(element)} \\\\end{{equation}}'))"
   ]
  },
  {
   "cell_type": "code",
   "execution_count": 1396,
   "metadata": {},
   "outputs": [],
   "source": [
    "for i in range(len(system)):\n",
    "    system[i] = system[i].subs({N: studentNumero, alpha: alphaNumero})"
   ]
  },
  {
   "cell_type": "code",
   "execution_count": 1397,
   "metadata": {},
   "outputs": [],
   "source": [
    "for i in range(len(system1)):\n",
    "    system1[i] = system1[i].subs({N: studentNumero, alpha: alphaNumero})"
   ]
  },
  {
   "cell_type": "code",
   "execution_count": 1398,
   "metadata": {},
   "outputs": [
    {
     "data": {
      "text/markdown": [
       "\\begin{equation} 828.0 x^{1} + 825.0 x^{2} + 825.0 x^{3} = 2478.0 \\end{equation}"
      ],
      "text/plain": [
       "<IPython.core.display.Markdown object>"
      ]
     },
     "metadata": {},
     "output_type": "display_data"
    },
    {
     "data": {
      "text/markdown": [
       "\\begin{equation} 825.55 x^{1} + 827.448 x^{2} + 825.0 x^{3} = 2478.0 \\end{equation}"
      ],
      "text/plain": [
       "<IPython.core.display.Markdown object>"
      ]
     },
     "metadata": {},
     "output_type": "display_data"
    },
    {
     "data": {
      "text/markdown": [
       "\\begin{equation} 824.45 x^{1} + 825.0 x^{2} + 828.552 x^{3} = 2478.0 \\end{equation}"
      ],
      "text/plain": [
       "<IPython.core.display.Markdown object>"
      ]
     },
     "metadata": {},
     "output_type": "display_data"
    }
   ],
   "source": [
    "for element in system:\n",
    "    display(Markdown(f'\\\\begin{{equation}} {sp.latex(element)} \\\\end{{equation}}'))"
   ]
  },
  {
   "cell_type": "code",
   "execution_count": 1399,
   "metadata": {},
   "outputs": [
    {
     "data": {
      "text/markdown": [
       "\\begin{equation} 828.0 x^{1} + 825.0 x^{2} + 825.0 x^{3} = 2502.78 \\end{equation}"
      ],
      "text/plain": [
       "<IPython.core.display.Markdown object>"
      ]
     },
     "metadata": {},
     "output_type": "display_data"
    },
    {
     "data": {
      "text/markdown": [
       "\\begin{equation} 825.55 x^{1} + 827.448 x^{2} + 825.0 x^{3} = 2453.22 \\end{equation}"
      ],
      "text/plain": [
       "<IPython.core.display.Markdown object>"
      ]
     },
     "metadata": {},
     "output_type": "display_data"
    },
    {
     "data": {
      "text/markdown": [
       "\\begin{equation} 824.45 x^{1} + 825.0 x^{2} + 828.552 x^{3} = 2502.78 \\end{equation}"
      ],
      "text/plain": [
       "<IPython.core.display.Markdown object>"
      ]
     },
     "metadata": {},
     "output_type": "display_data"
    }
   ],
   "source": [
    "for element in system1:\n",
    "    display(Markdown(f'\\\\begin{{equation}} {sp.latex(element)} \\\\end{{equation}}'))"
   ]
  },
  {
   "cell_type": "code",
   "execution_count": 1400,
   "metadata": {},
   "outputs": [
    {
     "data": {
      "text/latex": [
       "$\\displaystyle \\left[\\begin{matrix}828.0 & 825.0 & 825.0\\\\825.55 & 827.448 & 825.0\\\\824.45 & 825.0 & 828.552\\end{matrix}\\right]$"
      ],
      "text/plain": [
       "Matrix([\n",
       "[ 828.0,   825.0,   825.0],\n",
       "[825.55, 827.448,   825.0],\n",
       "[824.45,   825.0, 828.552]])"
      ]
     },
     "execution_count": 1400,
     "metadata": {},
     "output_type": "execute_result"
    }
   ],
   "source": [
    "matrixBody = []\n",
    "\n",
    "for element in system:\n",
    "    matrixBody.append([element.lhs.coeff(x1), \n",
    "                       element.lhs.coeff(x2), \n",
    "                       element.lhs.coeff(x3)])\n",
    "\n",
    "A = sp.Matrix(matrixBody)\n",
    "A"
   ]
  },
  {
   "cell_type": "code",
   "execution_count": 1401,
   "metadata": {},
   "outputs": [
    {
     "data": {
      "text/latex": [
       "$\\displaystyle \\left[\\begin{matrix}0.23011505651251 & -0.135989231310137 & -0.0937223080651046\\\\-0.178193673016471 & 0.272396398402827 & -0.0937988785782234\\\\-0.0515460443076003 & -0.135912660797018 & 0.187861995036292\\end{matrix}\\right]$"
      ],
      "text/plain": [
       "Matrix([\n",
       "[   0.23011505651251, -0.135989231310137, -0.0937223080651046],\n",
       "[ -0.178193673016471,  0.272396398402827, -0.0937988785782234],\n",
       "[-0.0515460443076003, -0.135912660797018,   0.187861995036292]])"
      ]
     },
     "execution_count": 1401,
     "metadata": {},
     "output_type": "execute_result"
    }
   ],
   "source": [
    "A_inv = A.inv()\n",
    "A_inv"
   ]
  },
  {
   "cell_type": "code",
   "execution_count": 1402,
   "metadata": {},
   "outputs": [
    {
     "name": "stdout",
     "output_type": "stream",
     "text": [
      "0.230115056512510 & -0.135989231310137 & -0.0937223080651046 \\\\ \n",
      "-0.178193673016471 & 0.272396398402827 & -0.0937988785782234 \\\\ \n",
      "-0.0515460443076003 & -0.135912660797018 & 0.187861995036292 \\\\ \n"
     ]
    }
   ],
   "source": [
    "for i, element in enumerate(A_inv):\n",
    "    print(element, end=' & ') if (i + 1) % 3 != 0 else print(element, end=' \\\\\\\\ \\n')"
   ]
  },
  {
   "cell_type": "code",
   "execution_count": 1403,
   "metadata": {},
   "outputs": [
    {
     "data": {
      "text/markdown": [
       "\\begin{equation} \\left[\\begin{matrix}828.0 & 825.0 & 825.0\\\\825.55 & 827.448 & 825.0\\\\824.45 & 825.0 & 828.552\\end{matrix}\\right]; \\left[\\begin{matrix}0.23011505651251 & 0.135989231310137 & 0.0937223080651046\\\\0.178193673016471 & 0.272396398402827 & 0.0937988785782234\\\\0.0515460443076003 & 0.135912660797018 & 0.187861995036292\\end{matrix}\\right]\\end{equation}"
      ],
      "text/plain": [
       "<IPython.core.display.Markdown object>"
      ]
     },
     "metadata": {},
     "output_type": "display_data"
    }
   ],
   "source": [
    "A_abs     = A.applyfunc(abs)\n",
    "A_inv_abs = A_inv.applyfunc(abs)\n",
    "\n",
    "display(Markdown(f'\\\\begin{{equation}} {sp.latex(A_abs)}; {sp.latex(A_inv_abs)}\\\\end{{equation}}'))"
   ]
  },
  {
   "cell_type": "code",
   "execution_count": 1404,
   "metadata": {},
   "outputs": [
    {
     "name": "stdout",
     "output_type": "stream",
     "text": [
      "828.000000000000 & 825.000000000000 & 825.000000000000 \\\\ \n",
      "825.550000000000 & 827.448000000000 & 825.000000000000 \\\\ \n",
      "824.450000000000 & 825.000000000000 & 828.552000000000 \\\\ \n"
     ]
    }
   ],
   "source": [
    "for i, element in enumerate(A_abs):\n",
    "    print(element, end=' & ') if (i + 1) % 3 != 0 else print(element, end=' \\\\\\\\ \\n')"
   ]
  },
  {
   "cell_type": "code",
   "execution_count": 1405,
   "metadata": {},
   "outputs": [
    {
     "name": "stdout",
     "output_type": "stream",
     "text": [
      "0.230115056512510 & 0.135989231310137 & 0.0937223080651046 \\\\ \n",
      "0.178193673016471 & 0.272396398402827 & 0.0937988785782234 \\\\ \n",
      "0.0515460443076003 & 0.135912660797018 & 0.187861995036292 \\\\ \n"
     ]
    }
   ],
   "source": [
    "for i, element in enumerate(A_inv_abs):\n",
    "    print(element, end=' & ') if (i + 1) % 3 != 0 else print(element, end=' \\\\\\\\ \\n')"
   ]
  },
  {
   "cell_type": "code",
   "execution_count": 1406,
   "metadata": {},
   "outputs": [
    {
     "data": {
      "text/markdown": [
       "\\begin{equation} ||2478.002|| \\hspace{2cm} ||0.544388949997522|| \\end{equation}"
      ],
      "text/plain": [
       "<IPython.core.display.Markdown object>"
      ]
     },
     "metadata": {},
     "output_type": "display_data"
    }
   ],
   "source": [
    "A_norm     = norm(A)\n",
    "A_inv_norm = norm(A_inv)\n",
    "\n",
    "display(Markdown(f'\\\\begin{{equation}} ||{sp.latex(A_norm)}|| \\\\hspace{{2cm}} ||{sp.latex(A_inv_norm)}|| \\\\end{{equation}}'))"
   ]
  },
  {
   "cell_type": "code",
   "execution_count": 1407,
   "metadata": {},
   "outputs": [
    {
     "data": {
      "text/latex": [
       "$\\displaystyle 1348.99690687176$"
      ],
      "text/plain": [
       "1348.99690687176"
      ]
     },
     "execution_count": 1407,
     "metadata": {},
     "output_type": "execute_result"
    }
   ],
   "source": [
    "condA = A_norm * A_inv_norm\n",
    "condA"
   ]
  },
  {
   "cell_type": "code",
   "execution_count": 1408,
   "metadata": {},
   "outputs": [
    {
     "data": {
      "text/latex": [
       "$\\displaystyle \\left[\\begin{matrix}2478.0\\\\2478.0\\\\2478.0\\end{matrix}\\right]$"
      ],
      "text/plain": [
       "Matrix([\n",
       "[2478.0],\n",
       "[2478.0],\n",
       "[2478.0]])"
      ]
     },
     "execution_count": 1408,
     "metadata": {},
     "output_type": "execute_result"
    }
   ],
   "source": [
    "vectorBody = []\n",
    "\n",
    "for element in system:\n",
    "    vectorBody.append([element.rhs])\n",
    "\n",
    "b = sp.Matrix(vectorBody)\n",
    "b"
   ]
  },
  {
   "cell_type": "code",
   "execution_count": 1409,
   "metadata": {},
   "outputs": [
    {
     "data": {
      "text/latex": [
       "$\\displaystyle \\left[\\begin{matrix}2502.78\\\\2453.22\\\\2502.78\\end{matrix}\\right]$"
      ],
      "text/plain": [
       "Matrix([\n",
       "[2502.78],\n",
       "[2453.22],\n",
       "[2502.78]])"
      ]
     },
     "execution_count": 1409,
     "metadata": {},
     "output_type": "execute_result"
    }
   ],
   "source": [
    "vectorBody1 = []\n",
    "\n",
    "for element in system1:\n",
    "    vectorBody1.append([element.rhs])\n",
    "\n",
    "b1 = sp.Matrix(vectorBody1)\n",
    "b1"
   ]
  },
  {
   "cell_type": "code",
   "execution_count": 1410,
   "metadata": {},
   "outputs": [
    {
     "data": {
      "text/latex": [
       "$\\displaystyle \\left[\\begin{matrix}0.999915466153453\\\\1.00073239055399\\\\0.999352450688377\\end{matrix}\\right]$"
      ],
      "text/plain": [
       "Matrix([\n",
       "[0.999915466153453],\n",
       "[ 1.00073239055399],\n",
       "[0.999352450688377]])"
      ]
     },
     "execution_count": 1410,
     "metadata": {},
     "output_type": "execute_result"
    }
   ],
   "source": [
    "galochkax = A_inv @ b\n",
    "galochkax"
   ]
  },
  {
   "cell_type": "code",
   "execution_count": 1411,
   "metadata": {},
   "outputs": [
    {
     "data": {
      "text/latex": [
       "$\\displaystyle \\left[\\begin{matrix}24.7800000000002\\\\-24.7800000000002\\\\24.7800000000002\\end{matrix}\\right]$"
      ],
      "text/plain": [
       "Matrix([\n",
       "[ 24.7800000000002],\n",
       "[-24.7800000000002],\n",
       "[ 24.7800000000002]])"
      ]
     },
     "execution_count": 1411,
     "metadata": {},
     "output_type": "execute_result"
    }
   ],
   "source": [
    "deltab = b1 - b\n",
    "deltab"
   ]
  },
  {
   "cell_type": "code",
   "execution_count": 1412,
   "metadata": {},
   "outputs": [
    {
     "data": {
      "text/latex": [
       "$\\displaystyle \\left[\\begin{matrix}6.74962545839196\\\\-13.4899581809387\\\\6.74582499360713\\end{matrix}\\right]$"
      ],
      "text/plain": [
       "Matrix([\n",
       "[ 6.74962545839196],\n",
       "[-13.4899581809387],\n",
       "[ 6.74582499360713]])"
      ]
     },
     "execution_count": 1412,
     "metadata": {},
     "output_type": "execute_result"
    }
   ],
   "source": [
    "deltaGalochkax = A_inv @ deltab\n",
    "deltaGalochkax"
   ]
  },
  {
   "cell_type": "code",
   "execution_count": 1413,
   "metadata": {},
   "outputs": [],
   "source": [
    "# test1 =sp.Matrix([[0.513765, -0.35097, -0.16239], \n",
    "#                   [-0.53943, 0.792403, -0.16256], \n",
    "#                   [0.025947, -0.3508,  0.325253]]) \n",
    "\n",
    "# test1"
   ]
  },
  {
   "cell_type": "code",
   "execution_count": 1414,
   "metadata": {},
   "outputs": [],
   "source": [
    "# test2 = sp.Matrix([2476.5, 2476.5, 2476.5])\n",
    "\n",
    "# test2"
   ]
  },
  {
   "cell_type": "code",
   "execution_count": 1415,
   "metadata": {},
   "outputs": [],
   "source": [
    "# test1 * test2 "
   ]
  },
  {
   "cell_type": "code",
   "execution_count": 1416,
   "metadata": {},
   "outputs": [
    {
     "data": {
      "text/plain": [
       "6.74962545839196"
      ]
     },
     "execution_count": 1416,
     "metadata": {},
     "output_type": "execute_result"
    }
   ],
   "source": [
    "galochkax_norm = 1\n",
    "deltaGalochkax_norm = 6.74962545839196\n",
    "\n",
    "deltaGalochkax_norm / galochkax_norm"
   ]
  },
  {
   "cell_type": "code",
   "execution_count": 1417,
   "metadata": {},
   "outputs": [
    {
     "data": {
      "text/latex": [
       "$\\displaystyle 13.4899690687176$"
      ],
      "text/plain": [
       "13.4899690687176"
      ]
     },
     "execution_count": 1417,
     "metadata": {},
     "output_type": "execute_result"
    }
   ],
   "source": [
    "condA * 0.01"
   ]
  },
  {
   "cell_type": "code",
   "execution_count": 1418,
   "metadata": {},
   "outputs": [
    {
     "name": "stdout",
     "output_type": "stream",
     "text": [
      "s_1 = tau_1 = 0.05\n",
      "s_2 = tau_2 = 0.15000000000000002\n",
      "s_3 = tau_3 = 0.25\n",
      "s_4 = tau_4 = 0.35\n",
      "s_5 = tau_5 = 0.44999999999999996\n",
      "s_6 = tau_6 = 0.5499999999999999\n",
      "s_7 = tau_7 = 0.6499999999999999\n",
      "s_8 = tau_8 = 0.7499999999999999\n",
      "s_9 = tau_9 = 0.8499999999999999\n",
      "s_10 = tau_10 = 0.9499999999999998\n"
     ]
    }
   ],
   "source": [
    "a = 0\n",
    "b = 1\n",
    "h = 0.1\n",
    "Lambda = 0.37\n",
    "\n",
    "def get_s_tau(i):\n",
    "    if i == 1:\n",
    "        return a + h / 2\n",
    "    \n",
    "    else:\n",
    "        return get_s_tau(i - 1) + h\n",
    "    \n",
    "for i in range (1, 10 + 1):\n",
    "    print(f\"s_{i} = tau_{i} = {get_s_tau(i)}\")"
   ]
  },
  {
   "cell_type": "code",
   "execution_count": 1419,
   "metadata": {},
   "outputs": [
    {
     "data": {
      "text/plain": [
       "[[0, 0, 0, 0, 0, 0, 0, 0, 0, 0],\n",
       " [0, 0, 0, 0, 0, 0, 0, 0, 0, 0],\n",
       " [0, 0, 0, 0, 0, 0, 0, 0, 0, 0],\n",
       " [0, 0, 0, 0, 0, 0, 0, 0, 0, 0],\n",
       " [0, 0, 0, 0, 0, 0, 0, 0, 0, 0],\n",
       " [0, 0, 0, 0, 0, 0, 0, 0, 0, 0],\n",
       " [0, 0, 0, 0, 0, 0, 0, 0, 0, 0],\n",
       " [0, 0, 0, 0, 0, 0, 0, 0, 0, 0],\n",
       " [0, 0, 0, 0, 0, 0, 0, 0, 0, 0],\n",
       " [0, 0, 0, 0, 0, 0, 0, 0, 0, 0]]"
      ]
     },
     "execution_count": 1419,
     "metadata": {},
     "output_type": "execute_result"
    }
   ],
   "source": [
    "def F(x):\n",
    "    return math.atan(x)\n",
    "\n",
    "A = [[0 for _ in range (1, 10 + 1)] for _ in range(1, 10 + 1)]\n",
    "A"
   ]
  },
  {
   "cell_type": "code",
   "execution_count": 1420,
   "metadata": {},
   "outputs": [
    {
     "name": "stdout",
     "output_type": "stream",
     "text": [
      "0.00025 & 0.00075 & 0.00125 & 0.00175 & 0.00225 & 0.00275 & 0.00325 & 0.00375 & 0.00425 & 0.00475 \\\\ \n",
      "0.00075 & 0.00225 & 0.00375 & 0.00525 & 0.00674 & 0.00823 & 0.00972 & 0.0112 & 0.01268 & 0.01415 \\\\ \n",
      "0.00125 & 0.00375 & 0.00624 & 0.00873 & 0.0112 & 0.01366 & 0.01611 & 0.01853 & 0.02094 & 0.02332 \\\\ \n",
      "0.00175 & 0.00525 & 0.00873 & 0.01219 & 0.01562 & 0.01902 & 0.02237 & 0.02567 & 0.02892 & 0.0321 \\\\ \n",
      "0.00225 & 0.00674 & 0.0112 & 0.01562 & 0.01998 & 0.02426 & 0.02846 & 0.03255 & 0.03653 & 0.0404 \\\\ \n",
      "0.00275 & 0.00823 & 0.01366 & 0.01902 & 0.02426 & 0.02937 & 0.03433 & 0.03912 & 0.04373 & 0.04815 \\\\ \n",
      "0.00325 & 0.00972 & 0.01611 & 0.02237 & 0.02846 & 0.03433 & 0.03998 & 0.04536 & 0.05048 & 0.05532 \\\\ \n",
      "0.00375 & 0.0112 & 0.01853 & 0.02567 & 0.03255 & 0.03912 & 0.04536 & 0.05124 & 0.05675 & 0.06191 \\\\ \n",
      "0.00425 & 0.01268 & 0.02094 & 0.02892 & 0.03653 & 0.04373 & 0.05048 & 0.05675 & 0.06257 & 0.06793 \\\\ \n",
      "0.00475 & 0.01415 & 0.02332 & 0.0321 & 0.0404 & 0.04815 & 0.05532 & 0.06191 & 0.06793 & 0.07342 \\\\ \n"
     ]
    }
   ],
   "source": [
    "for i in range(1, 10 + 1):\n",
    "    for j in range(1, 10 + 1):\n",
    "        element = round(F(get_s_tau(i) * get_s_tau(j)) * (b - a)/10, 5)\n",
    "        A[i - 1][j - 1] =  element\n",
    "\n",
    "        print(element, end=' & ') if j != 10 else print(element, end=' \\\\\\\\ \\n')\n"
   ]
  },
  {
   "cell_type": "code",
   "execution_count": 1421,
   "metadata": {},
   "outputs": [
    {
     "data": {
      "text/latex": [
       "$\\displaystyle \\left[\\begin{matrix}0.00025 & 0.00075 & 0.00125 & 0.00175 & 0.00225 & 0.00275 & 0.00325 & 0.00375 & 0.00425 & 0.00475\\\\0.00075 & 0.00225 & 0.00375 & 0.00525 & 0.00674 & 0.00823 & 0.00972 & 0.0112 & 0.01268 & 0.01415\\\\0.00125 & 0.00375 & 0.00624 & 0.00873 & 0.0112 & 0.01366 & 0.01611 & 0.01853 & 0.02094 & 0.02332\\\\0.00175 & 0.00525 & 0.00873 & 0.01219 & 0.01562 & 0.01902 & 0.02237 & 0.02567 & 0.02892 & 0.0321\\\\0.00225 & 0.00674 & 0.0112 & 0.01562 & 0.01998 & 0.02426 & 0.02846 & 0.03255 & 0.03653 & 0.0404\\\\0.00275 & 0.00823 & 0.01366 & 0.01902 & 0.02426 & 0.02937 & 0.03433 & 0.03912 & 0.04373 & 0.04815\\\\0.00325 & 0.00972 & 0.01611 & 0.02237 & 0.02846 & 0.03433 & 0.03998 & 0.04536 & 0.05048 & 0.05532\\\\0.00375 & 0.0112 & 0.01853 & 0.02567 & 0.03255 & 0.03912 & 0.04536 & 0.05124 & 0.05675 & 0.06191\\\\0.00425 & 0.01268 & 0.02094 & 0.02892 & 0.03653 & 0.04373 & 0.05048 & 0.05675 & 0.06257 & 0.06793\\\\0.00475 & 0.01415 & 0.02332 & 0.0321 & 0.0404 & 0.04815 & 0.05532 & 0.06191 & 0.06793 & 0.07342\\end{matrix}\\right]$"
      ],
      "text/plain": [
       "Matrix([\n",
       "[0.00025, 0.00075, 0.00125, 0.00175, 0.00225, 0.00275, 0.00325, 0.00375, 0.00425, 0.00475],\n",
       "[0.00075, 0.00225, 0.00375, 0.00525, 0.00674, 0.00823, 0.00972,  0.0112, 0.01268, 0.01415],\n",
       "[0.00125, 0.00375, 0.00624, 0.00873,  0.0112, 0.01366, 0.01611, 0.01853, 0.02094, 0.02332],\n",
       "[0.00175, 0.00525, 0.00873, 0.01219, 0.01562, 0.01902, 0.02237, 0.02567, 0.02892,  0.0321],\n",
       "[0.00225, 0.00674,  0.0112, 0.01562, 0.01998, 0.02426, 0.02846, 0.03255, 0.03653,  0.0404],\n",
       "[0.00275, 0.00823, 0.01366, 0.01902, 0.02426, 0.02937, 0.03433, 0.03912, 0.04373, 0.04815],\n",
       "[0.00325, 0.00972, 0.01611, 0.02237, 0.02846, 0.03433, 0.03998, 0.04536, 0.05048, 0.05532],\n",
       "[0.00375,  0.0112, 0.01853, 0.02567, 0.03255, 0.03912, 0.04536, 0.05124, 0.05675, 0.06191],\n",
       "[0.00425, 0.01268, 0.02094, 0.02892, 0.03653, 0.04373, 0.05048, 0.05675, 0.06257, 0.06793],\n",
       "[0.00475, 0.01415, 0.02332,  0.0321,  0.0404, 0.04815, 0.05532, 0.06191, 0.06793, 0.07342]])"
      ]
     },
     "execution_count": 1421,
     "metadata": {},
     "output_type": "execute_result"
    }
   ],
   "source": [
    "A = sp.Matrix(A)\n",
    "A"
   ]
  },
  {
   "cell_type": "code",
   "execution_count": 1422,
   "metadata": {},
   "outputs": [
    {
     "name": "stdout",
     "output_type": "stream",
     "text": [
      "1.00009 & 0.00028 & 0.00046 & 0.00065 & 0.00083 & 0.00102 & 0.00120 & 0.00139 & 0.00157 & 0.00176 \\\\ \n",
      "0.00028 & 1.00083 & 0.00139 & 0.00194 & 0.00249 & 0.00305 & 0.00360 & 0.00414 & 0.00469 & 0.00524 \\\\ \n",
      "0.00046 & 0.00139 & 1.00231 & 0.00323 & 0.00414 & 0.00505 & 0.00596 & 0.00686 & 0.00775 & 0.00863 \\\\ \n",
      "0.00065 & 0.00194 & 0.00323 & 1.00451 & 0.00578 & 0.00704 & 0.00828 & 0.00950 & 0.01070 & 0.01188 \\\\ \n",
      "0.00083 & 0.00249 & 0.00414 & 0.00578 & 1.00739 & 0.00898 & 0.01053 & 0.01204 & 0.01352 & 0.01495 \\\\ \n",
      "0.00102 & 0.00305 & 0.00505 & 0.00704 & 0.00898 & 1.01087 & 0.01270 & 0.01447 & 0.01618 & 0.01782 \\\\ \n",
      "0.00120 & 0.00360 & 0.00596 & 0.00828 & 0.01053 & 0.01270 & 1.01479 & 0.01678 & 0.01868 & 0.02047 \\\\ \n",
      "0.00139 & 0.00414 & 0.00686 & 0.00950 & 0.01204 & 0.01447 & 0.01678 & 1.01896 & 0.02100 & 0.02291 \\\\ \n",
      "0.00157 & 0.00469 & 0.00775 & 0.01070 & 0.01352 & 0.01618 & 0.01868 & 0.02100 & 1.02315 & 0.02513 \\\\ \n",
      "0.00176 & 0.00524 & 0.00863 & 0.01188 & 0.01495 & 0.01782 & 0.02047 & 0.02291 & 0.02513 & 1.02717 \\\\ \n"
     ]
    },
    {
     "data": {
      "text/latex": [
       "$\\displaystyle \\left[\\begin{matrix}1.0000925 & 0.0002775 & 0.0004625 & 0.0006475 & 0.0008325 & 0.0010175 & 0.0012025 & 0.0013875 & 0.0015725 & 0.0017575\\\\0.0002775 & 1.0008325 & 0.0013875 & 0.0019425 & 0.0024938 & 0.0030451 & 0.0035964 & 0.004144 & 0.0046916 & 0.0052355\\\\0.0004625 & 0.0013875 & 1.0023088 & 0.0032301 & 0.004144 & 0.0050542 & 0.0059607 & 0.0068561 & 0.0077478 & 0.0086284\\\\0.0006475 & 0.0019425 & 0.0032301 & 1.0045103 & 0.0057794 & 0.0070374 & 0.0082769 & 0.0094979 & 0.0107004 & 0.011877\\\\0.0008325 & 0.0024938 & 0.004144 & 0.0057794 & 1.0073926 & 0.0089762 & 0.0105302 & 0.0120435 & 0.0135161 & 0.014948\\\\0.0010175 & 0.0030451 & 0.0050542 & 0.0070374 & 0.0089762 & 1.0108669 & 0.0127021 & 0.0144744 & 0.0161801 & 0.0178155\\\\0.0012025 & 0.0035964 & 0.0059607 & 0.0082769 & 0.0105302 & 0.0127021 & 1.0147926 & 0.0167832 & 0.0186776 & 0.0204684\\\\0.0013875 & 0.004144 & 0.0068561 & 0.0094979 & 0.0120435 & 0.0144744 & 0.0167832 & 1.0189588 & 0.0209975 & 0.0229067\\\\0.0015725 & 0.0046916 & 0.0077478 & 0.0107004 & 0.0135161 & 0.0161801 & 0.0186776 & 0.0209975 & 1.0231509 & 0.0251341\\\\0.0017575 & 0.0052355 & 0.0086284 & 0.011877 & 0.014948 & 0.0178155 & 0.0204684 & 0.0229067 & 0.0251341 & 1.0271654\\end{matrix}\\right]$"
      ],
      "text/plain": [
       "Matrix([\n",
       "[1.0000925, 0.0002775, 0.0004625, 0.0006475, 0.0008325, 0.0010175, 0.0012025, 0.0013875, 0.0015725, 0.0017575],\n",
       "[0.0002775, 1.0008325, 0.0013875, 0.0019425, 0.0024938, 0.0030451, 0.0035964,  0.004144, 0.0046916, 0.0052355],\n",
       "[0.0004625, 0.0013875, 1.0023088, 0.0032301,  0.004144, 0.0050542, 0.0059607, 0.0068561, 0.0077478, 0.0086284],\n",
       "[0.0006475, 0.0019425, 0.0032301, 1.0045103, 0.0057794, 0.0070374, 0.0082769, 0.0094979, 0.0107004,  0.011877],\n",
       "[0.0008325, 0.0024938,  0.004144, 0.0057794, 1.0073926, 0.0089762, 0.0105302, 0.0120435, 0.0135161,  0.014948],\n",
       "[0.0010175, 0.0030451, 0.0050542, 0.0070374, 0.0089762, 1.0108669, 0.0127021, 0.0144744, 0.0161801, 0.0178155],\n",
       "[0.0012025, 0.0035964, 0.0059607, 0.0082769, 0.0105302, 0.0127021, 1.0147926, 0.0167832, 0.0186776, 0.0204684],\n",
       "[0.0013875,  0.004144, 0.0068561, 0.0094979, 0.0120435, 0.0144744, 0.0167832, 1.0189588, 0.0209975, 0.0229067],\n",
       "[0.0015725, 0.0046916, 0.0077478, 0.0107004, 0.0135161, 0.0161801, 0.0186776, 0.0209975, 1.0231509, 0.0251341],\n",
       "[0.0017575, 0.0052355, 0.0086284,  0.011877,  0.014948, 0.0178155, 0.0204684, 0.0229067, 0.0251341, 1.0271654]])"
      ]
     },
     "execution_count": 1422,
     "metadata": {},
     "output_type": "execute_result"
    }
   ],
   "source": [
    "EpLA = sp.eye(10) + Lambda * A\n",
    "\n",
    "for i, element in enumerate(EpLA):\n",
    "    print(round(element, 5), end=' & ') if (i + 1) % 10 != 0 else print(round(element, 5), end=' \\\\\\\\ \\n')\n",
    "\n",
    "EpLA"
   ]
  },
  {
   "cell_type": "code",
   "execution_count": 1423,
   "metadata": {},
   "outputs": [
    {
     "name": "stdout",
     "output_type": "stream",
     "text": [
      "0.99992 & -0.00025 & -0.00041 & -0.00058 & -0.00074 & -0.00091 & -0.00108 & -0.00125 & -0.00142 & -0.00159 \\\\ \n",
      "-0.00025 & 0.99926 & -0.00124 & -0.00173 & -0.00223 & -0.00273 & -0.00323 & -0.00373 & -0.00423 & -0.00473 \\\\ \n",
      "-0.00041 & -0.00124 & 0.99794 & -0.00288 & -0.00371 & -0.00453 & -0.00535 & -0.00617 & -0.00698 & -0.00780 \\\\ \n",
      "-0.00058 & -0.00173 & -0.00288 & 0.99597 & -0.00517 & -0.00631 & -0.00743 & -0.00854 & -0.00964 & -0.01072 \\\\ \n",
      "-0.00074 & -0.00223 & -0.00371 & -0.00517 & 0.99338 & -0.00805 & -0.00946 & -0.01083 & -0.01218 & -0.01349 \\\\ \n",
      "-0.00091 & -0.00273 & -0.00453 & -0.00631 & -0.00805 & 0.99024 & -0.01142 & -0.01302 & -0.01457 & -0.01606 \\\\ \n",
      "-0.00108 & -0.00323 & -0.00535 & -0.00743 & -0.00946 & -0.01142 & 0.98670 & -0.01510 & -0.01681 & -0.01843 \\\\ \n",
      "-0.00125 & -0.00373 & -0.00617 & -0.00854 & -0.01083 & -0.01302 & -0.01510 & 0.98295 & -0.01889 & -0.02060 \\\\ \n",
      "-0.00142 & -0.00423 & -0.00698 & -0.00964 & -0.01218 & -0.01457 & -0.01681 & -0.01889 & 0.97919 & -0.02258 \\\\ \n",
      "-0.00159 & -0.00473 & -0.00780 & -0.01072 & -0.01349 & -0.01606 & -0.01843 & -0.02060 & -0.02258 & 0.97562 \\\\ \n"
     ]
    },
    {
     "data": {
      "text/latex": [
       "$\\displaystyle \\left[\\begin{matrix}0.999917737739707 & -0.000246926848975379 & -0.000411934088348446 & -0.000577495999149113 & -0.000743789452650992 & -0.000910926070027053 & -0.0010789647220297 & -0.00124797391992032 & -0.00141793207979596 & -0.00158883128847263\\\\-0.000246926848975379 & 0.999258801617937 & -0.00123649226392766 & -0.00173344086775993 & -0.00222887216726503 & -0.00272681924609717 & -0.00322745781780794 & -0.00372729272728759 & -0.00422995956070894 & -0.00473173504963569\\\\-0.000411934088348446 & -0.00123649226392766 & 0.997940960859485 & -0.00288431874167799 & -0.00370580379164442 & -0.00452774459867497 & -0.00535043153693235 & -0.00616680401669524 & -0.00698415563347798 & -0.00779504872930361\\\\-0.000577495999149113 & -0.00173344086775993 & -0.00288431874167799 & 0.995968429198485 & -0.00517270415739831 & -0.0063084793263394 & -0.00743189778621008 & -0.00854343075319027 & -0.00964293121218835 & -0.0107229488497502\\\\-0.000743789452650992 & -0.00222887216726503 & -0.00370580379164442 & -0.00517270415739831 & 0.993376298855336 & -0.0080523564831406 & -0.00945917809044163 & -0.0108336651448532 & -0.0121756318118448 & -0.0134850171333011\\\\-0.000910926070027053 & -0.00272681924609717 & -0.00452774459867497 & -0.0063084793263394 & -0.0080523564831406 & 0.990243171523132 & -0.0114151043998364 & -0.0130205068524864 & -0.0145691131519059 & -0.0160571540555089\\\\-0.0010789647220297 & -0.00322745781780794 & -0.00535043153693235 & -0.00743189778621008 & -0.00945917809044164 & -0.0114151043998364 & 0.986699618753213 & -0.0150973498572945 & -0.0168094528082183 & -0.0184292150113017\\\\-0.00124797391992032 & -0.00372729272728759 & -0.00616680401669524 & -0.00854343075319027 & -0.0108336651448532 & -0.0130205068524864 & -0.0150973498572944 & 0.982945951567645 & -0.0188866126978474 & -0.0206023639622787\\\\-0.00141793207979596 & -0.00422995956070894 & -0.00698415563347798 & -0.00964293121218835 & -0.0121756318118448 & -0.0145691131519059 & -0.0168094528082183 & -0.0188866126978474 & 0.979188627473657 & -0.0225799523385167\\\\-0.00158883128847263 & -0.00473173504963569 & -0.0077950487293036 & -0.0107229488497502 & -0.0134850171333011 & -0.0160571540555089 & -0.0184292150113017 & -0.0206023639622787 & -0.0225799523385167 & 0.975623299218563\\end{matrix}\\right]$"
      ],
      "text/plain": [
       "Matrix([\n",
       "[    0.999917737739707, -0.000246926848975379, -0.000411934088348446, -0.000577495999149113, -0.000743789452650992, -0.000910926070027053,  -0.0010789647220297, -0.00124797391992032, -0.00141793207979596, -0.00158883128847263],\n",
       "[-0.000246926848975379,     0.999258801617937,  -0.00123649226392766,  -0.00173344086775993,  -0.00222887216726503,  -0.00272681924609717, -0.00322745781780794, -0.00372729272728759, -0.00422995956070894, -0.00473173504963569],\n",
       "[-0.000411934088348446,  -0.00123649226392766,     0.997940960859485,  -0.00288431874167799,  -0.00370580379164442,  -0.00452774459867497, -0.00535043153693235, -0.00616680401669524, -0.00698415563347798, -0.00779504872930361],\n",
       "[-0.000577495999149113,  -0.00173344086775993,  -0.00288431874167799,     0.995968429198485,  -0.00517270415739831,   -0.0063084793263394, -0.00743189778621008, -0.00854343075319027, -0.00964293121218835,  -0.0107229488497502],\n",
       "[-0.000743789452650992,  -0.00222887216726503,  -0.00370580379164442,  -0.00517270415739831,     0.993376298855336,   -0.0080523564831406, -0.00945917809044163,  -0.0108336651448532,  -0.0121756318118448,  -0.0134850171333011],\n",
       "[-0.000910926070027053,  -0.00272681924609717,  -0.00452774459867497,   -0.0063084793263394,   -0.0080523564831406,     0.990243171523132,  -0.0114151043998364,  -0.0130205068524864,  -0.0145691131519059,  -0.0160571540555089],\n",
       "[  -0.0010789647220297,  -0.00322745781780794,  -0.00535043153693235,  -0.00743189778621008,  -0.00945917809044164,   -0.0114151043998364,    0.986699618753213,  -0.0150973498572945,  -0.0168094528082183,  -0.0184292150113017],\n",
       "[ -0.00124797391992032,  -0.00372729272728759,  -0.00616680401669524,  -0.00854343075319027,   -0.0108336651448532,   -0.0130205068524864,  -0.0150973498572944,    0.982945951567645,  -0.0188866126978474,  -0.0206023639622787],\n",
       "[ -0.00141793207979596,  -0.00422995956070894,  -0.00698415563347798,  -0.00964293121218835,   -0.0121756318118448,   -0.0145691131519059,  -0.0168094528082183,  -0.0188866126978474,    0.979188627473657,  -0.0225799523385167],\n",
       "[ -0.00158883128847263,  -0.00473173504963569,   -0.0077950487293036,   -0.0107229488497502,   -0.0134850171333011,   -0.0160571540555089,  -0.0184292150113017,  -0.0206023639622787,  -0.0225799523385167,    0.975623299218563]])"
      ]
     },
     "execution_count": 1423,
     "metadata": {},
     "output_type": "execute_result"
    }
   ],
   "source": [
    "EpLA_inv = EpLA.inv()\n",
    "\n",
    "for i, element in enumerate(EpLA_inv):\n",
    "    print(round(element, 5), end=' & ') if (i + 1) % 10 != 0 else print(round(element, 5), end=' \\\\\\\\ \\n')\n",
    "\n",
    "EpLA_inv"
   ]
  },
  {
   "cell_type": "code",
   "execution_count": 1424,
   "metadata": {},
   "outputs": [
    {
     "data": {
      "text/latex": [
       "$\\displaystyle 1.1559365$"
      ],
      "text/plain": [
       "1.15593650000000"
      ]
     },
     "execution_count": 1424,
     "metadata": {},
     "output_type": "execute_result"
    }
   ],
   "source": [
    "EpLA_norm = norm(EpLA)\n",
    "EpLA_norm"
   ]
  },
  {
   "cell_type": "code",
   "execution_count": 1425,
   "metadata": {},
   "outputs": [
    {
     "data": {
      "text/latex": [
       "$\\displaystyle 1.09161556563663$"
      ],
      "text/plain": [
       "1.09161556563663"
      ]
     },
     "execution_count": 1425,
     "metadata": {},
     "output_type": "execute_result"
    }
   ],
   "source": [
    "EpLA_inv_norm = norm(EpLA_inv)\n",
    "EpLA_inv_norm"
   ]
  },
  {
   "cell_type": "code",
   "execution_count": 1426,
   "metadata": {},
   "outputs": [
    {
     "data": {
      "text/latex": [
       "$\\displaystyle 1.26183827628753$"
      ],
      "text/plain": [
       "1.26183827628753"
      ]
     },
     "execution_count": 1426,
     "metadata": {},
     "output_type": "execute_result"
    }
   ],
   "source": [
    "condEpLA = EpLA_norm * EpLA_inv_norm\n",
    "condEpLA"
   ]
  },
  {
   "cell_type": "code",
   "execution_count": 1427,
   "metadata": {},
   "outputs": [
    {
     "name": "stdout",
     "output_type": "stream",
     "text": [
      "row sum: 1.00925000000000\n",
      "row sum: 1.02764640000000\n",
      "row sum: 1.04578010000000\n",
      "row sum: 1.06349940000000\n",
      "row sum: 1.08065630000000\n",
      "row sum: 1.09716940000000\n",
      "row sum: 1.11299060000000\n",
      "row sum: 1.12804960000000\n",
      "row sum: 1.14236860000000\n",
      "row sum: 1.15593650000000\n"
     ]
    }
   ],
   "source": [
    "sumy = 0\n",
    "for i, el in enumerate(EpLA):\n",
    "    sumy += abs(el)\n",
    "    \n",
    "    if (i + 1) % 10 == 0: \n",
    "        print(f\"row sum: {sumy}\")\n",
    "        sumy = 0"
   ]
  },
  {
   "cell_type": "code",
   "execution_count": 1428,
   "metadata": {},
   "outputs": [
    {
     "data": {
      "text/latex": [
       "$\\displaystyle \\left[\\begin{matrix}1\\\\1\\\\1\\\\1\\\\1\\\\1\\\\1\\\\1\\\\1\\\\1\\end{matrix}\\right]$"
      ],
      "text/plain": [
       "Matrix([\n",
       "[1],\n",
       "[1],\n",
       "[1],\n",
       "[1],\n",
       "[1],\n",
       "[1],\n",
       "[1],\n",
       "[1],\n",
       "[1],\n",
       "[1]])"
      ]
     },
     "execution_count": 1428,
     "metadata": {},
     "output_type": "execute_result"
    }
   ],
   "source": [
    "sp.Matrix([1 for _ in range(10)])"
   ]
  },
  {
   "cell_type": "code",
   "execution_count": 1429,
   "metadata": {},
   "outputs": [
    {
     "data": {
      "text/latex": [
       "$\\displaystyle \\left[\\begin{matrix}1.00925\\\\1.0276464\\\\1.0457801\\\\1.0634994\\\\1.0806563\\\\1.0971694\\\\1.1129906\\\\1.1280496\\\\1.1423686\\\\1.1559365\\end{matrix}\\right]$"
      ],
      "text/plain": [
       "Matrix([\n",
       "[  1.00925],\n",
       "[1.0276464],\n",
       "[1.0457801],\n",
       "[1.0634994],\n",
       "[1.0806563],\n",
       "[1.0971694],\n",
       "[1.1129906],\n",
       "[1.1280496],\n",
       "[1.1423686],\n",
       "[1.1559365]])"
      ]
     },
     "execution_count": 1429,
     "metadata": {},
     "output_type": "execute_result"
    }
   ],
   "source": [
    "b = EpLA * sp.Matrix([1 for _ in range(10)])\n",
    "b"
   ]
  },
  {
   "cell_type": "code",
   "execution_count": 1430,
   "metadata": {},
   "outputs": [
    {
     "name": "stdout",
     "output_type": "stream",
     "text": [
      "1.00925000000000\\\\ \n",
      "1.02764640000000\\\\ \n",
      "1.04578010000000\\\\ \n",
      "1.06349940000000\\\\ \n",
      "1.08065630000000\\\\ \n",
      "1.09716940000000\\\\ \n",
      "1.11299060000000\\\\ \n",
      "1.12804960000000\\\\ \n",
      "1.14236860000000\\\\ \n",
      "1.15593650000000\\\\ \n"
     ]
    }
   ],
   "source": [
    "for el in b:\n",
    "    print(el, end='\\\\\\\\ \\n')"
   ]
  },
  {
   "cell_type": "code",
   "execution_count": 1431,
   "metadata": {},
   "outputs": [
    {
     "data": {
      "text/latex": [
       "$\\displaystyle \\left[\\begin{matrix}0.999999999999999\\\\0.999999999999999\\\\1.0\\\\0.999999999999999\\\\1.0\\\\1.0\\\\1.0\\\\1.0\\\\0.999999999999999\\\\1.0\\end{matrix}\\right]$"
      ],
      "text/plain": [
       "Matrix([\n",
       "[0.999999999999999],\n",
       "[0.999999999999999],\n",
       "[              1.0],\n",
       "[0.999999999999999],\n",
       "[              1.0],\n",
       "[              1.0],\n",
       "[              1.0],\n",
       "[              1.0],\n",
       "[0.999999999999999],\n",
       "[              1.0]])"
      ]
     },
     "execution_count": 1431,
     "metadata": {},
     "output_type": "execute_result"
    }
   ],
   "source": [
    "EpLA_inv * b"
   ]
  },
  {
   "cell_type": "code",
   "execution_count": 1432,
   "metadata": {},
   "outputs": [
    {
     "data": {
      "text/latex": [
       "$\\displaystyle \\left[\\begin{matrix}0.0100925\\\\-0.010276464\\\\0.010457801\\\\-0.010634994\\\\0.010806563\\\\-0.010971694\\\\0.011129906\\\\-0.011280496\\\\0.011423686\\\\-0.011559365\\end{matrix}\\right]$"
      ],
      "text/plain": [
       "Matrix([\n",
       "[   0.0100925],\n",
       "[-0.010276464],\n",
       "[ 0.010457801],\n",
       "[-0.010634994],\n",
       "[ 0.010806563],\n",
       "[-0.010971694],\n",
       "[ 0.011129906],\n",
       "[-0.011280496],\n",
       "[ 0.011423686],\n",
       "[-0.011559365]])"
      ]
     },
     "execution_count": 1432,
     "metadata": {},
     "output_type": "execute_result"
    }
   ],
   "source": [
    "deltaB = [b[i] * -1 * 0.01 if ((i + 1) % 2 == 0) else b[i] * 0.01 for i in range(len(b))]\n",
    "deltaB = sp.Matrix(deltaB)\n",
    "deltaB "
   ]
  },
  {
   "cell_type": "code",
   "execution_count": 1433,
   "metadata": {},
   "outputs": [
    {
     "data": {
      "text/latex": [
       "$\\displaystyle \\left[\\begin{matrix}0.0101022344981114\\\\-0.0102475051573947\\\\0.0105054578609862\\\\-0.010569530610399\\\\0.0108887038899682\\\\-0.0108740881677665\\\\0.0112415673850983\\\\-0.0111558957774656\\\\0.0115598593276807\\\\-0.0114126855030443\\end{matrix}\\right]$"
      ],
      "text/plain": [
       "Matrix([\n",
       "[ 0.0101022344981114],\n",
       "[-0.0102475051573947],\n",
       "[ 0.0105054578609862],\n",
       "[ -0.010569530610399],\n",
       "[ 0.0108887038899682],\n",
       "[-0.0108740881677665],\n",
       "[ 0.0112415673850983],\n",
       "[-0.0111558957774656],\n",
       "[ 0.0115598593276807],\n",
       "[-0.0114126855030443]])"
      ]
     },
     "execution_count": 1433,
     "metadata": {},
     "output_type": "execute_result"
    }
   ],
   "source": [
    "galochkaDeltax = EpLA_inv @ deltaB\n",
    "galochkaDeltax"
   ]
  },
  {
   "cell_type": "code",
   "execution_count": 1434,
   "metadata": {},
   "outputs": [
    {
     "name": "stdout",
     "output_type": "stream",
     "text": [
      "0.0101022344981114\\\\ \n",
      "-0.0102475051573947\\\\ \n",
      "0.0105054578609862\\\\ \n",
      "-0.0105695306103990\\\\ \n",
      "0.0108887038899682\\\\ \n",
      "-0.0108740881677665\\\\ \n",
      "0.0112415673850983\\\\ \n",
      "-0.0111558957774656\\\\ \n",
      "0.0115598593276807\\\\ \n",
      "-0.0114126855030443\\\\ \n"
     ]
    }
   ],
   "source": [
    "for el in galochkaDeltax:\n",
    "    print(el, end='\\\\\\\\ \\n')"
   ]
  },
  {
   "cell_type": "code",
   "execution_count": 1435,
   "metadata": {},
   "outputs": [
    {
     "data": {
      "text/latex": [
       "$\\displaystyle 1.0$"
      ],
      "text/plain": [
       "1.00000000000000"
      ]
     },
     "execution_count": 1435,
     "metadata": {},
     "output_type": "execute_result"
    }
   ],
   "source": [
    "galochkaX_norm = max(EpLA_inv * b)\n",
    "galochkaX_norm"
   ]
  },
  {
   "cell_type": "code",
   "execution_count": 1436,
   "metadata": {},
   "outputs": [
    {
     "data": {
      "text/latex": [
       "$\\displaystyle 0.0115598593276807$"
      ],
      "text/plain": [
       "0.0115598593276807"
      ]
     },
     "execution_count": 1436,
     "metadata": {},
     "output_type": "execute_result"
    }
   ],
   "source": [
    "galochkaDeltaX_norm = max(galochkaDeltax)\n",
    "galochkaDeltaX_norm"
   ]
  },
  {
   "cell_type": "code",
   "execution_count": 1437,
   "metadata": {},
   "outputs": [
    {
     "data": {
      "text/latex": [
       "$\\displaystyle 1.1559365$"
      ],
      "text/plain": [
       "1.15593650000000"
      ]
     },
     "execution_count": 1437,
     "metadata": {},
     "output_type": "execute_result"
    }
   ],
   "source": [
    "galochkab_norm = max(b)\n",
    "galochkab_norm"
   ]
  },
  {
   "cell_type": "code",
   "execution_count": 1438,
   "metadata": {},
   "outputs": [
    {
     "data": {
      "text/latex": [
       "$\\displaystyle 0.011423686$"
      ],
      "text/plain": [
       "0.0114236860000000"
      ]
     },
     "execution_count": 1438,
     "metadata": {},
     "output_type": "execute_result"
    }
   ],
   "source": [
    "galochkaDeltab_norm = max(deltaB)\n",
    "galochkaDeltab_norm"
   ]
  },
  {
   "cell_type": "code",
   "execution_count": 1439,
   "metadata": {},
   "outputs": [
    {
     "data": {
      "text/latex": [
       "$\\displaystyle 0.0124702734545453$"
      ],
      "text/plain": [
       "0.0124702734545453"
      ]
     },
     "execution_count": 1439,
     "metadata": {},
     "output_type": "execute_result"
    }
   ],
   "source": [
    "condEpLA * galochkaDeltab_norm / galochkab_norm"
   ]
  },
  {
   "cell_type": "code",
   "execution_count": 1440,
   "metadata": {},
   "outputs": [
    {
     "name": "stdout",
     "output_type": "stream",
     "text": [
      "1.01010223449811\\\\ \n",
      "0.989752494842605\\\\ \n",
      "1.01050545786099\\\\ \n",
      "0.989430469389601\\\\ \n",
      "1.01088870388997\\\\ \n",
      "0.989125911832234\\\\ \n",
      "1.01124156738510\\\\ \n",
      "0.988844104222534\\\\ \n",
      "1.01155985932768\\\\ \n",
      "0.988587314496956\\\\ \n"
     ]
    }
   ],
   "source": [
    "for el in (sp.Matrix([1 for _ in range(10)]) + galochkaDeltax):\n",
    "    print(el, end='\\\\\\\\ \\n')"
   ]
  },
  {
   "cell_type": "code",
   "execution_count": 1441,
   "metadata": {},
   "outputs": [
    {
     "name": "stdout",
     "output_type": "stream",
     "text": [
      "[0.981115277740308, 0.000272234307899455, 0.000453723846499091, 0.000635213385098728, 0.000816702923698364, 0.000998192462298001, 0.00117968200089764, 0.00136117153949727, 0.00154266107809691, 0.00172415061669655]\n",
      "\n",
      "[0.000272762139100600, 0.983744913806850, 0.00136381069550300, 0.00190933497370420, 0.00245122242338405, 0.00299310987306391, 0.00353499732274377, 0.00407324794390229, 0.00461149856506080, 0.00514611235769798]\n",
      "\n",
      "[0.000437874838198975, 0.00131362451459693, 0.948942278108992, 0.00305811786998164, 0.00392335855026282, 0.00478509623183840, 0.00564333091470839, 0.00649105660146161, 0.00733527928950923, 0.00816899298144008]\n",
      "\n",
      "[0.000614988973233463, 0.00184496691970039, 0.00306791642075893, 0.954073757528090, 0.00548921586394668, 0.00668405158337170, 0.00786131618927575, 0.00902100968165886, 0.0101631320605210, 0.0112806548804538]\n",
      "\n",
      "[0.000762737815661255, 0.00228482350113638, 0.00379673934906936, 0.00529509541361280, 0.922974692176952, 0.00822400862575202, 0.00964778588165303, 0.0110342737332328, 0.0123834721804914, 0.0136953812234288]\n",
      "\n",
      "[0.000936753957755090, 0.00280344911720887, 0.00465311238652165, 0.00647893100963702, 0.00826387309641400, 0.930647242593237, 0.0116940957708117, 0.0133257508463197, 0.0148960911173200, 0.0164017102057846]\n",
      "\n",
      "[0.00106972517055035, 0.00319930112546137, 0.00530254538386652, 0.00736300063544966, 0.00936750103195787, 0.0112995892630750, 0.902743606742817, 0.0149300719188197, 0.0166153004951944, 0.0182083681337986]\n",
      "\n",
      "[0.00124242333982048, 0.00371070437493049, 0.00613922786316624, 0.00850480190218443, 0.0107842345896417, 0.0129609602810072, 0.0150283527184685, 0.912416717430965, 0.0188020065426165, 0.0205115810582095]\n",
      "\n",
      "[0.00136289696081397, 0.00406624316779320, 0.00671507349633988, 0.00927411296629175, 0.0117145002302433, 0.0140234080226811, 0.0161880090780915, 0.0181986829473394, 0.886772179373021, 0.0217839036583748]\n",
      "\n",
      "[0.00153576993654282, 0.00457497781096439, 0.00753982208845863, 0.0103785715711630, 0.0130621274602800, 0.0155678573567445, 0.0178860616609576, 0.0200167403729191, 0.0219631266924955, 0.897575955150485]\n",
      "\n"
     ]
    },
    {
     "data": {
      "text/latex": [
       "$\\displaystyle \\left[\\begin{matrix}0.981115277740308 & 0.000272234307899455 & 0.000453723846499091 & 0.000635213385098728 & 0.000816702923698364 & 0.000998192462298001 & 0.00117968200089764 & 0.00136117153949727 & 0.00154266107809691 & 0.00172415061669655\\\\0.0002727621391006 & 0.98374491380685 & 0.001363810695503 & 0.0019093349737042 & 0.00245122242338405 & 0.00299310987306391 & 0.00353499732274377 & 0.00407324794390229 & 0.0046114985650608 & 0.00514611235769798\\\\0.000437874838198975 & 0.00131362451459693 & 0.948942278108992 & 0.00305811786998164 & 0.00392335855026282 & 0.0047850962318384 & 0.00564333091470839 & 0.00649105660146161 & 0.00733527928950923 & 0.00816899298144008\\\\0.000614988973233463 & 0.00184496691970039 & 0.00306791642075893 & 0.95407375752809 & 0.00548921586394668 & 0.0066840515833717 & 0.00786131618927575 & 0.00902100968165886 & 0.010163132060521 & 0.0112806548804538\\\\0.000762737815661255 & 0.00228482350113638 & 0.00379673934906936 & 0.0052950954136128 & 0.922974692176952 & 0.00822400862575202 & 0.00964778588165303 & 0.0110342737332328 & 0.0123834721804914 & 0.0136953812234288\\\\0.00093675395775509 & 0.00280344911720887 & 0.00465311238652165 & 0.00647893100963702 & 0.008263873096414 & 0.930647242593237 & 0.0116940957708117 & 0.0133257508463197 & 0.01489609111732 & 0.0164017102057846\\\\0.00106972517055035 & 0.00319930112546137 & 0.00530254538386652 & 0.00736300063544966 & 0.00936750103195787 & 0.011299589263075 & 0.902743606742817 & 0.0149300719188197 & 0.0166153004951944 & 0.0182083681337986\\\\0.00124242333982048 & 0.00371070437493049 & 0.00613922786316624 & 0.00850480190218443 & 0.0107842345896417 & 0.0129609602810072 & 0.0150283527184685 & 0.912416717430965 & 0.0188020065426165 & 0.0205115810582095\\\\0.00136289696081397 & 0.0040662431677932 & 0.00671507349633988 & 0.00927411296629175 & 0.0117145002302433 & 0.0140234080226811 & 0.0161880090780915 & 0.0181986829473394 & 0.886772179373021 & 0.0217839036583748\\\\0.00153576993654282 & 0.00457497781096439 & 0.00753982208845863 & 0.010378571571163 & 0.01306212746028 & 0.0155678573567445 & 0.0178860616609576 & 0.0200167403729191 & 0.0219631266924955 & 0.897575955150485\\end{matrix}\\right]$"
      ],
      "text/plain": [
       "Matrix([\n",
       "[   0.981115277740308, 0.000272234307899455, 0.000453723846499091, 0.000635213385098728, 0.000816702923698364, 0.000998192462298001, 0.00117968200089764, 0.00136117153949727, 0.00154266107809691, 0.00172415061669655],\n",
       "[  0.0002727621391006,     0.98374491380685,    0.001363810695503,   0.0019093349737042,  0.00245122242338405,  0.00299310987306391, 0.00353499732274377, 0.00407324794390229,  0.0046114985650608, 0.00514611235769798],\n",
       "[0.000437874838198975,  0.00131362451459693,    0.948942278108992,  0.00305811786998164,  0.00392335855026282,   0.0047850962318384, 0.00564333091470839, 0.00649105660146161, 0.00733527928950923, 0.00816899298144008],\n",
       "[0.000614988973233463,  0.00184496691970039,  0.00306791642075893,     0.95407375752809,  0.00548921586394668,   0.0066840515833717, 0.00786131618927575, 0.00902100968165886,   0.010163132060521,  0.0112806548804538],\n",
       "[0.000762737815661255,  0.00228482350113638,  0.00379673934906936,   0.0052950954136128,    0.922974692176952,  0.00822400862575202, 0.00964778588165303,  0.0110342737332328,  0.0123834721804914,  0.0136953812234288],\n",
       "[ 0.00093675395775509,  0.00280344911720887,  0.00465311238652165,  0.00647893100963702,    0.008263873096414,    0.930647242593237,  0.0116940957708117,  0.0133257508463197,    0.01489609111732,  0.0164017102057846],\n",
       "[ 0.00106972517055035,  0.00319930112546137,  0.00530254538386652,  0.00736300063544966,  0.00936750103195787,    0.011299589263075,   0.902743606742817,  0.0149300719188197,  0.0166153004951944,  0.0182083681337986],\n",
       "[ 0.00124242333982048,  0.00371070437493049,  0.00613922786316624,  0.00850480190218443,   0.0107842345896417,   0.0129609602810072,  0.0150283527184685,   0.912416717430965,  0.0188020065426165,  0.0205115810582095],\n",
       "[ 0.00136289696081397,   0.0040662431677932,  0.00671507349633988,  0.00927411296629175,   0.0117145002302433,   0.0140234080226811,  0.0161880090780915,  0.0181986829473394,   0.886772179373021,  0.0217839036583748],\n",
       "[ 0.00153576993654282,  0.00457497781096439,  0.00753982208845863,    0.010378571571163,     0.01306212746028,   0.0155678573567445,  0.0178860616609576,  0.0200167403729191,  0.0219631266924955,   0.897575955150485]])"
      ]
     },
     "execution_count": 1441,
     "metadata": {},
     "output_type": "execute_result"
    }
   ],
   "source": [
    "rowCount = 0\n",
    "\n",
    "B = []\n",
    "\n",
    "tempArr = []\n",
    "for i, el in enumerate(EpLA):\n",
    "    # print(el, end=' ')\n",
    "\n",
    "\n",
    "\n",
    "    divider = b[rowCount] + deltaB[rowCount]\n",
    "    curr = el / divider\n",
    "    tempArr.append(curr)\n",
    "\n",
    "    if (i + 1) % 10 == 0:\n",
    "        rowCount += 1\n",
    "        print(tempArr)\n",
    "        B.append(tempArr)\n",
    "        # print(B)\n",
    "        print()\n",
    "        tempArr = []\n",
    "        \n",
    "# print(B)\n",
    "B = sp.Matrix(B)\n",
    "B"
   ]
  },
  {
   "cell_type": "code",
   "execution_count": 1442,
   "metadata": {},
   "outputs": [
    {
     "name": "stdout",
     "output_type": "stream",
     "text": [
      "0.98112 & 0.00027 & 0.00045 & 0.00064 & 0.00082 & 0.0010 & 0.00118 & 0.00136 & 0.00154 & 0.00172 \\\\ \n",
      "0.00027 & 0.98374 & 0.00136 & 0.00191 & 0.00245 & 0.00299 & 0.00353 & 0.00407 & 0.00461 & 0.00515 \\\\ \n",
      "0.00044 & 0.00131 & 0.94894 & 0.00306 & 0.00392 & 0.00479 & 0.00564 & 0.00649 & 0.00734 & 0.00817 \\\\ \n",
      "0.00061 & 0.00184 & 0.00307 & 0.95407 & 0.00549 & 0.00668 & 0.00786 & 0.00902 & 0.01016 & 0.01128 \\\\ \n",
      "0.00076 & 0.00228 & 0.00380 & 0.00530 & 0.92297 & 0.00822 & 0.00965 & 0.01103 & 0.01238 & 0.01370 \\\\ \n",
      "0.00094 & 0.00280 & 0.00465 & 0.00648 & 0.00826 & 0.93065 & 0.01169 & 0.01333 & 0.01490 & 0.01640 \\\\ \n",
      "0.00107 & 0.00320 & 0.00530 & 0.00736 & 0.00937 & 0.01130 & 0.90274 & 0.01493 & 0.01662 & 0.01821 \\\\ \n",
      "0.00124 & 0.00371 & 0.00614 & 0.00850 & 0.01078 & 0.01296 & 0.01503 & 0.91242 & 0.01880 & 0.02051 \\\\ \n",
      "0.00136 & 0.00407 & 0.00672 & 0.00927 & 0.01171 & 0.01402 & 0.01619 & 0.01820 & 0.88677 & 0.02178 \\\\ \n",
      "0.00154 & 0.00457 & 0.00754 & 0.01038 & 0.01306 & 0.01557 & 0.01789 & 0.02002 & 0.02196 & 0.89758 \\\\ \n"
     ]
    }
   ],
   "source": [
    "for i, element in enumerate(B):\n",
    "    print(round(element, 5), end=' & ') if (i + 1) % 10 != 0 else print(round(element, 5), end=' \\\\\\\\ \\n')"
   ]
  },
  {
   "cell_type": "code",
   "execution_count": 1443,
   "metadata": {},
   "outputs": [
    {
     "data": {
      "text/latex": [
       "$\\displaystyle \\left[\\begin{matrix}1.01925864658194 & -0.000251215952538763 & -0.000435100396827511 & -0.000608024982111507 & -0.000811818565459655 & -0.000989445807598981 & -0.00121288636928417 & -0.00139369871636478 & -0.00163599909574051 & -0.00181822219790066\\\\-0.000251703031551686 & 1.01661586304948 & -0.00130602999345369 & -0.00182507818957019 & -0.00243273119694411 & -0.0029618648097874 & -0.00362805151524792 & -0.00416252535939868 & -0.00488049471123793 & -0.00541488939968117\\\\-0.000419901923452326 & -0.00125797005541658 & 1.05406306582014 & -0.00303679653867146 & -0.00404474721614448 & -0.00491802579643465 & -0.00601452980661475 & -0.00688689619626834 & -0.00805826489413034 & -0.00892047553202584\\\\-0.000588666215512655 & -0.00176355062469271 & -0.00304652677352492 & 1.04861970860282 & -0.00564581448908596 & -0.00685225577261828 & -0.00835434869997475 & -0.00954103950732634 & -0.0111259396470516 & -0.0122710974834287\\\\-0.000758176200138894 & -0.0022675875341626 & -0.00391421041840435 & -0.0054461560900929 & 1.08423333918499 & -0.00874645113988155 & -0.0106332560613714 & -0.0120987025168537 & -0.0140481500616827 & -0.015431945272433\\\\-0.000928545657536551 & -0.00277418392188545 & -0.00478237545116854 & -0.00664197333868961 & -0.00878884806098525 & 1.07559986129059 & -0.0128319529339869 & -0.0145408997712771 & -0.0168097303685301 & -0.0183754399542969\\\\-0.00109983459716556 & -0.00328351855354596 & -0.00565132857601363 & -0.00782478064813079 & -0.0103243416002203 & -0.0123990602128527 & 1.10916927470287 & -0.0168602538729053 & -0.0193946169820033 & -0.0210899722749325\\\\-0.00127211285546638 & -0.00379203556341385 & -0.00651361213047255 & -0.0089950741451598 & -0.0118245431757848 & -0.014142844674128 & -0.0169712405608409 & 1.09772366961263 & -0.021791228039446 & -0.0235768742453797\\\\-0.00144535843104941 & -0.00430343368756104 & -0.00737692988656211 & -0.0101526990428195 & -0.01328924995619 & -0.0158249372840546 & -0.0188958505963575 & -0.0210919855401701 & 1.12978028491803 & -0.0258399811655884\\\\-0.00161956325766991 & -0.00481392498461682 & -0.00823342590803235 & -0.0112898111712607 & -0.0147183954079169 & -0.0174412438999824 & -0.0207166585036873 & -0.0230080835424358 & -0.0260525748264283 & 1.11648099599899\\end{matrix}\\right]$"
      ],
      "text/plain": [
       "Matrix([\n",
       "[     1.01925864658194, -0.000251215952538763, -0.000435100396827511, -0.000608024982111507, -0.000811818565459655, -0.000989445807598981, -0.00121288636928417, -0.00139369871636478, -0.00163599909574051, -0.00181822219790066],\n",
       "[-0.000251703031551686,      1.01661586304948,  -0.00130602999345369,  -0.00182507818957019,  -0.00243273119694411,   -0.0029618648097874, -0.00362805151524792, -0.00416252535939868, -0.00488049471123793, -0.00541488939968117],\n",
       "[-0.000419901923452326,  -0.00125797005541658,      1.05406306582014,  -0.00303679653867146,  -0.00404474721614448,  -0.00491802579643465, -0.00601452980661475, -0.00688689619626834, -0.00805826489413034, -0.00892047553202584],\n",
       "[-0.000588666215512655,  -0.00176355062469271,  -0.00304652677352492,      1.04861970860282,  -0.00564581448908596,  -0.00685225577261828, -0.00835434869997475, -0.00954103950732634,  -0.0111259396470516,  -0.0122710974834287],\n",
       "[-0.000758176200138894,   -0.0022675875341626,  -0.00391421041840435,   -0.0054461560900929,      1.08423333918499,  -0.00874645113988155,  -0.0106332560613714,  -0.0120987025168537,  -0.0140481500616827,   -0.015431945272433],\n",
       "[-0.000928545657536551,  -0.00277418392188545,  -0.00478237545116854,  -0.00664197333868961,  -0.00878884806098525,      1.07559986129059,  -0.0128319529339869,  -0.0145408997712771,  -0.0168097303685301,  -0.0183754399542969],\n",
       "[ -0.00109983459716556,  -0.00328351855354596,  -0.00565132857601363,  -0.00782478064813079,   -0.0103243416002203,   -0.0123990602128527,     1.10916927470287,  -0.0168602538729053,  -0.0193946169820033,  -0.0210899722749325],\n",
       "[ -0.00127211285546638,  -0.00379203556341385,  -0.00651361213047255,   -0.0089950741451598,   -0.0118245431757848,    -0.014142844674128,  -0.0169712405608409,     1.09772366961263,   -0.021791228039446,  -0.0235768742453797],\n",
       "[ -0.00144535843104941,  -0.00430343368756104,  -0.00737692988656211,   -0.0101526990428195,     -0.01328924995619,   -0.0158249372840546,  -0.0188958505963575,  -0.0210919855401701,     1.12978028491803,  -0.0258399811655884],\n",
       "[ -0.00161956325766991,  -0.00481392498461682,  -0.00823342590803235,   -0.0112898111712607,   -0.0147183954079169,   -0.0174412438999824,  -0.0207166585036873,  -0.0230080835424358,  -0.0260525748264283,     1.11648099599899]])"
      ]
     },
     "execution_count": 1443,
     "metadata": {},
     "output_type": "execute_result"
    }
   ],
   "source": [
    "B_inv = B.inv()\n",
    "B_inv"
   ]
  },
  {
   "cell_type": "code",
   "execution_count": 1444,
   "metadata": {},
   "outputs": [
    {
     "name": "stdout",
     "output_type": "stream",
     "text": [
      "1.01926 & -0.00025 & -0.00044 & -0.00061 & -0.00081 & -0.00099 & -0.00121 & -0.00139 & -0.00164 & -0.00182 \\\\ \n",
      "-0.00025 & 1.01662 & -0.00131 & -0.00183 & -0.00243 & -0.00296 & -0.00363 & -0.00416 & -0.00488 & -0.00541 \\\\ \n",
      "-0.00042 & -0.00126 & 1.05406 & -0.00304 & -0.00404 & -0.00492 & -0.00601 & -0.00689 & -0.00806 & -0.00892 \\\\ \n",
      "-0.00059 & -0.00176 & -0.00305 & 1.04862 & -0.00565 & -0.00685 & -0.00835 & -0.00954 & -0.01113 & -0.01227 \\\\ \n",
      "-0.00076 & -0.00227 & -0.00391 & -0.00545 & 1.08423 & -0.00875 & -0.01063 & -0.01210 & -0.01405 & -0.01543 \\\\ \n",
      "-0.00093 & -0.00277 & -0.00478 & -0.00664 & -0.00879 & 1.07560 & -0.01283 & -0.01454 & -0.01681 & -0.01838 \\\\ \n",
      "-0.00110 & -0.00328 & -0.00565 & -0.00782 & -0.01032 & -0.01240 & 1.10917 & -0.01686 & -0.01939 & -0.02109 \\\\ \n",
      "-0.00127 & -0.00379 & -0.00651 & -0.00900 & -0.01182 & -0.01414 & -0.01697 & 1.09772 & -0.02179 & -0.02358 \\\\ \n",
      "-0.00145 & -0.00430 & -0.00738 & -0.01015 & -0.01329 & -0.01582 & -0.01890 & -0.02109 & 1.12978 & -0.02584 \\\\ \n",
      "-0.00162 & -0.00481 & -0.00823 & -0.01129 & -0.01472 & -0.01744 & -0.02072 & -0.02301 & -0.02605 & 1.11648 \\\\ \n"
     ]
    }
   ],
   "source": [
    "for i, element in enumerate(B_inv):\n",
    "    print(round(element, 5), end=' & ') if (i + 1) % 10 != 0 else print(round(element, 5), end=' \\\\\\\\ \\n')"
   ]
  },
  {
   "cell_type": "code",
   "execution_count": null,
   "metadata": {},
   "outputs": [],
   "source": [
    "B_inv * sp.Matrix([1 for _ in range (10)])"
   ]
  },
  {
   "cell_type": "code",
   "execution_count": 1447,
   "metadata": {},
   "outputs": [
    {
     "name": "stdout",
     "output_type": "stream",
     "text": [
      "1.01010223449811 \\\\ \n",
      "0.989752494842605 \\\\ \n",
      "1.01050545786099 \\\\ \n",
      "0.989430469389601 \\\\ \n",
      "1.01088870388997 \\\\ \n",
      "0.989125911832234 \\\\ \n",
      "1.01124156738510 \\\\ \n",
      "0.988844104222535 \\\\ \n",
      "1.01155985932768 \\\\ \n",
      "0.988587314496955 \\\\ \n"
     ]
    }
   ],
   "source": [
    "for element in (B_inv * sp.Matrix([1 for _ in range (10)])):\n",
    "    print(element, end=' \\\\\\\\ \\n')"
   ]
  },
  {
   "cell_type": "code",
   "execution_count": 1450,
   "metadata": {},
   "outputs": [
    {
     "name": "stdout",
     "output_type": "stream",
     "text": [
      "0.990099009900990 \\\\ \n",
      "1.01010101010101 \\\\ \n",
      "0.990099009900990 \\\\ \n",
      "1.01010101010101 \\\\ \n",
      "0.990099009900990 \\\\ \n",
      "1.01010101010101 \\\\ \n",
      "0.990099009900990 \\\\ \n",
      "1.01010101010101 \\\\ \n",
      "0.990099009900990 \\\\ \n",
      "1.01010101010101 \\\\ \n"
     ]
    },
    {
     "data": {
      "text/latex": [
       "$\\displaystyle \\left[\\begin{matrix}0.99009900990099\\\\1.01010101010101\\\\0.99009900990099\\\\1.01010101010101\\\\0.99009900990099\\\\1.01010101010101\\\\0.99009900990099\\\\1.01010101010101\\\\0.99009900990099\\\\1.01010101010101\\end{matrix}\\right]$"
      ],
      "text/plain": [
       "Matrix([\n",
       "[0.99009900990099],\n",
       "[1.01010101010101],\n",
       "[0.99009900990099],\n",
       "[1.01010101010101],\n",
       "[0.99009900990099],\n",
       "[1.01010101010101],\n",
       "[0.99009900990099],\n",
       "[1.01010101010101],\n",
       "[0.99009900990099],\n",
       "[1.01010101010101]])"
      ]
     },
     "execution_count": 1450,
     "metadata": {},
     "output_type": "execute_result"
    }
   ],
   "source": [
    "temp = B * sp.Matrix([1 for _ in range (10)])\n",
    "\n",
    "for element in (temp):\n",
    "    print(element, end=' \\\\\\\\ \\n')\n",
    "\n",
    "temp"
   ]
  },
  {
   "cell_type": "code",
   "execution_count": 1449,
   "metadata": {},
   "outputs": [
    {
     "data": {
      "text/plain": [
       "[0.00990099009900990,\n",
       " -0.0101010101010101,\n",
       " 0.00990099009900990,\n",
       " -0.0101010101010101,\n",
       " 0.00990099009900990,\n",
       " -0.0101010101010101,\n",
       " 0.00990099009900990,\n",
       " -0.0101010101010101,\n",
       " 0.00990099009900990,\n",
       " -0.0101010101010101]"
      ]
     },
     "execution_count": 1449,
     "metadata": {},
     "output_type": "execute_result"
    }
   ],
   "source": [
    "temp2 = [temp[i] * -1 * 0.01 if ((i + 1) % 2 == 0) else temp[i] * 0.01 for i in range(len(temp))]\n",
    "temp2"
   ]
  },
  {
   "cell_type": "code",
   "execution_count": 1452,
   "metadata": {},
   "outputs": [
    {
     "data": {
      "text/latex": [
       "$\\displaystyle \\left[\\begin{matrix}0.0101022344981114\\\\-0.0102475051573948\\\\0.0105054578609862\\\\-0.010569530610399\\\\0.0108887038899682\\\\-0.0108740881677665\\\\0.0112415673850983\\\\-0.0111558957774656\\\\0.0115598593276807\\\\-0.0114126855030442\\end{matrix}\\right]$"
      ],
      "text/plain": [
       "Matrix([\n",
       "[ 0.0101022344981114],\n",
       "[-0.0102475051573948],\n",
       "[ 0.0105054578609862],\n",
       "[ -0.010569530610399],\n",
       "[ 0.0108887038899682],\n",
       "[-0.0108740881677665],\n",
       "[ 0.0112415673850983],\n",
       "[-0.0111558957774656],\n",
       "[ 0.0115598593276807],\n",
       "[-0.0114126855030442]])"
      ]
     },
     "execution_count": 1452,
     "metadata": {},
     "output_type": "execute_result"
    }
   ],
   "source": [
    "B_inv * sp.Matrix(temp2)"
   ]
  },
  {
   "cell_type": "code",
   "execution_count": 1453,
   "metadata": {},
   "outputs": [
    {
     "name": "stdout",
     "output_type": "stream",
     "text": [
      "0.0101022344981114 \\\\ \n",
      "-0.0102475051573948 \\\\ \n",
      "0.0105054578609862 \\\\ \n",
      "-0.0105695306103990 \\\\ \n",
      "0.0108887038899682 \\\\ \n",
      "-0.0108740881677665 \\\\ \n",
      "0.0112415673850983 \\\\ \n",
      "-0.0111558957774656 \\\\ \n",
      "0.0115598593276807 \\\\ \n",
      "-0.0114126855030442 \\\\ \n"
     ]
    }
   ],
   "source": [
    "for element in (B_inv * sp.Matrix(temp2)):\n",
    "    print(element, end=' \\\\\\\\ \\n')"
   ]
  },
  {
   "cell_type": "code",
   "execution_count": 1455,
   "metadata": {},
   "outputs": [
    {
     "data": {
      "text/latex": [
       "$\\displaystyle 0.0115598593276807$"
      ],
      "text/plain": [
       "0.0115598593276807"
      ]
     },
     "execution_count": 1455,
     "metadata": {},
     "output_type": "execute_result"
    }
   ],
   "source": [
    "max(B_inv * sp.Matrix(temp2))"
   ]
  },
  {
   "cell_type": "code",
   "execution_count": 1457,
   "metadata": {},
   "outputs": [
    {
     "data": {
      "text/plain": [
       "1.0787565056855462"
      ]
     },
     "execution_count": 1457,
     "metadata": {},
     "output_type": "execute_result"
    }
   ],
   "source": [
    "0.0124702734545453 / 0.0115598593276807 "
   ]
  },
  {
   "cell_type": "code",
   "execution_count": 1458,
   "metadata": {},
   "outputs": [
    {
     "data": {
      "text/plain": [
       "1.0026031395440562"
      ]
     },
     "execution_count": 1458,
     "metadata": {},
     "output_type": "execute_result"
    }
   ],
   "source": [
    "0.01271 / 0.012677"
   ]
  }
 ],
 "metadata": {
  "kernelspec": {
   "display_name": "Python 3",
   "language": "python",
   "name": "python3"
  },
  "language_info": {
   "codemirror_mode": {
    "name": "ipython",
    "version": 3
   },
   "file_extension": ".py",
   "mimetype": "text/x-python",
   "name": "python",
   "nbconvert_exporter": "python",
   "pygments_lexer": "ipython3",
   "version": "3.11.9"
  }
 },
 "nbformat": 4,
 "nbformat_minor": 2
}
