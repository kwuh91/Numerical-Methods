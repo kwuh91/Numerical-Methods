{
 "cells": [
  {
   "cell_type": "code",
   "execution_count": 214,
   "metadata": {},
   "outputs": [],
   "source": [
    "import sympy as sp\n",
    "from IPython.display import display, Markdown"
   ]
  },
  {
   "cell_type": "code",
   "execution_count": 215,
   "metadata": {},
   "outputs": [],
   "source": [
    "studentNumero = 9\n",
    "groupNumero   = 52\n",
    "n = groupNumero\n",
    "alphaNumero = (n - 50) / 100\n",
    "\n",
    "N, alpha, x1, x2, x3 = sp.symbols(\"N \\\\alpha x^1 x^2 x^3\")"
   ]
  },
  {
   "cell_type": "code",
   "execution_count": 216,
   "metadata": {},
   "outputs": [
    {
     "data": {
      "text/plain": [
       "0.02"
      ]
     },
     "execution_count": 216,
     "metadata": {},
     "output_type": "execute_result"
    }
   ],
   "source": [
    "alphaNumero"
   ]
  },
  {
   "cell_type": "code",
   "execution_count": 217,
   "metadata": {},
   "outputs": [],
   "source": [
    "first  = sp.Eq(150   * (1 + 0.5 * N + alpha) * x1 + 150   * (1 + 0.5 * N)         * x2 + 150   * (1 + 0.5*N)           * x3, 150 * (3 + 1.5 * N + alpha))\n",
    "second = sp.Eq(150.1 * (1 + 0.5 * N)         * x1 + 149.9 * (1 + 0.5 * N + alpha) * x2 + 150   * (1 + 0.5 * N)         * x3, 150 * (3 + 1.5 * N + alpha))\n",
    "third  = sp.Eq(149.9 * (1 + 0.5 * N)         * x1 + 150   * (1 + 0.5 * N)         * x2 + 150.1 * (1 + 0.5 * N + alpha) * x3, 150 * (3 + 1.5 * N + alpha))\n",
    "\n",
    "system = [first, second, third]"
   ]
  },
  {
   "cell_type": "code",
   "execution_count": 218,
   "metadata": {},
   "outputs": [
    {
     "data": {
      "text/markdown": [
       "\\begin{equation} x^{1} \\cdot \\left(75.0 N + 150 \\alpha + 150\\right) + x^{2} \\cdot \\left(75.0 N + 150\\right) + x^{3} \\cdot \\left(75.0 N + 150\\right) = 225.0 N + 150 \\alpha + 450 \\end{equation}"
      ],
      "text/plain": [
       "<IPython.core.display.Markdown object>"
      ]
     },
     "metadata": {},
     "output_type": "display_data"
    },
    {
     "data": {
      "text/markdown": [
       "\\begin{equation} x^{1} \\cdot \\left(75.05 N + 150.1\\right) + x^{2} \\cdot \\left(74.95 N + 149.9 \\alpha + 149.9\\right) + x^{3} \\cdot \\left(75.0 N + 150\\right) = 225.0 N + 150 \\alpha + 450 \\end{equation}"
      ],
      "text/plain": [
       "<IPython.core.display.Markdown object>"
      ]
     },
     "metadata": {},
     "output_type": "display_data"
    },
    {
     "data": {
      "text/markdown": [
       "\\begin{equation} x^{1} \\cdot \\left(74.95 N + 149.9\\right) + x^{2} \\cdot \\left(75.0 N + 150\\right) + x^{3} \\cdot \\left(75.05 N + 150.1 \\alpha + 150.1\\right) = 225.0 N + 150 \\alpha + 450 \\end{equation}"
      ],
      "text/plain": [
       "<IPython.core.display.Markdown object>"
      ]
     },
     "metadata": {},
     "output_type": "display_data"
    }
   ],
   "source": [
    "for element in system:\n",
    "    display(Markdown(f'\\\\begin{{equation}} {sp.latex(element)} \\\\end{{equation}}'))"
   ]
  },
  {
   "cell_type": "code",
   "execution_count": 219,
   "metadata": {},
   "outputs": [],
   "source": [
    "for i in range(len(system)):\n",
    "    system[i] = system[i].subs({N: studentNumero, alpha: alphaNumero})"
   ]
  },
  {
   "cell_type": "code",
   "execution_count": 220,
   "metadata": {},
   "outputs": [
    {
     "data": {
      "text/markdown": [
       "\\begin{equation} 828.0 x^{1} + 825.0 x^{2} + 825.0 x^{3} = 2478.0 \\end{equation}"
      ],
      "text/plain": [
       "<IPython.core.display.Markdown object>"
      ]
     },
     "metadata": {},
     "output_type": "display_data"
    },
    {
     "data": {
      "text/markdown": [
       "\\begin{equation} 825.55 x^{1} + 827.448 x^{2} + 825.0 x^{3} = 2478.0 \\end{equation}"
      ],
      "text/plain": [
       "<IPython.core.display.Markdown object>"
      ]
     },
     "metadata": {},
     "output_type": "display_data"
    },
    {
     "data": {
      "text/markdown": [
       "\\begin{equation} 824.45 x^{1} + 825.0 x^{2} + 828.552 x^{3} = 2478.0 \\end{equation}"
      ],
      "text/plain": [
       "<IPython.core.display.Markdown object>"
      ]
     },
     "metadata": {},
     "output_type": "display_data"
    }
   ],
   "source": [
    "for element in system:\n",
    "    display(Markdown(f'\\\\begin{{equation}} {sp.latex(element)} \\\\end{{equation}}'))"
   ]
  },
  {
   "cell_type": "code",
   "execution_count": 221,
   "metadata": {},
   "outputs": [
    {
     "data": {
      "text/latex": [
       "$\\displaystyle \\left[\\begin{matrix}828.0 & 825.0 & 825.0\\\\825.55 & 827.448 & 825.0\\\\824.45 & 825.0 & 828.552\\end{matrix}\\right]$"
      ],
      "text/plain": [
       "Matrix([\n",
       "[ 828.0,   825.0,   825.0],\n",
       "[825.55, 827.448,   825.0],\n",
       "[824.45,   825.0, 828.552]])"
      ]
     },
     "execution_count": 221,
     "metadata": {},
     "output_type": "execute_result"
    }
   ],
   "source": [
    "matrixBody = []\n",
    "\n",
    "for element in system:\n",
    "    matrixBody.append([element.lhs.coeff(x1), \n",
    "                       element.lhs.coeff(x2), \n",
    "                       element.lhs.coeff(x3)])\n",
    "\n",
    "A = sp.Matrix(matrixBody)\n",
    "A"
   ]
  },
  {
   "cell_type": "code",
   "execution_count": 222,
   "metadata": {},
   "outputs": [
    {
     "data": {
      "text/latex": [
       "$\\displaystyle \\left[\\begin{matrix}0.23011505651251 & -0.135989231310137 & -0.0937223080651046\\\\-0.178193673016471 & 0.272396398402827 & -0.0937988785782234\\\\-0.0515460443076003 & -0.135912660797018 & 0.187861995036292\\end{matrix}\\right]$"
      ],
      "text/plain": [
       "Matrix([\n",
       "[   0.23011505651251, -0.135989231310137, -0.0937223080651046],\n",
       "[ -0.178193673016471,  0.272396398402827, -0.0937988785782234],\n",
       "[-0.0515460443076003, -0.135912660797018,   0.187861995036292]])"
      ]
     },
     "execution_count": 222,
     "metadata": {},
     "output_type": "execute_result"
    }
   ],
   "source": [
    "A_inv = A.inv()\n",
    "A_inv"
   ]
  },
  {
   "cell_type": "code",
   "execution_count": 223,
   "metadata": {},
   "outputs": [
    {
     "name": "stdout",
     "output_type": "stream",
     "text": [
      "0.230115056512510 & -0.135989231310137 & -0.0937223080651046 \\\\ \n",
      "-0.178193673016471 & 0.272396398402827 & -0.0937988785782234 \\\\ \n",
      "-0.0515460443076003 & -0.135912660797018 & 0.187861995036292 \\\\ \n"
     ]
    }
   ],
   "source": [
    "for i, element in enumerate(A_inv):\n",
    "    print(element, end=' & ') if (i + 1) % 3 != 0 else print(element, end=' \\\\\\\\ \\n')"
   ]
  },
  {
   "cell_type": "code",
   "execution_count": 224,
   "metadata": {},
   "outputs": [
    {
     "data": {
      "text/markdown": [
       "\\begin{equation} \\left[\\begin{matrix}828.0 & 825.0 & 825.0\\\\825.55 & 827.448 & 825.0\\\\824.45 & 825.0 & 828.552\\end{matrix}\\right]; \\left[\\begin{matrix}0.23011505651251 & 0.135989231310137 & 0.0937223080651046\\\\0.178193673016471 & 0.272396398402827 & 0.0937988785782234\\\\0.0515460443076003 & 0.135912660797018 & 0.187861995036292\\end{matrix}\\right]\\end{equation}"
      ],
      "text/plain": [
       "<IPython.core.display.Markdown object>"
      ]
     },
     "metadata": {},
     "output_type": "display_data"
    }
   ],
   "source": [
    "A_abs     = A.applyfunc(abs)\n",
    "A_inv_abs = A_inv.applyfunc(abs)\n",
    "\n",
    "display(Markdown(f'\\\\begin{{equation}} {sp.latex(A_abs)}; {sp.latex(A_inv_abs)}\\\\end{{equation}}'))"
   ]
  },
  {
   "cell_type": "code",
   "execution_count": 225,
   "metadata": {},
   "outputs": [
    {
     "name": "stdout",
     "output_type": "stream",
     "text": [
      "828.000000000000 & 825.000000000000 & 825.000000000000 \\\\ \n",
      "825.550000000000 & 827.448000000000 & 825.000000000000 \\\\ \n",
      "824.450000000000 & 825.000000000000 & 828.552000000000 \\\\ \n"
     ]
    }
   ],
   "source": [
    "for i, element in enumerate(A_abs):\n",
    "    print(element, end=' & ') if (i + 1) % 3 != 0 else print(element, end=' \\\\\\\\ \\n')"
   ]
  },
  {
   "cell_type": "code",
   "execution_count": 226,
   "metadata": {},
   "outputs": [
    {
     "name": "stdout",
     "output_type": "stream",
     "text": [
      "0.230115056512510 & 0.135989231310137 & 0.0937223080651046 \\\\ \n",
      "0.178193673016471 & 0.272396398402827 & 0.0937988785782234 \\\\ \n",
      "0.0515460443076003 & 0.135912660797018 & 0.187861995036292 \\\\ \n"
     ]
    }
   ],
   "source": [
    "for i, element in enumerate(A_inv_abs):\n",
    "    print(element, end=' & ') if (i + 1) % 3 != 0 else print(element, end=' \\\\\\\\ \\n')"
   ]
  },
  {
   "cell_type": "code",
   "execution_count": 227,
   "metadata": {},
   "outputs": [
    {
     "data": {
      "text/markdown": [
       "\\begin{equation} ||2478.00387699616|| \\hspace{2cm} ||0.501400308248106|| \\end{equation}"
      ],
      "text/plain": [
       "<IPython.core.display.Markdown object>"
      ]
     },
     "metadata": {},
     "output_type": "display_data"
    }
   ],
   "source": [
    "A_norm     = A.norm()\n",
    "A_inv_norm = A_inv.norm()\n",
    "\n",
    "display(Markdown(f'\\\\begin{{equation}} ||{sp.latex(A_norm)}|| \\\\hspace{{2cm}} ||{sp.latex(A_inv_norm)}|| \\\\end{{equation}}'))"
   ]
  },
  {
   "cell_type": "code",
   "execution_count": 228,
   "metadata": {},
   "outputs": [
    {
     "data": {
      "text/latex": [
       "$\\displaystyle 1242.47190776588$"
      ],
      "text/plain": [
       "1242.47190776588"
      ]
     },
     "execution_count": 228,
     "metadata": {},
     "output_type": "execute_result"
    }
   ],
   "source": [
    "condA = A_norm * A_inv_norm\n",
    "condA"
   ]
  }
 ],
 "metadata": {
  "kernelspec": {
   "display_name": "Python 3",
   "language": "python",
   "name": "python3"
  },
  "language_info": {
   "codemirror_mode": {
    "name": "ipython",
    "version": 3
   },
   "file_extension": ".py",
   "mimetype": "text/x-python",
   "name": "python",
   "nbconvert_exporter": "python",
   "pygments_lexer": "ipython3",
   "version": "3.11.9"
  }
 },
 "nbformat": 4,
 "nbformat_minor": 2
}
