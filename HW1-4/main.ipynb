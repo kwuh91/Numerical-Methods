{
 "cells": [
  {
   "cell_type": "code",
   "execution_count": 9,
   "metadata": {},
   "outputs": [],
   "source": [
    "import numpy as np\n",
    "\n",
    "import sys \n",
    "import os\n",
    "sys.path.append(os.path.abspath(\"D:\\\\VScodeProjects\\\\numerical-methods\\\\pythonDependencies\"))\n",
    "from format import *      # type: ignore\n",
    "from formatLatex import * # type: ignore"
   ]
  },
  {
   "cell_type": "code",
   "execution_count": 10,
   "metadata": {},
   "outputs": [],
   "source": [
    "np.seterr(divide='ignore', invalid='ignore')\n",
    "showTex: bool = False"
   ]
  },
  {
   "cell_type": "code",
   "execution_count": 11,
   "metadata": {},
   "outputs": [
    {
     "data": {
      "text/html": [
       "<div style=\"text-align: center; font-size: 24px;\"><p>Matrix A</p></div>"
      ],
      "text/plain": [
       "<IPython.core.display.HTML object>"
      ]
     },
     "metadata": {},
     "output_type": "display_data"
    },
    {
     "data": {
      "text/html": [
       "<table style='border-collapse: collapse; width: 50%; margin: auto;'><tr><td style='border: 1px solid black; padding: 10px; text-align: center;'>10.0</td><td style='border: 1px solid black; padding: 10px; text-align: center;'>1.0</td><td style='border: 1px solid black; padding: 10px; text-align: center;'>-2.0</td><td style='border: 1px solid black; padding: 10px; text-align: center;'>3.0</td></tr><tr><td style='border: 1px solid black; padding: 10px; text-align: center;'>1.0</td><td style='border: 1px solid black; padding: 10px; text-align: center;'>10.0</td><td style='border: 1px solid black; padding: 10px; text-align: center;'>3.0</td><td style='border: 1px solid black; padding: 10px; text-align: center;'>-2.0</td></tr><tr><td style='border: 1px solid black; padding: 10px; text-align: center;'>-2.0</td><td style='border: 1px solid black; padding: 10px; text-align: center;'>3.0</td><td style='border: 1px solid black; padding: 10px; text-align: center;'>10.0</td><td style='border: 1px solid black; padding: 10px; text-align: center;'>1.0</td></tr><tr><td style='border: 1px solid black; padding: 10px; text-align: center;'>3.0</td><td style='border: 1px solid black; padding: 10px; text-align: center;'>-2.0</td><td style='border: 1px solid black; padding: 10px; text-align: center;'>1.0</td><td style='border: 1px solid black; padding: 10px; text-align: center;'>10.0</td></tr></table>"
      ],
      "text/plain": [
       "<IPython.core.display.HTML object>"
      ]
     },
     "metadata": {},
     "output_type": "display_data"
    }
   ],
   "source": [
    "# N: int = 9\n",
    "N: int = 14\n",
    "n: int = 52\n",
    "beta: float = 1 + 0.1 * (52 - n)\n",
    "epsilon: float = 0.01\n",
    "\n",
    "PRECISION = 7\n",
    "\n",
    "# A = np.array([[10 * beta, -1,          2,         3         ],\n",
    "#               [-1,         10 * beta, -3,         2         ],\n",
    "#               [2,         -3,          10 * beta, 1         ],\n",
    "#               [3,          2,          1,         10 * beta ]])\n",
    "\n",
    "A = np.array([[ 10 * beta, 1,        -2,         3         ],\n",
    "              [ 1,         10 * beta, 3,        -2         ],\n",
    "              [-2,         3,         10 * beta, 1         ],\n",
    "              [ 3,        -2,         1,         10 * beta ]])\n",
    "\n",
    "# A = np.array([[10 * beta, 1,          -2,         3          ],\n",
    "#               [1,         10 * beta, 3,         2            ],\n",
    "#               [-2,         3,          10 * beta, -1         ],\n",
    "#               [3,          2,          -1,         10 * beta ]])\n",
    "\n",
    "printBig('Matrix A') # type: ignore\n",
    "printMatrix(A)       # type: ignore\n",
    "if showTex:\n",
    "    latexMatrix(A) # type: ignore"
   ]
  },
  {
   "cell_type": "code",
   "execution_count": 12,
   "metadata": {},
   "outputs": [],
   "source": [
    "def rotate(A, V):\n",
    "    def findLargestNonDiagonal(Matrix):\n",
    "        size = np.shape(Matrix)\n",
    "        maxim = -float('inf')\n",
    "        i_: int\n",
    "        j_: int\n",
    "        for i in range(size[0]):\n",
    "            for j in range(size[1]):\n",
    "                if i == j:\n",
    "                    continue\n",
    "\n",
    "                absCurrentValue = abs(Matrix[i][j])\n",
    "                if absCurrentValue > maxim:\n",
    "                    maxim = absCurrentValue\n",
    "                    i_ = i\n",
    "                    j_ = j\n",
    "\n",
    "        return maxim, i_, j_\n",
    "\n",
    "    printBig('Current A')  # type: ignore\n",
    "    printMatrix(A)         # type: ignore\n",
    "    if showTex:\n",
    "        latexMatrix(A) # type: ignore\n",
    "\n",
    "    printBig('Current V')  # type: ignore\n",
    "    printMatrix(V)         # type: ignore\n",
    "    if showTex:\n",
    "        latexMatrix(V) # type: ignore\n",
    "\n",
    "    a_ij, i, j = findLargestNonDiagonal(A)\n",
    "    if showTex:\n",
    "        print(f'\\na_ij = {a_ij}, i = {i}, j = {j}')\n",
    "\n",
    "    theta = 1 / 2 * np.arctan((2 * a_ij) / (A[i][i] - A[j][j]))\n",
    "    if showTex:\n",
    "        print(f'theta = {np.round(theta, PRECISION)}')\n",
    "\n",
    "    c = np.cos(theta)\n",
    "    if showTex:\n",
    "        print(f'c = {np.round(c, PRECISION)}')\n",
    "\n",
    "    s = np.sin(theta)\n",
    "    if showTex:\n",
    "        print(f's = {np.round(s, PRECISION)}')\n",
    "\n",
    "    R = np.eye(np.shape(A)[0], dtype=np.float64)\n",
    "    R[i][i] = c\n",
    "    R[j][j] = c\n",
    "    R[i][j] = -s\n",
    "    R[j][i] = s\n",
    "    R = np.round(R, PRECISION)\n",
    "    printBig('Rotation Matrix R') # type: ignore\n",
    "    printMatrix(R)                # type: ignore\n",
    "    if showTex:\n",
    "        latexMatrix(R) # type: ignore\n",
    "\n",
    "    A = np.round(R.T @ A @ R, PRECISION)\n",
    "    printBig('New A')  # type: ignore\n",
    "    printMatrix(A)     # type: ignore\n",
    "    if showTex:\n",
    "        latexMatrix(A) # type: ignore\n",
    "\n",
    "    V = np.round(V @ R, PRECISION)\n",
    "    printBig('New V')  # type: ignore\n",
    "    printMatrix(V)     # type: ignore\n",
    "    if showTex:\n",
    "        latexMatrix(V) # type: ignore\n",
    "\n",
    "    return A, V"
   ]
  },
  {
   "cell_type": "code",
   "execution_count": 13,
   "metadata": {},
   "outputs": [
    {
     "data": {
      "text/html": [
       "<div style=\"text-align: center; font-size: 24px;\"><p>Матрица собственных векторов V</p></div>"
      ],
      "text/plain": [
       "<IPython.core.display.HTML object>"
      ]
     },
     "metadata": {},
     "output_type": "display_data"
    },
    {
     "data": {
      "text/html": [
       "<table style='border-collapse: collapse; width: 50%; margin: auto;'><tr><td style='border: 1px solid black; padding: 10px; text-align: center;'>1.0</td><td style='border: 1px solid black; padding: 10px; text-align: center;'>0.0</td><td style='border: 1px solid black; padding: 10px; text-align: center;'>0.0</td><td style='border: 1px solid black; padding: 10px; text-align: center;'>0.0</td></tr><tr><td style='border: 1px solid black; padding: 10px; text-align: center;'>0.0</td><td style='border: 1px solid black; padding: 10px; text-align: center;'>1.0</td><td style='border: 1px solid black; padding: 10px; text-align: center;'>0.0</td><td style='border: 1px solid black; padding: 10px; text-align: center;'>0.0</td></tr><tr><td style='border: 1px solid black; padding: 10px; text-align: center;'>0.0</td><td style='border: 1px solid black; padding: 10px; text-align: center;'>0.0</td><td style='border: 1px solid black; padding: 10px; text-align: center;'>1.0</td><td style='border: 1px solid black; padding: 10px; text-align: center;'>0.0</td></tr><tr><td style='border: 1px solid black; padding: 10px; text-align: center;'>0.0</td><td style='border: 1px solid black; padding: 10px; text-align: center;'>0.0</td><td style='border: 1px solid black; padding: 10px; text-align: center;'>0.0</td><td style='border: 1px solid black; padding: 10px; text-align: center;'>1.0</td></tr></table>"
      ],
      "text/plain": [
       "<IPython.core.display.HTML object>"
      ]
     },
     "metadata": {},
     "output_type": "display_data"
    }
   ],
   "source": [
    "V = np.eye(np.shape(A)[0])\n",
    "printBig('Матрица собственных векторов V') # type: ignore\n",
    "printMatrix(V) # type: ignore\n",
    "if showTex:\n",
    "    latexMatrix(V) # type: ignore"
   ]
  },
  {
   "cell_type": "code",
   "execution_count": 14,
   "metadata": {},
   "outputs": [],
   "source": [
    "def checkIfDiagonalEnough(Matrix, Precision):\n",
    "    sumOfNonDiagonal: float = 0\n",
    "    size = np.shape(Matrix)\n",
    "    for i in range(size[0]):\n",
    "        for j in range(size[1]):\n",
    "            if i == j:\n",
    "                continue\n",
    "            \n",
    "            sumOfNonDiagonal += np.power(Matrix[i][j], 2)\n",
    "    \n",
    "    print(f'sum of non diagonals squared = {sumOfNonDiagonal}')\n",
    "\n",
    "    return sumOfNonDiagonal <= Precision"
   ]
  },
  {
   "cell_type": "code",
   "execution_count": 15,
   "metadata": {},
   "outputs": [
    {
     "name": "stdout",
     "output_type": "stream",
     "text": [
      "sum of non diagonals squared = 56.0\n",
      "--------------------------------------------------------------------------------------------------------------------------------------------------------------------------------------------------------------\n"
     ]
    },
    {
     "data": {
      "text/html": [
       "<div style=\"text-align: center; font-size: 24px;\"><p>Iteration 1</p></div>"
      ],
      "text/plain": [
       "<IPython.core.display.HTML object>"
      ]
     },
     "metadata": {},
     "output_type": "display_data"
    },
    {
     "name": "stdout",
     "output_type": "stream",
     "text": [
      "--------------------------------------------------------------------------------------------------------------------------------------------------------------------------------------------------------------\n"
     ]
    },
    {
     "data": {
      "text/html": [
       "<div style=\"text-align: center; font-size: 24px;\"><p>Current A</p></div>"
      ],
      "text/plain": [
       "<IPython.core.display.HTML object>"
      ]
     },
     "metadata": {},
     "output_type": "display_data"
    },
    {
     "data": {
      "text/html": [
       "<table style='border-collapse: collapse; width: 50%; margin: auto;'><tr><td style='border: 1px solid black; padding: 10px; text-align: center;'>10.0</td><td style='border: 1px solid black; padding: 10px; text-align: center;'>1.0</td><td style='border: 1px solid black; padding: 10px; text-align: center;'>-2.0</td><td style='border: 1px solid black; padding: 10px; text-align: center;'>3.0</td></tr><tr><td style='border: 1px solid black; padding: 10px; text-align: center;'>1.0</td><td style='border: 1px solid black; padding: 10px; text-align: center;'>10.0</td><td style='border: 1px solid black; padding: 10px; text-align: center;'>3.0</td><td style='border: 1px solid black; padding: 10px; text-align: center;'>-2.0</td></tr><tr><td style='border: 1px solid black; padding: 10px; text-align: center;'>-2.0</td><td style='border: 1px solid black; padding: 10px; text-align: center;'>3.0</td><td style='border: 1px solid black; padding: 10px; text-align: center;'>10.0</td><td style='border: 1px solid black; padding: 10px; text-align: center;'>1.0</td></tr><tr><td style='border: 1px solid black; padding: 10px; text-align: center;'>3.0</td><td style='border: 1px solid black; padding: 10px; text-align: center;'>-2.0</td><td style='border: 1px solid black; padding: 10px; text-align: center;'>1.0</td><td style='border: 1px solid black; padding: 10px; text-align: center;'>10.0</td></tr></table>"
      ],
      "text/plain": [
       "<IPython.core.display.HTML object>"
      ]
     },
     "metadata": {},
     "output_type": "display_data"
    },
    {
     "data": {
      "text/html": [
       "<div style=\"text-align: center; font-size: 24px;\"><p>Current V</p></div>"
      ],
      "text/plain": [
       "<IPython.core.display.HTML object>"
      ]
     },
     "metadata": {},
     "output_type": "display_data"
    },
    {
     "data": {
      "text/html": [
       "<table style='border-collapse: collapse; width: 50%; margin: auto;'><tr><td style='border: 1px solid black; padding: 10px; text-align: center;'>1.0</td><td style='border: 1px solid black; padding: 10px; text-align: center;'>0.0</td><td style='border: 1px solid black; padding: 10px; text-align: center;'>0.0</td><td style='border: 1px solid black; padding: 10px; text-align: center;'>0.0</td></tr><tr><td style='border: 1px solid black; padding: 10px; text-align: center;'>0.0</td><td style='border: 1px solid black; padding: 10px; text-align: center;'>1.0</td><td style='border: 1px solid black; padding: 10px; text-align: center;'>0.0</td><td style='border: 1px solid black; padding: 10px; text-align: center;'>0.0</td></tr><tr><td style='border: 1px solid black; padding: 10px; text-align: center;'>0.0</td><td style='border: 1px solid black; padding: 10px; text-align: center;'>0.0</td><td style='border: 1px solid black; padding: 10px; text-align: center;'>1.0</td><td style='border: 1px solid black; padding: 10px; text-align: center;'>0.0</td></tr><tr><td style='border: 1px solid black; padding: 10px; text-align: center;'>0.0</td><td style='border: 1px solid black; padding: 10px; text-align: center;'>0.0</td><td style='border: 1px solid black; padding: 10px; text-align: center;'>0.0</td><td style='border: 1px solid black; padding: 10px; text-align: center;'>1.0</td></tr></table>"
      ],
      "text/plain": [
       "<IPython.core.display.HTML object>"
      ]
     },
     "metadata": {},
     "output_type": "display_data"
    },
    {
     "data": {
      "text/html": [
       "<div style=\"text-align: center; font-size: 24px;\"><p>Rotation Matrix R</p></div>"
      ],
      "text/plain": [
       "<IPython.core.display.HTML object>"
      ]
     },
     "metadata": {},
     "output_type": "display_data"
    },
    {
     "data": {
      "text/html": [
       "<table style='border-collapse: collapse; width: 50%; margin: auto;'><tr><td style='border: 1px solid black; padding: 10px; text-align: center;'>0.7071068</td><td style='border: 1px solid black; padding: 10px; text-align: center;'>0.0</td><td style='border: 1px solid black; padding: 10px; text-align: center;'>0.0</td><td style='border: 1px solid black; padding: 10px; text-align: center;'>-0.7071068</td></tr><tr><td style='border: 1px solid black; padding: 10px; text-align: center;'>0.0</td><td style='border: 1px solid black; padding: 10px; text-align: center;'>1.0</td><td style='border: 1px solid black; padding: 10px; text-align: center;'>0.0</td><td style='border: 1px solid black; padding: 10px; text-align: center;'>0.0</td></tr><tr><td style='border: 1px solid black; padding: 10px; text-align: center;'>0.0</td><td style='border: 1px solid black; padding: 10px; text-align: center;'>0.0</td><td style='border: 1px solid black; padding: 10px; text-align: center;'>1.0</td><td style='border: 1px solid black; padding: 10px; text-align: center;'>0.0</td></tr><tr><td style='border: 1px solid black; padding: 10px; text-align: center;'>0.7071068</td><td style='border: 1px solid black; padding: 10px; text-align: center;'>0.0</td><td style='border: 1px solid black; padding: 10px; text-align: center;'>0.0</td><td style='border: 1px solid black; padding: 10px; text-align: center;'>0.7071068</td></tr></table>"
      ],
      "text/plain": [
       "<IPython.core.display.HTML object>"
      ]
     },
     "metadata": {},
     "output_type": "display_data"
    },
    {
     "data": {
      "text/html": [
       "<div style=\"text-align: center; font-size: 24px;\"><p>New A</p></div>"
      ],
      "text/plain": [
       "<IPython.core.display.HTML object>"
      ]
     },
     "metadata": {},
     "output_type": "display_data"
    },
    {
     "data": {
      "text/html": [
       "<table style='border-collapse: collapse; width: 50%; margin: auto;'><tr><td style='border: 1px solid black; padding: 10px; text-align: center;'>13.0000007</td><td style='border: 1px solid black; padding: 10px; text-align: center;'>-0.7071068</td><td style='border: 1px solid black; padding: 10px; text-align: center;'>-0.7071068</td><td style='border: 1px solid black; padding: 10px; text-align: center;'>-0.0</td></tr><tr><td style='border: 1px solid black; padding: 10px; text-align: center;'>-0.7071068</td><td style='border: 1px solid black; padding: 10px; text-align: center;'>10.0</td><td style='border: 1px solid black; padding: 10px; text-align: center;'>3.0</td><td style='border: 1px solid black; padding: 10px; text-align: center;'>-2.1213204</td></tr><tr><td style='border: 1px solid black; padding: 10px; text-align: center;'>-0.7071068</td><td style='border: 1px solid black; padding: 10px; text-align: center;'>3.0</td><td style='border: 1px solid black; padding: 10px; text-align: center;'>10.0</td><td style='border: 1px solid black; padding: 10px; text-align: center;'>2.1213204</td></tr><tr><td style='border: 1px solid black; padding: 10px; text-align: center;'>-0.0</td><td style='border: 1px solid black; padding: 10px; text-align: center;'>-2.1213204</td><td style='border: 1px solid black; padding: 10px; text-align: center;'>2.1213204</td><td style='border: 1px solid black; padding: 10px; text-align: center;'>7.0000004</td></tr></table>"
      ],
      "text/plain": [
       "<IPython.core.display.HTML object>"
      ]
     },
     "metadata": {},
     "output_type": "display_data"
    },
    {
     "data": {
      "text/html": [
       "<div style=\"text-align: center; font-size: 24px;\"><p>New V</p></div>"
      ],
      "text/plain": [
       "<IPython.core.display.HTML object>"
      ]
     },
     "metadata": {},
     "output_type": "display_data"
    },
    {
     "data": {
      "text/html": [
       "<table style='border-collapse: collapse; width: 50%; margin: auto;'><tr><td style='border: 1px solid black; padding: 10px; text-align: center;'>0.7071068</td><td style='border: 1px solid black; padding: 10px; text-align: center;'>0.0</td><td style='border: 1px solid black; padding: 10px; text-align: center;'>0.0</td><td style='border: 1px solid black; padding: 10px; text-align: center;'>-0.7071068</td></tr><tr><td style='border: 1px solid black; padding: 10px; text-align: center;'>0.0</td><td style='border: 1px solid black; padding: 10px; text-align: center;'>1.0</td><td style='border: 1px solid black; padding: 10px; text-align: center;'>0.0</td><td style='border: 1px solid black; padding: 10px; text-align: center;'>0.0</td></tr><tr><td style='border: 1px solid black; padding: 10px; text-align: center;'>0.0</td><td style='border: 1px solid black; padding: 10px; text-align: center;'>0.0</td><td style='border: 1px solid black; padding: 10px; text-align: center;'>1.0</td><td style='border: 1px solid black; padding: 10px; text-align: center;'>0.0</td></tr><tr><td style='border: 1px solid black; padding: 10px; text-align: center;'>0.7071068</td><td style='border: 1px solid black; padding: 10px; text-align: center;'>0.0</td><td style='border: 1px solid black; padding: 10px; text-align: center;'>0.0</td><td style='border: 1px solid black; padding: 10px; text-align: center;'>0.7071068</td></tr></table>"
      ],
      "text/plain": [
       "<IPython.core.display.HTML object>"
      ]
     },
     "metadata": {},
     "output_type": "display_data"
    },
    {
     "name": "stdout",
     "output_type": "stream",
     "text": [
      "sum of non diagonals squared = 38.00000106424961\n",
      "--------------------------------------------------------------------------------------------------------------------------------------------------------------------------------------------------------------\n"
     ]
    },
    {
     "data": {
      "text/html": [
       "<div style=\"text-align: center; font-size: 24px;\"><p>Iteration 2</p></div>"
      ],
      "text/plain": [
       "<IPython.core.display.HTML object>"
      ]
     },
     "metadata": {},
     "output_type": "display_data"
    },
    {
     "name": "stdout",
     "output_type": "stream",
     "text": [
      "--------------------------------------------------------------------------------------------------------------------------------------------------------------------------------------------------------------\n"
     ]
    },
    {
     "data": {
      "text/html": [
       "<div style=\"text-align: center; font-size: 24px;\"><p>Current A</p></div>"
      ],
      "text/plain": [
       "<IPython.core.display.HTML object>"
      ]
     },
     "metadata": {},
     "output_type": "display_data"
    },
    {
     "data": {
      "text/html": [
       "<table style='border-collapse: collapse; width: 50%; margin: auto;'><tr><td style='border: 1px solid black; padding: 10px; text-align: center;'>13.0000007</td><td style='border: 1px solid black; padding: 10px; text-align: center;'>-0.7071068</td><td style='border: 1px solid black; padding: 10px; text-align: center;'>-0.7071068</td><td style='border: 1px solid black; padding: 10px; text-align: center;'>-0.0</td></tr><tr><td style='border: 1px solid black; padding: 10px; text-align: center;'>-0.7071068</td><td style='border: 1px solid black; padding: 10px; text-align: center;'>10.0</td><td style='border: 1px solid black; padding: 10px; text-align: center;'>3.0</td><td style='border: 1px solid black; padding: 10px; text-align: center;'>-2.1213204</td></tr><tr><td style='border: 1px solid black; padding: 10px; text-align: center;'>-0.7071068</td><td style='border: 1px solid black; padding: 10px; text-align: center;'>3.0</td><td style='border: 1px solid black; padding: 10px; text-align: center;'>10.0</td><td style='border: 1px solid black; padding: 10px; text-align: center;'>2.1213204</td></tr><tr><td style='border: 1px solid black; padding: 10px; text-align: center;'>-0.0</td><td style='border: 1px solid black; padding: 10px; text-align: center;'>-2.1213204</td><td style='border: 1px solid black; padding: 10px; text-align: center;'>2.1213204</td><td style='border: 1px solid black; padding: 10px; text-align: center;'>7.0000004</td></tr></table>"
      ],
      "text/plain": [
       "<IPython.core.display.HTML object>"
      ]
     },
     "metadata": {},
     "output_type": "display_data"
    },
    {
     "data": {
      "text/html": [
       "<div style=\"text-align: center; font-size: 24px;\"><p>Current V</p></div>"
      ],
      "text/plain": [
       "<IPython.core.display.HTML object>"
      ]
     },
     "metadata": {},
     "output_type": "display_data"
    },
    {
     "data": {
      "text/html": [
       "<table style='border-collapse: collapse; width: 50%; margin: auto;'><tr><td style='border: 1px solid black; padding: 10px; text-align: center;'>0.7071068</td><td style='border: 1px solid black; padding: 10px; text-align: center;'>0.0</td><td style='border: 1px solid black; padding: 10px; text-align: center;'>0.0</td><td style='border: 1px solid black; padding: 10px; text-align: center;'>-0.7071068</td></tr><tr><td style='border: 1px solid black; padding: 10px; text-align: center;'>0.0</td><td style='border: 1px solid black; padding: 10px; text-align: center;'>1.0</td><td style='border: 1px solid black; padding: 10px; text-align: center;'>0.0</td><td style='border: 1px solid black; padding: 10px; text-align: center;'>0.0</td></tr><tr><td style='border: 1px solid black; padding: 10px; text-align: center;'>0.0</td><td style='border: 1px solid black; padding: 10px; text-align: center;'>0.0</td><td style='border: 1px solid black; padding: 10px; text-align: center;'>1.0</td><td style='border: 1px solid black; padding: 10px; text-align: center;'>0.0</td></tr><tr><td style='border: 1px solid black; padding: 10px; text-align: center;'>0.7071068</td><td style='border: 1px solid black; padding: 10px; text-align: center;'>0.0</td><td style='border: 1px solid black; padding: 10px; text-align: center;'>0.0</td><td style='border: 1px solid black; padding: 10px; text-align: center;'>0.7071068</td></tr></table>"
      ],
      "text/plain": [
       "<IPython.core.display.HTML object>"
      ]
     },
     "metadata": {},
     "output_type": "display_data"
    },
    {
     "data": {
      "text/html": [
       "<div style=\"text-align: center; font-size: 24px;\"><p>Rotation Matrix R</p></div>"
      ],
      "text/plain": [
       "<IPython.core.display.HTML object>"
      ]
     },
     "metadata": {},
     "output_type": "display_data"
    },
    {
     "data": {
      "text/html": [
       "<table style='border-collapse: collapse; width: 50%; margin: auto;'><tr><td style='border: 1px solid black; padding: 10px; text-align: center;'>1.0</td><td style='border: 1px solid black; padding: 10px; text-align: center;'>0.0</td><td style='border: 1px solid black; padding: 10px; text-align: center;'>0.0</td><td style='border: 1px solid black; padding: 10px; text-align: center;'>0.0</td></tr><tr><td style='border: 1px solid black; padding: 10px; text-align: center;'>0.0</td><td style='border: 1px solid black; padding: 10px; text-align: center;'>0.7071068</td><td style='border: 1px solid black; padding: 10px; text-align: center;'>-0.7071068</td><td style='border: 1px solid black; padding: 10px; text-align: center;'>0.0</td></tr><tr><td style='border: 1px solid black; padding: 10px; text-align: center;'>0.0</td><td style='border: 1px solid black; padding: 10px; text-align: center;'>0.7071068</td><td style='border: 1px solid black; padding: 10px; text-align: center;'>0.7071068</td><td style='border: 1px solid black; padding: 10px; text-align: center;'>0.0</td></tr><tr><td style='border: 1px solid black; padding: 10px; text-align: center;'>0.0</td><td style='border: 1px solid black; padding: 10px; text-align: center;'>0.0</td><td style='border: 1px solid black; padding: 10px; text-align: center;'>0.0</td><td style='border: 1px solid black; padding: 10px; text-align: center;'>1.0</td></tr></table>"
      ],
      "text/plain": [
       "<IPython.core.display.HTML object>"
      ]
     },
     "metadata": {},
     "output_type": "display_data"
    },
    {
     "data": {
      "text/html": [
       "<div style=\"text-align: center; font-size: 24px;\"><p>New A</p></div>"
      ],
      "text/plain": [
       "<IPython.core.display.HTML object>"
      ]
     },
     "metadata": {},
     "output_type": "display_data"
    },
    {
     "data": {
      "text/html": [
       "<table style='border-collapse: collapse; width: 50%; margin: auto;'><tr><td style='border: 1px solid black; padding: 10px; text-align: center;'>13.0000007</td><td style='border: 1px solid black; padding: 10px; text-align: center;'>-1.0000001</td><td style='border: 1px solid black; padding: 10px; text-align: center;'>0.0</td><td style='border: 1px solid black; padding: 10px; text-align: center;'>0.0</td></tr><tr><td style='border: 1px solid black; padding: 10px; text-align: center;'>-1.0000001</td><td style='border: 1px solid black; padding: 10px; text-align: center;'>13.0000007</td><td style='border: 1px solid black; padding: 10px; text-align: center;'>-0.0</td><td style='border: 1px solid black; padding: 10px; text-align: center;'>0.0</td></tr><tr><td style='border: 1px solid black; padding: 10px; text-align: center;'>0.0</td><td style='border: 1px solid black; padding: 10px; text-align: center;'>-0.0</td><td style='border: 1px solid black; padding: 10px; text-align: center;'>7.0000004</td><td style='border: 1px solid black; padding: 10px; text-align: center;'>3.0000002</td></tr><tr><td style='border: 1px solid black; padding: 10px; text-align: center;'>0.0</td><td style='border: 1px solid black; padding: 10px; text-align: center;'>0.0</td><td style='border: 1px solid black; padding: 10px; text-align: center;'>3.0000002</td><td style='border: 1px solid black; padding: 10px; text-align: center;'>7.0000004</td></tr></table>"
      ],
      "text/plain": [
       "<IPython.core.display.HTML object>"
      ]
     },
     "metadata": {},
     "output_type": "display_data"
    },
    {
     "data": {
      "text/html": [
       "<div style=\"text-align: center; font-size: 24px;\"><p>New V</p></div>"
      ],
      "text/plain": [
       "<IPython.core.display.HTML object>"
      ]
     },
     "metadata": {},
     "output_type": "display_data"
    },
    {
     "data": {
      "text/html": [
       "<table style='border-collapse: collapse; width: 50%; margin: auto;'><tr><td style='border: 1px solid black; padding: 10px; text-align: center;'>0.7071068</td><td style='border: 1px solid black; padding: 10px; text-align: center;'>0.0</td><td style='border: 1px solid black; padding: 10px; text-align: center;'>0.0</td><td style='border: 1px solid black; padding: 10px; text-align: center;'>-0.7071068</td></tr><tr><td style='border: 1px solid black; padding: 10px; text-align: center;'>0.0</td><td style='border: 1px solid black; padding: 10px; text-align: center;'>0.7071068</td><td style='border: 1px solid black; padding: 10px; text-align: center;'>-0.7071068</td><td style='border: 1px solid black; padding: 10px; text-align: center;'>0.0</td></tr><tr><td style='border: 1px solid black; padding: 10px; text-align: center;'>0.0</td><td style='border: 1px solid black; padding: 10px; text-align: center;'>0.7071068</td><td style='border: 1px solid black; padding: 10px; text-align: center;'>0.7071068</td><td style='border: 1px solid black; padding: 10px; text-align: center;'>0.0</td></tr><tr><td style='border: 1px solid black; padding: 10px; text-align: center;'>0.7071068</td><td style='border: 1px solid black; padding: 10px; text-align: center;'>0.0</td><td style='border: 1px solid black; padding: 10px; text-align: center;'>0.0</td><td style='border: 1px solid black; padding: 10px; text-align: center;'>0.7071068</td></tr></table>"
      ],
      "text/plain": [
       "<IPython.core.display.HTML object>"
      ]
     },
     "metadata": {},
     "output_type": "display_data"
    },
    {
     "name": "stdout",
     "output_type": "stream",
     "text": [
      "sum of non diagonals squared = 20.000002800000104\n",
      "--------------------------------------------------------------------------------------------------------------------------------------------------------------------------------------------------------------\n"
     ]
    },
    {
     "data": {
      "text/html": [
       "<div style=\"text-align: center; font-size: 24px;\"><p>Iteration 3</p></div>"
      ],
      "text/plain": [
       "<IPython.core.display.HTML object>"
      ]
     },
     "metadata": {},
     "output_type": "display_data"
    },
    {
     "name": "stdout",
     "output_type": "stream",
     "text": [
      "--------------------------------------------------------------------------------------------------------------------------------------------------------------------------------------------------------------\n"
     ]
    },
    {
     "data": {
      "text/html": [
       "<div style=\"text-align: center; font-size: 24px;\"><p>Current A</p></div>"
      ],
      "text/plain": [
       "<IPython.core.display.HTML object>"
      ]
     },
     "metadata": {},
     "output_type": "display_data"
    },
    {
     "data": {
      "text/html": [
       "<table style='border-collapse: collapse; width: 50%; margin: auto;'><tr><td style='border: 1px solid black; padding: 10px; text-align: center;'>13.0000007</td><td style='border: 1px solid black; padding: 10px; text-align: center;'>-1.0000001</td><td style='border: 1px solid black; padding: 10px; text-align: center;'>0.0</td><td style='border: 1px solid black; padding: 10px; text-align: center;'>0.0</td></tr><tr><td style='border: 1px solid black; padding: 10px; text-align: center;'>-1.0000001</td><td style='border: 1px solid black; padding: 10px; text-align: center;'>13.0000007</td><td style='border: 1px solid black; padding: 10px; text-align: center;'>-0.0</td><td style='border: 1px solid black; padding: 10px; text-align: center;'>0.0</td></tr><tr><td style='border: 1px solid black; padding: 10px; text-align: center;'>0.0</td><td style='border: 1px solid black; padding: 10px; text-align: center;'>-0.0</td><td style='border: 1px solid black; padding: 10px; text-align: center;'>7.0000004</td><td style='border: 1px solid black; padding: 10px; text-align: center;'>3.0000002</td></tr><tr><td style='border: 1px solid black; padding: 10px; text-align: center;'>0.0</td><td style='border: 1px solid black; padding: 10px; text-align: center;'>0.0</td><td style='border: 1px solid black; padding: 10px; text-align: center;'>3.0000002</td><td style='border: 1px solid black; padding: 10px; text-align: center;'>7.0000004</td></tr></table>"
      ],
      "text/plain": [
       "<IPython.core.display.HTML object>"
      ]
     },
     "metadata": {},
     "output_type": "display_data"
    },
    {
     "data": {
      "text/html": [
       "<div style=\"text-align: center; font-size: 24px;\"><p>Current V</p></div>"
      ],
      "text/plain": [
       "<IPython.core.display.HTML object>"
      ]
     },
     "metadata": {},
     "output_type": "display_data"
    },
    {
     "data": {
      "text/html": [
       "<table style='border-collapse: collapse; width: 50%; margin: auto;'><tr><td style='border: 1px solid black; padding: 10px; text-align: center;'>0.7071068</td><td style='border: 1px solid black; padding: 10px; text-align: center;'>0.0</td><td style='border: 1px solid black; padding: 10px; text-align: center;'>0.0</td><td style='border: 1px solid black; padding: 10px; text-align: center;'>-0.7071068</td></tr><tr><td style='border: 1px solid black; padding: 10px; text-align: center;'>0.0</td><td style='border: 1px solid black; padding: 10px; text-align: center;'>0.7071068</td><td style='border: 1px solid black; padding: 10px; text-align: center;'>-0.7071068</td><td style='border: 1px solid black; padding: 10px; text-align: center;'>0.0</td></tr><tr><td style='border: 1px solid black; padding: 10px; text-align: center;'>0.0</td><td style='border: 1px solid black; padding: 10px; text-align: center;'>0.7071068</td><td style='border: 1px solid black; padding: 10px; text-align: center;'>0.7071068</td><td style='border: 1px solid black; padding: 10px; text-align: center;'>0.0</td></tr><tr><td style='border: 1px solid black; padding: 10px; text-align: center;'>0.7071068</td><td style='border: 1px solid black; padding: 10px; text-align: center;'>0.0</td><td style='border: 1px solid black; padding: 10px; text-align: center;'>0.0</td><td style='border: 1px solid black; padding: 10px; text-align: center;'>0.7071068</td></tr></table>"
      ],
      "text/plain": [
       "<IPython.core.display.HTML object>"
      ]
     },
     "metadata": {},
     "output_type": "display_data"
    },
    {
     "data": {
      "text/html": [
       "<div style=\"text-align: center; font-size: 24px;\"><p>Rotation Matrix R</p></div>"
      ],
      "text/plain": [
       "<IPython.core.display.HTML object>"
      ]
     },
     "metadata": {},
     "output_type": "display_data"
    },
    {
     "data": {
      "text/html": [
       "<table style='border-collapse: collapse; width: 50%; margin: auto;'><tr><td style='border: 1px solid black; padding: 10px; text-align: center;'>1.0</td><td style='border: 1px solid black; padding: 10px; text-align: center;'>0.0</td><td style='border: 1px solid black; padding: 10px; text-align: center;'>0.0</td><td style='border: 1px solid black; padding: 10px; text-align: center;'>0.0</td></tr><tr><td style='border: 1px solid black; padding: 10px; text-align: center;'>0.0</td><td style='border: 1px solid black; padding: 10px; text-align: center;'>1.0</td><td style='border: 1px solid black; padding: 10px; text-align: center;'>0.0</td><td style='border: 1px solid black; padding: 10px; text-align: center;'>0.0</td></tr><tr><td style='border: 1px solid black; padding: 10px; text-align: center;'>0.0</td><td style='border: 1px solid black; padding: 10px; text-align: center;'>0.0</td><td style='border: 1px solid black; padding: 10px; text-align: center;'>0.7071068</td><td style='border: 1px solid black; padding: 10px; text-align: center;'>-0.7071068</td></tr><tr><td style='border: 1px solid black; padding: 10px; text-align: center;'>0.0</td><td style='border: 1px solid black; padding: 10px; text-align: center;'>0.0</td><td style='border: 1px solid black; padding: 10px; text-align: center;'>0.7071068</td><td style='border: 1px solid black; padding: 10px; text-align: center;'>0.7071068</td></tr></table>"
      ],
      "text/plain": [
       "<IPython.core.display.HTML object>"
      ]
     },
     "metadata": {},
     "output_type": "display_data"
    },
    {
     "data": {
      "text/html": [
       "<div style=\"text-align: center; font-size: 24px;\"><p>New A</p></div>"
      ],
      "text/plain": [
       "<IPython.core.display.HTML object>"
      ]
     },
     "metadata": {},
     "output_type": "display_data"
    },
    {
     "data": {
      "text/html": [
       "<table style='border-collapse: collapse; width: 50%; margin: auto;'><tr><td style='border: 1px solid black; padding: 10px; text-align: center;'>13.0000007</td><td style='border: 1px solid black; padding: 10px; text-align: center;'>-1.0000001</td><td style='border: 1px solid black; padding: 10px; text-align: center;'>0.0</td><td style='border: 1px solid black; padding: 10px; text-align: center;'>0.0</td></tr><tr><td style='border: 1px solid black; padding: 10px; text-align: center;'>-1.0000001</td><td style='border: 1px solid black; padding: 10px; text-align: center;'>13.0000007</td><td style='border: 1px solid black; padding: 10px; text-align: center;'>0.0</td><td style='border: 1px solid black; padding: 10px; text-align: center;'>0.0</td></tr><tr><td style='border: 1px solid black; padding: 10px; text-align: center;'>0.0</td><td style='border: 1px solid black; padding: 10px; text-align: center;'>0.0</td><td style='border: 1px solid black; padding: 10px; text-align: center;'>10.0000011</td><td style='border: 1px solid black; padding: 10px; text-align: center;'>-0.0</td></tr><tr><td style='border: 1px solid black; padding: 10px; text-align: center;'>0.0</td><td style='border: 1px solid black; padding: 10px; text-align: center;'>0.0</td><td style='border: 1px solid black; padding: 10px; text-align: center;'>0.0</td><td style='border: 1px solid black; padding: 10px; text-align: center;'>4.0000004</td></tr></table>"
      ],
      "text/plain": [
       "<IPython.core.display.HTML object>"
      ]
     },
     "metadata": {},
     "output_type": "display_data"
    },
    {
     "data": {
      "text/html": [
       "<div style=\"text-align: center; font-size: 24px;\"><p>New V</p></div>"
      ],
      "text/plain": [
       "<IPython.core.display.HTML object>"
      ]
     },
     "metadata": {},
     "output_type": "display_data"
    },
    {
     "data": {
      "text/html": [
       "<table style='border-collapse: collapse; width: 50%; margin: auto;'><tr><td style='border: 1px solid black; padding: 10px; text-align: center;'>0.7071068</td><td style='border: 1px solid black; padding: 10px; text-align: center;'>0.0</td><td style='border: 1px solid black; padding: 10px; text-align: center;'>-0.5</td><td style='border: 1px solid black; padding: 10px; text-align: center;'>-0.5</td></tr><tr><td style='border: 1px solid black; padding: 10px; text-align: center;'>0.0</td><td style='border: 1px solid black; padding: 10px; text-align: center;'>0.7071068</td><td style='border: 1px solid black; padding: 10px; text-align: center;'>-0.5</td><td style='border: 1px solid black; padding: 10px; text-align: center;'>0.5</td></tr><tr><td style='border: 1px solid black; padding: 10px; text-align: center;'>0.0</td><td style='border: 1px solid black; padding: 10px; text-align: center;'>0.7071068</td><td style='border: 1px solid black; padding: 10px; text-align: center;'>0.5</td><td style='border: 1px solid black; padding: 10px; text-align: center;'>-0.5</td></tr><tr><td style='border: 1px solid black; padding: 10px; text-align: center;'>0.7071068</td><td style='border: 1px solid black; padding: 10px; text-align: center;'>0.0</td><td style='border: 1px solid black; padding: 10px; text-align: center;'>0.5</td><td style='border: 1px solid black; padding: 10px; text-align: center;'>0.5</td></tr></table>"
      ],
      "text/plain": [
       "<IPython.core.display.HTML object>"
      ]
     },
     "metadata": {},
     "output_type": "display_data"
    },
    {
     "name": "stdout",
     "output_type": "stream",
     "text": [
      "sum of non diagonals squared = 2.00000040000002\n",
      "--------------------------------------------------------------------------------------------------------------------------------------------------------------------------------------------------------------\n"
     ]
    },
    {
     "data": {
      "text/html": [
       "<div style=\"text-align: center; font-size: 24px;\"><p>Iteration 4</p></div>"
      ],
      "text/plain": [
       "<IPython.core.display.HTML object>"
      ]
     },
     "metadata": {},
     "output_type": "display_data"
    },
    {
     "name": "stdout",
     "output_type": "stream",
     "text": [
      "--------------------------------------------------------------------------------------------------------------------------------------------------------------------------------------------------------------\n"
     ]
    },
    {
     "data": {
      "text/html": [
       "<div style=\"text-align: center; font-size: 24px;\"><p>Current A</p></div>"
      ],
      "text/plain": [
       "<IPython.core.display.HTML object>"
      ]
     },
     "metadata": {},
     "output_type": "display_data"
    },
    {
     "data": {
      "text/html": [
       "<table style='border-collapse: collapse; width: 50%; margin: auto;'><tr><td style='border: 1px solid black; padding: 10px; text-align: center;'>13.0000007</td><td style='border: 1px solid black; padding: 10px; text-align: center;'>-1.0000001</td><td style='border: 1px solid black; padding: 10px; text-align: center;'>0.0</td><td style='border: 1px solid black; padding: 10px; text-align: center;'>0.0</td></tr><tr><td style='border: 1px solid black; padding: 10px; text-align: center;'>-1.0000001</td><td style='border: 1px solid black; padding: 10px; text-align: center;'>13.0000007</td><td style='border: 1px solid black; padding: 10px; text-align: center;'>0.0</td><td style='border: 1px solid black; padding: 10px; text-align: center;'>0.0</td></tr><tr><td style='border: 1px solid black; padding: 10px; text-align: center;'>0.0</td><td style='border: 1px solid black; padding: 10px; text-align: center;'>0.0</td><td style='border: 1px solid black; padding: 10px; text-align: center;'>10.0000011</td><td style='border: 1px solid black; padding: 10px; text-align: center;'>-0.0</td></tr><tr><td style='border: 1px solid black; padding: 10px; text-align: center;'>0.0</td><td style='border: 1px solid black; padding: 10px; text-align: center;'>0.0</td><td style='border: 1px solid black; padding: 10px; text-align: center;'>0.0</td><td style='border: 1px solid black; padding: 10px; text-align: center;'>4.0000004</td></tr></table>"
      ],
      "text/plain": [
       "<IPython.core.display.HTML object>"
      ]
     },
     "metadata": {},
     "output_type": "display_data"
    },
    {
     "data": {
      "text/html": [
       "<div style=\"text-align: center; font-size: 24px;\"><p>Current V</p></div>"
      ],
      "text/plain": [
       "<IPython.core.display.HTML object>"
      ]
     },
     "metadata": {},
     "output_type": "display_data"
    },
    {
     "data": {
      "text/html": [
       "<table style='border-collapse: collapse; width: 50%; margin: auto;'><tr><td style='border: 1px solid black; padding: 10px; text-align: center;'>0.7071068</td><td style='border: 1px solid black; padding: 10px; text-align: center;'>0.0</td><td style='border: 1px solid black; padding: 10px; text-align: center;'>-0.5</td><td style='border: 1px solid black; padding: 10px; text-align: center;'>-0.5</td></tr><tr><td style='border: 1px solid black; padding: 10px; text-align: center;'>0.0</td><td style='border: 1px solid black; padding: 10px; text-align: center;'>0.7071068</td><td style='border: 1px solid black; padding: 10px; text-align: center;'>-0.5</td><td style='border: 1px solid black; padding: 10px; text-align: center;'>0.5</td></tr><tr><td style='border: 1px solid black; padding: 10px; text-align: center;'>0.0</td><td style='border: 1px solid black; padding: 10px; text-align: center;'>0.7071068</td><td style='border: 1px solid black; padding: 10px; text-align: center;'>0.5</td><td style='border: 1px solid black; padding: 10px; text-align: center;'>-0.5</td></tr><tr><td style='border: 1px solid black; padding: 10px; text-align: center;'>0.7071068</td><td style='border: 1px solid black; padding: 10px; text-align: center;'>0.0</td><td style='border: 1px solid black; padding: 10px; text-align: center;'>0.5</td><td style='border: 1px solid black; padding: 10px; text-align: center;'>0.5</td></tr></table>"
      ],
      "text/plain": [
       "<IPython.core.display.HTML object>"
      ]
     },
     "metadata": {},
     "output_type": "display_data"
    },
    {
     "data": {
      "text/html": [
       "<div style=\"text-align: center; font-size: 24px;\"><p>Rotation Matrix R</p></div>"
      ],
      "text/plain": [
       "<IPython.core.display.HTML object>"
      ]
     },
     "metadata": {},
     "output_type": "display_data"
    },
    {
     "data": {
      "text/html": [
       "<table style='border-collapse: collapse; width: 50%; margin: auto;'><tr><td style='border: 1px solid black; padding: 10px; text-align: center;'>0.7071068</td><td style='border: 1px solid black; padding: 10px; text-align: center;'>-0.7071068</td><td style='border: 1px solid black; padding: 10px; text-align: center;'>0.0</td><td style='border: 1px solid black; padding: 10px; text-align: center;'>0.0</td></tr><tr><td style='border: 1px solid black; padding: 10px; text-align: center;'>0.7071068</td><td style='border: 1px solid black; padding: 10px; text-align: center;'>0.7071068</td><td style='border: 1px solid black; padding: 10px; text-align: center;'>0.0</td><td style='border: 1px solid black; padding: 10px; text-align: center;'>0.0</td></tr><tr><td style='border: 1px solid black; padding: 10px; text-align: center;'>0.0</td><td style='border: 1px solid black; padding: 10px; text-align: center;'>0.0</td><td style='border: 1px solid black; padding: 10px; text-align: center;'>1.0</td><td style='border: 1px solid black; padding: 10px; text-align: center;'>0.0</td></tr><tr><td style='border: 1px solid black; padding: 10px; text-align: center;'>0.0</td><td style='border: 1px solid black; padding: 10px; text-align: center;'>0.0</td><td style='border: 1px solid black; padding: 10px; text-align: center;'>0.0</td><td style='border: 1px solid black; padding: 10px; text-align: center;'>1.0</td></tr></table>"
      ],
      "text/plain": [
       "<IPython.core.display.HTML object>"
      ]
     },
     "metadata": {},
     "output_type": "display_data"
    },
    {
     "data": {
      "text/html": [
       "<div style=\"text-align: center; font-size: 24px;\"><p>New A</p></div>"
      ],
      "text/plain": [
       "<IPython.core.display.HTML object>"
      ]
     },
     "metadata": {},
     "output_type": "display_data"
    },
    {
     "data": {
      "text/html": [
       "<table style='border-collapse: collapse; width: 50%; margin: auto;'><tr><td style='border: 1px solid black; padding: 10px; text-align: center;'>12.0000012</td><td style='border: 1px solid black; padding: 10px; text-align: center;'>0.0</td><td style='border: 1px solid black; padding: 10px; text-align: center;'>0.0</td><td style='border: 1px solid black; padding: 10px; text-align: center;'>0.0</td></tr><tr><td style='border: 1px solid black; padding: 10px; text-align: center;'>0.0</td><td style='border: 1px solid black; padding: 10px; text-align: center;'>14.0000015</td><td style='border: 1px solid black; padding: 10px; text-align: center;'>0.0</td><td style='border: 1px solid black; padding: 10px; text-align: center;'>0.0</td></tr><tr><td style='border: 1px solid black; padding: 10px; text-align: center;'>0.0</td><td style='border: 1px solid black; padding: 10px; text-align: center;'>0.0</td><td style='border: 1px solid black; padding: 10px; text-align: center;'>10.0000011</td><td style='border: 1px solid black; padding: 10px; text-align: center;'>0.0</td></tr><tr><td style='border: 1px solid black; padding: 10px; text-align: center;'>0.0</td><td style='border: 1px solid black; padding: 10px; text-align: center;'>0.0</td><td style='border: 1px solid black; padding: 10px; text-align: center;'>0.0</td><td style='border: 1px solid black; padding: 10px; text-align: center;'>4.0000004</td></tr></table>"
      ],
      "text/plain": [
       "<IPython.core.display.HTML object>"
      ]
     },
     "metadata": {},
     "output_type": "display_data"
    },
    {
     "data": {
      "text/html": [
       "<div style=\"text-align: center; font-size: 24px;\"><p>New V</p></div>"
      ],
      "text/plain": [
       "<IPython.core.display.HTML object>"
      ]
     },
     "metadata": {},
     "output_type": "display_data"
    },
    {
     "data": {
      "text/html": [
       "<table style='border-collapse: collapse; width: 50%; margin: auto;'><tr><td style='border: 1px solid black; padding: 10px; text-align: center;'>0.5</td><td style='border: 1px solid black; padding: 10px; text-align: center;'>-0.5</td><td style='border: 1px solid black; padding: 10px; text-align: center;'>-0.5</td><td style='border: 1px solid black; padding: 10px; text-align: center;'>-0.5</td></tr><tr><td style='border: 1px solid black; padding: 10px; text-align: center;'>0.5</td><td style='border: 1px solid black; padding: 10px; text-align: center;'>0.5</td><td style='border: 1px solid black; padding: 10px; text-align: center;'>-0.5</td><td style='border: 1px solid black; padding: 10px; text-align: center;'>0.5</td></tr><tr><td style='border: 1px solid black; padding: 10px; text-align: center;'>0.5</td><td style='border: 1px solid black; padding: 10px; text-align: center;'>0.5</td><td style='border: 1px solid black; padding: 10px; text-align: center;'>0.5</td><td style='border: 1px solid black; padding: 10px; text-align: center;'>-0.5</td></tr><tr><td style='border: 1px solid black; padding: 10px; text-align: center;'>0.5</td><td style='border: 1px solid black; padding: 10px; text-align: center;'>-0.5</td><td style='border: 1px solid black; padding: 10px; text-align: center;'>0.5</td><td style='border: 1px solid black; padding: 10px; text-align: center;'>0.5</td></tr></table>"
      ],
      "text/plain": [
       "<IPython.core.display.HTML object>"
      ]
     },
     "metadata": {},
     "output_type": "display_data"
    },
    {
     "name": "stdout",
     "output_type": "stream",
     "text": [
      "sum of non diagonals squared = 0.0\n"
     ]
    }
   ],
   "source": [
    "newA = A\n",
    "\n",
    "iteration: int = 1\n",
    "while not checkIfDiagonalEnough(newA, epsilon):\n",
    "    print(f'-'*206)\n",
    "    printBig(f'Iteration {iteration}') # type: ignore\n",
    "    print(f'-'*206)\n",
    "\n",
    "    newA, V = rotate(newA, V) \n",
    "    iteration += 1"
   ]
  },
  {
   "cell_type": "code",
   "execution_count": 16,
   "metadata": {},
   "outputs": [
    {
     "name": "stdout",
     "output_type": "stream",
     "text": [
      "A * q0        = [6. 6. 6. 6.]\n",
      "lambda_0 * q0 = [6.0000006 6.0000006 6.0000006 6.0000006]\n",
      "\n",
      "A * q1        = [-7.  7.  7. -7.]\n",
      "lambda_1 * q1 = [-7.00000075  7.00000075  7.00000075 -7.00000075]\n",
      "\n",
      "A * q2        = [-5. -5.  5.  5.]\n",
      "lambda_2 * q2 = [-5.00000055 -5.00000055  5.00000055  5.00000055]\n",
      "\n",
      "A * q3        = [-2.  2. -2.  2.]\n",
      "lambda_3 * q3 = [-2.0000002  2.0000002 -2.0000002  2.0000002]\n",
      "\n"
     ]
    }
   ],
   "source": [
    "for i in range(np.shape(A)[0]):\n",
    "    check1 = A @ V.T[i]\n",
    "    check2 = newA[i][i] * V.T[i]\n",
    "    print(f'A * q{i}        = {check1}')\n",
    "    print(f'lambda_{i} * q{i} = {check2}')\n",
    "    print(f'')\n"
   ]
  }
 ],
 "metadata": {
  "kernelspec": {
   "display_name": "Python 3",
   "language": "python",
   "name": "python3"
  },
  "language_info": {
   "codemirror_mode": {
    "name": "ipython",
    "version": 3
   },
   "file_extension": ".py",
   "mimetype": "text/x-python",
   "name": "python",
   "nbconvert_exporter": "python",
   "pygments_lexer": "ipython3",
   "version": "3.11.9"
  }
 },
 "nbformat": 4,
 "nbformat_minor": 2
}
