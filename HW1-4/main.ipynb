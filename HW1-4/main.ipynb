{
 "cells": [
  {
   "cell_type": "code",
   "execution_count": 49,
   "metadata": {},
   "outputs": [],
   "source": [
    "import numpy as np\n",
    "\n",
    "import sys \n",
    "import os\n",
    "sys.path.append(os.path.abspath(\"D:\\\\VScodeProjects\\\\numerical-methods\\\\pythonDependencies\"))\n",
    "from format import *      # type: ignore\n",
    "from formatLatex import * # type: ignore"
   ]
  },
  {
   "cell_type": "code",
   "execution_count": 50,
   "metadata": {},
   "outputs": [],
   "source": [
    "np.seterr(divide='ignore', invalid='ignore')\n",
    "showTex: bool = True"
   ]
  },
  {
   "cell_type": "code",
   "execution_count": 51,
   "metadata": {},
   "outputs": [
    {
     "data": {
      "text/html": [
       "<div style=\"text-align: center; font-size: 24px;\"><p>Matrix A</p></div>"
      ],
      "text/plain": [
       "<IPython.core.display.HTML object>"
      ]
     },
     "metadata": {},
     "output_type": "display_data"
    },
    {
     "data": {
      "text/html": [
       "<table style='border-collapse: collapse; width: 50%; margin: auto;'><tr><td style='border: 1px solid black; padding: 10px; text-align: center;'>10.0</td><td style='border: 1px solid black; padding: 10px; text-align: center;'>-1.0</td><td style='border: 1px solid black; padding: 10px; text-align: center;'>2.0</td><td style='border: 1px solid black; padding: 10px; text-align: center;'>3.0</td></tr><tr><td style='border: 1px solid black; padding: 10px; text-align: center;'>-1.0</td><td style='border: 1px solid black; padding: 10px; text-align: center;'>10.0</td><td style='border: 1px solid black; padding: 10px; text-align: center;'>-3.0</td><td style='border: 1px solid black; padding: 10px; text-align: center;'>2.0</td></tr><tr><td style='border: 1px solid black; padding: 10px; text-align: center;'>2.0</td><td style='border: 1px solid black; padding: 10px; text-align: center;'>-3.0</td><td style='border: 1px solid black; padding: 10px; text-align: center;'>10.0</td><td style='border: 1px solid black; padding: 10px; text-align: center;'>1.0</td></tr><tr><td style='border: 1px solid black; padding: 10px; text-align: center;'>3.0</td><td style='border: 1px solid black; padding: 10px; text-align: center;'>2.0</td><td style='border: 1px solid black; padding: 10px; text-align: center;'>1.0</td><td style='border: 1px solid black; padding: 10px; text-align: center;'>10.0</td></tr></table>"
      ],
      "text/plain": [
       "<IPython.core.display.HTML object>"
      ]
     },
     "metadata": {},
     "output_type": "display_data"
    },
    {
     "name": "stdout",
     "output_type": "stream",
     "text": [
      "\\begin{pmatrix}\n",
      "10.0 & -1.0 & 2.0 & 3.0 \\\\\n",
      "-1.0 & 10.0 & -3.0 & 2.0 \\\\\n",
      "2.0 & -3.0 & 10.0 & 1.0 \\\\\n",
      "3.0 & 2.0 & 1.0 & 10.0 \\\\\n",
      "\\end{pmatrix}\n"
     ]
    }
   ],
   "source": [
    "N: int = 9\n",
    "n: int = 52\n",
    "beta: float = 1 + 0.1 * (52 - n)\n",
    "epsilon: float = 0.01\n",
    "\n",
    "PRECISION = 7\n",
    "\n",
    "A = np.array([[10 * beta, -1,          2,         3         ],\n",
    "              [-1,         10 * beta, -3,         2         ],\n",
    "              [2,         -3,          10 * beta, 1         ],\n",
    "              [3,          2,          1,         10 * beta ]])\n",
    "\n",
    "# A = np.array([[10 * beta, 1,          -2,         3          ],\n",
    "#               [1,         10 * beta, 3,         2            ],\n",
    "#               [-2,         3,          10 * beta, -1         ],\n",
    "#               [3,          2,          -1,         10 * beta ]])\n",
    "\n",
    "printBig('Matrix A') # type: ignore\n",
    "printMatrix(A)       # type: ignore\n",
    "if showTex:\n",
    "    latexMatrix(A) # type: ignore"
   ]
  },
  {
   "cell_type": "code",
   "execution_count": 52,
   "metadata": {},
   "outputs": [],
   "source": [
    "def rotate(A, V):\n",
    "    def findLargestNonDiagonal(Matrix):\n",
    "        size = np.shape(Matrix)\n",
    "        maxim = -float('inf')\n",
    "        i_: int\n",
    "        j_: int\n",
    "        for i in range(size[0]):\n",
    "            for j in range(size[1]):\n",
    "                if i == j:\n",
    "                    continue\n",
    "\n",
    "                absCurrentValue = abs(Matrix[i][j])\n",
    "                if absCurrentValue > maxim:\n",
    "                    maxim = absCurrentValue\n",
    "                    i_ = i\n",
    "                    j_ = j\n",
    "\n",
    "        return maxim, i_, j_\n",
    "\n",
    "    printBig('Current A')  # type: ignore\n",
    "    printMatrix(A)         # type: ignore\n",
    "    if showTex:\n",
    "        latexMatrix(A) # type: ignore\n",
    "\n",
    "    printBig('Current V')  # type: ignore\n",
    "    printMatrix(V)         # type: ignore\n",
    "    if showTex:\n",
    "        latexMatrix(V) # type: ignore\n",
    "\n",
    "    a_ij, i, j = findLargestNonDiagonal(A)\n",
    "    if showTex:\n",
    "        print(f'\\na_ij = {a_ij}, i = {i}, j = {j}')\n",
    "\n",
    "    theta = 1 / 2 * np.arctan((2 * a_ij) / (A[i][i] - A[j][j]))\n",
    "    if showTex:\n",
    "        print(f'theta = {np.round(theta, PRECISION)}')\n",
    "\n",
    "    c = np.cos(theta)\n",
    "    if showTex:\n",
    "        print(f'c = {np.round(c, PRECISION)}')\n",
    "\n",
    "    s = np.sin(theta)\n",
    "    if showTex:\n",
    "        print(f's = {np.round(s, PRECISION)}')\n",
    "\n",
    "    R = np.eye(np.shape(A)[0], dtype=np.float64)\n",
    "    R[i][i] = c\n",
    "    R[j][j] = c\n",
    "    R[i][j] = -s\n",
    "    R[j][i] = s\n",
    "    R = np.round(R, PRECISION)\n",
    "    printBig('Rotation Matrix R') # type: ignore\n",
    "    printMatrix(R)                # type: ignore\n",
    "    if showTex:\n",
    "        latexMatrix(R) # type: ignore\n",
    "\n",
    "    A = np.round(R.T @ A @ R, PRECISION)\n",
    "    printBig('New A')  # type: ignore\n",
    "    printMatrix(A)     # type: ignore\n",
    "    if showTex:\n",
    "        latexMatrix(A) # type: ignore\n",
    "\n",
    "    V = np.round(V @ R, PRECISION)\n",
    "    printBig('New V')  # type: ignore\n",
    "    printMatrix(V)     # type: ignore\n",
    "    if showTex:\n",
    "        latexMatrix(V) # type: ignore\n",
    "\n",
    "    return A, V"
   ]
  },
  {
   "cell_type": "code",
   "execution_count": 53,
   "metadata": {},
   "outputs": [
    {
     "data": {
      "text/html": [
       "<div style=\"text-align: center; font-size: 24px;\"><p>Матрица собственных векторов V</p></div>"
      ],
      "text/plain": [
       "<IPython.core.display.HTML object>"
      ]
     },
     "metadata": {},
     "output_type": "display_data"
    },
    {
     "data": {
      "text/html": [
       "<table style='border-collapse: collapse; width: 50%; margin: auto;'><tr><td style='border: 1px solid black; padding: 10px; text-align: center;'>1.0</td><td style='border: 1px solid black; padding: 10px; text-align: center;'>0.0</td><td style='border: 1px solid black; padding: 10px; text-align: center;'>0.0</td><td style='border: 1px solid black; padding: 10px; text-align: center;'>0.0</td></tr><tr><td style='border: 1px solid black; padding: 10px; text-align: center;'>0.0</td><td style='border: 1px solid black; padding: 10px; text-align: center;'>1.0</td><td style='border: 1px solid black; padding: 10px; text-align: center;'>0.0</td><td style='border: 1px solid black; padding: 10px; text-align: center;'>0.0</td></tr><tr><td style='border: 1px solid black; padding: 10px; text-align: center;'>0.0</td><td style='border: 1px solid black; padding: 10px; text-align: center;'>0.0</td><td style='border: 1px solid black; padding: 10px; text-align: center;'>1.0</td><td style='border: 1px solid black; padding: 10px; text-align: center;'>0.0</td></tr><tr><td style='border: 1px solid black; padding: 10px; text-align: center;'>0.0</td><td style='border: 1px solid black; padding: 10px; text-align: center;'>0.0</td><td style='border: 1px solid black; padding: 10px; text-align: center;'>0.0</td><td style='border: 1px solid black; padding: 10px; text-align: center;'>1.0</td></tr></table>"
      ],
      "text/plain": [
       "<IPython.core.display.HTML object>"
      ]
     },
     "metadata": {},
     "output_type": "display_data"
    },
    {
     "name": "stdout",
     "output_type": "stream",
     "text": [
      "\\begin{pmatrix}\n",
      "1.0 & 0.0 & 0.0 & 0.0 \\\\\n",
      "0.0 & 1.0 & 0.0 & 0.0 \\\\\n",
      "0.0 & 0.0 & 1.0 & 0.0 \\\\\n",
      "0.0 & 0.0 & 0.0 & 1.0 \\\\\n",
      "\\end{pmatrix}\n"
     ]
    }
   ],
   "source": [
    "V = np.eye(np.shape(A)[0])\n",
    "printBig('Матрица собственных векторов V') # type: ignore\n",
    "printMatrix(V) # type: ignore\n",
    "if showTex:\n",
    "    latexMatrix(V) # type: ignore"
   ]
  },
  {
   "cell_type": "code",
   "execution_count": 54,
   "metadata": {},
   "outputs": [],
   "source": [
    "def checkIfDiagonalEnough(Matrix, Precision):\n",
    "    sumOfNonDiagonal: float = 0\n",
    "    size = np.shape(Matrix)\n",
    "    for i in range(size[0]):\n",
    "        for j in range(size[1]):\n",
    "            if i == j:\n",
    "                continue\n",
    "            \n",
    "            sumOfNonDiagonal += np.power(Matrix[i][j], 2)\n",
    "    \n",
    "    print(f'sum of non diagonals squared = {sumOfNonDiagonal}')\n",
    "\n",
    "    return sumOfNonDiagonal <= Precision"
   ]
  },
  {
   "cell_type": "code",
   "execution_count": 55,
   "metadata": {},
   "outputs": [
    {
     "name": "stdout",
     "output_type": "stream",
     "text": [
      "sum of non diagonals squared = 56.0\n",
      "--------------------------------------------------------------------------------------------------------------------------------------------------------------------------------------------------------------\n"
     ]
    },
    {
     "data": {
      "text/html": [
       "<div style=\"text-align: center; font-size: 24px;\"><p>Iteration 1</p></div>"
      ],
      "text/plain": [
       "<IPython.core.display.HTML object>"
      ]
     },
     "metadata": {},
     "output_type": "display_data"
    },
    {
     "name": "stdout",
     "output_type": "stream",
     "text": [
      "--------------------------------------------------------------------------------------------------------------------------------------------------------------------------------------------------------------\n"
     ]
    },
    {
     "data": {
      "text/html": [
       "<div style=\"text-align: center; font-size: 24px;\"><p>Current A</p></div>"
      ],
      "text/plain": [
       "<IPython.core.display.HTML object>"
      ]
     },
     "metadata": {},
     "output_type": "display_data"
    },
    {
     "data": {
      "text/html": [
       "<table style='border-collapse: collapse; width: 50%; margin: auto;'><tr><td style='border: 1px solid black; padding: 10px; text-align: center;'>10.0</td><td style='border: 1px solid black; padding: 10px; text-align: center;'>-1.0</td><td style='border: 1px solid black; padding: 10px; text-align: center;'>2.0</td><td style='border: 1px solid black; padding: 10px; text-align: center;'>3.0</td></tr><tr><td style='border: 1px solid black; padding: 10px; text-align: center;'>-1.0</td><td style='border: 1px solid black; padding: 10px; text-align: center;'>10.0</td><td style='border: 1px solid black; padding: 10px; text-align: center;'>-3.0</td><td style='border: 1px solid black; padding: 10px; text-align: center;'>2.0</td></tr><tr><td style='border: 1px solid black; padding: 10px; text-align: center;'>2.0</td><td style='border: 1px solid black; padding: 10px; text-align: center;'>-3.0</td><td style='border: 1px solid black; padding: 10px; text-align: center;'>10.0</td><td style='border: 1px solid black; padding: 10px; text-align: center;'>1.0</td></tr><tr><td style='border: 1px solid black; padding: 10px; text-align: center;'>3.0</td><td style='border: 1px solid black; padding: 10px; text-align: center;'>2.0</td><td style='border: 1px solid black; padding: 10px; text-align: center;'>1.0</td><td style='border: 1px solid black; padding: 10px; text-align: center;'>10.0</td></tr></table>"
      ],
      "text/plain": [
       "<IPython.core.display.HTML object>"
      ]
     },
     "metadata": {},
     "output_type": "display_data"
    },
    {
     "name": "stdout",
     "output_type": "stream",
     "text": [
      "\\begin{pmatrix}\n",
      "10.0 & -1.0 & 2.0 & 3.0 \\\\\n",
      "-1.0 & 10.0 & -3.0 & 2.0 \\\\\n",
      "2.0 & -3.0 & 10.0 & 1.0 \\\\\n",
      "3.0 & 2.0 & 1.0 & 10.0 \\\\\n",
      "\\end{pmatrix}\n"
     ]
    },
    {
     "data": {
      "text/html": [
       "<div style=\"text-align: center; font-size: 24px;\"><p>Current V</p></div>"
      ],
      "text/plain": [
       "<IPython.core.display.HTML object>"
      ]
     },
     "metadata": {},
     "output_type": "display_data"
    },
    {
     "data": {
      "text/html": [
       "<table style='border-collapse: collapse; width: 50%; margin: auto;'><tr><td style='border: 1px solid black; padding: 10px; text-align: center;'>1.0</td><td style='border: 1px solid black; padding: 10px; text-align: center;'>0.0</td><td style='border: 1px solid black; padding: 10px; text-align: center;'>0.0</td><td style='border: 1px solid black; padding: 10px; text-align: center;'>0.0</td></tr><tr><td style='border: 1px solid black; padding: 10px; text-align: center;'>0.0</td><td style='border: 1px solid black; padding: 10px; text-align: center;'>1.0</td><td style='border: 1px solid black; padding: 10px; text-align: center;'>0.0</td><td style='border: 1px solid black; padding: 10px; text-align: center;'>0.0</td></tr><tr><td style='border: 1px solid black; padding: 10px; text-align: center;'>0.0</td><td style='border: 1px solid black; padding: 10px; text-align: center;'>0.0</td><td style='border: 1px solid black; padding: 10px; text-align: center;'>1.0</td><td style='border: 1px solid black; padding: 10px; text-align: center;'>0.0</td></tr><tr><td style='border: 1px solid black; padding: 10px; text-align: center;'>0.0</td><td style='border: 1px solid black; padding: 10px; text-align: center;'>0.0</td><td style='border: 1px solid black; padding: 10px; text-align: center;'>0.0</td><td style='border: 1px solid black; padding: 10px; text-align: center;'>1.0</td></tr></table>"
      ],
      "text/plain": [
       "<IPython.core.display.HTML object>"
      ]
     },
     "metadata": {},
     "output_type": "display_data"
    },
    {
     "name": "stdout",
     "output_type": "stream",
     "text": [
      "\\begin{pmatrix}\n",
      "1.0 & 0.0 & 0.0 & 0.0 \\\\\n",
      "0.0 & 1.0 & 0.0 & 0.0 \\\\\n",
      "0.0 & 0.0 & 1.0 & 0.0 \\\\\n",
      "0.0 & 0.0 & 0.0 & 1.0 \\\\\n",
      "\\end{pmatrix}\n",
      "\n",
      "a_ij = 3.0, i = 0, j = 3\n",
      "theta = 0.7853982\n",
      "c = 0.7071068\n",
      "s = 0.7071068\n"
     ]
    },
    {
     "data": {
      "text/html": [
       "<div style=\"text-align: center; font-size: 24px;\"><p>Rotation Matrix R</p></div>"
      ],
      "text/plain": [
       "<IPython.core.display.HTML object>"
      ]
     },
     "metadata": {},
     "output_type": "display_data"
    },
    {
     "data": {
      "text/html": [
       "<table style='border-collapse: collapse; width: 50%; margin: auto;'><tr><td style='border: 1px solid black; padding: 10px; text-align: center;'>0.7071068</td><td style='border: 1px solid black; padding: 10px; text-align: center;'>0.0</td><td style='border: 1px solid black; padding: 10px; text-align: center;'>0.0</td><td style='border: 1px solid black; padding: 10px; text-align: center;'>-0.7071068</td></tr><tr><td style='border: 1px solid black; padding: 10px; text-align: center;'>0.0</td><td style='border: 1px solid black; padding: 10px; text-align: center;'>1.0</td><td style='border: 1px solid black; padding: 10px; text-align: center;'>0.0</td><td style='border: 1px solid black; padding: 10px; text-align: center;'>0.0</td></tr><tr><td style='border: 1px solid black; padding: 10px; text-align: center;'>0.0</td><td style='border: 1px solid black; padding: 10px; text-align: center;'>0.0</td><td style='border: 1px solid black; padding: 10px; text-align: center;'>1.0</td><td style='border: 1px solid black; padding: 10px; text-align: center;'>0.0</td></tr><tr><td style='border: 1px solid black; padding: 10px; text-align: center;'>0.7071068</td><td style='border: 1px solid black; padding: 10px; text-align: center;'>0.0</td><td style='border: 1px solid black; padding: 10px; text-align: center;'>0.0</td><td style='border: 1px solid black; padding: 10px; text-align: center;'>0.7071068</td></tr></table>"
      ],
      "text/plain": [
       "<IPython.core.display.HTML object>"
      ]
     },
     "metadata": {},
     "output_type": "display_data"
    },
    {
     "name": "stdout",
     "output_type": "stream",
     "text": [
      "\\begin{pmatrix}\n",
      "0.7071068 & 0.0 & 0.0 & -0.7071068 \\\\\n",
      "0.0 & 1.0 & 0.0 & 0.0 \\\\\n",
      "0.0 & 0.0 & 1.0 & 0.0 \\\\\n",
      "0.7071068 & 0.0 & 0.0 & 0.7071068 \\\\\n",
      "\\end{pmatrix}\n"
     ]
    },
    {
     "data": {
      "text/html": [
       "<div style=\"text-align: center; font-size: 24px;\"><p>New A</p></div>"
      ],
      "text/plain": [
       "<IPython.core.display.HTML object>"
      ]
     },
     "metadata": {},
     "output_type": "display_data"
    },
    {
     "data": {
      "text/html": [
       "<table style='border-collapse: collapse; width: 50%; margin: auto;'><tr><td style='border: 1px solid black; padding: 10px; text-align: center;'>13.0000007</td><td style='border: 1px solid black; padding: 10px; text-align: center;'>0.7071068</td><td style='border: 1px solid black; padding: 10px; text-align: center;'>2.1213204</td><td style='border: 1px solid black; padding: 10px; text-align: center;'>-0.0</td></tr><tr><td style='border: 1px solid black; padding: 10px; text-align: center;'>0.7071068</td><td style='border: 1px solid black; padding: 10px; text-align: center;'>10.0</td><td style='border: 1px solid black; padding: 10px; text-align: center;'>-3.0</td><td style='border: 1px solid black; padding: 10px; text-align: center;'>2.1213204</td></tr><tr><td style='border: 1px solid black; padding: 10px; text-align: center;'>2.1213204</td><td style='border: 1px solid black; padding: 10px; text-align: center;'>-3.0</td><td style='border: 1px solid black; padding: 10px; text-align: center;'>10.0</td><td style='border: 1px solid black; padding: 10px; text-align: center;'>-0.7071068</td></tr><tr><td style='border: 1px solid black; padding: 10px; text-align: center;'>-0.0</td><td style='border: 1px solid black; padding: 10px; text-align: center;'>2.1213204</td><td style='border: 1px solid black; padding: 10px; text-align: center;'>-0.7071068</td><td style='border: 1px solid black; padding: 10px; text-align: center;'>7.0000004</td></tr></table>"
      ],
      "text/plain": [
       "<IPython.core.display.HTML object>"
      ]
     },
     "metadata": {},
     "output_type": "display_data"
    },
    {
     "name": "stdout",
     "output_type": "stream",
     "text": [
      "\\begin{pmatrix}\n",
      "13.0000007 & 0.7071068 & 2.1213204 & -0.0 \\\\\n",
      "0.7071068 & 10.0 & -3.0 & 2.1213204 \\\\\n",
      "2.1213204 & -3.0 & 10.0 & -0.7071068 \\\\\n",
      "-0.0 & 2.1213204 & -0.7071068 & 7.0000004 \\\\\n",
      "\\end{pmatrix}\n"
     ]
    },
    {
     "data": {
      "text/html": [
       "<div style=\"text-align: center; font-size: 24px;\"><p>New V</p></div>"
      ],
      "text/plain": [
       "<IPython.core.display.HTML object>"
      ]
     },
     "metadata": {},
     "output_type": "display_data"
    },
    {
     "data": {
      "text/html": [
       "<table style='border-collapse: collapse; width: 50%; margin: auto;'><tr><td style='border: 1px solid black; padding: 10px; text-align: center;'>0.7071068</td><td style='border: 1px solid black; padding: 10px; text-align: center;'>0.0</td><td style='border: 1px solid black; padding: 10px; text-align: center;'>0.0</td><td style='border: 1px solid black; padding: 10px; text-align: center;'>-0.7071068</td></tr><tr><td style='border: 1px solid black; padding: 10px; text-align: center;'>0.0</td><td style='border: 1px solid black; padding: 10px; text-align: center;'>1.0</td><td style='border: 1px solid black; padding: 10px; text-align: center;'>0.0</td><td style='border: 1px solid black; padding: 10px; text-align: center;'>0.0</td></tr><tr><td style='border: 1px solid black; padding: 10px; text-align: center;'>0.0</td><td style='border: 1px solid black; padding: 10px; text-align: center;'>0.0</td><td style='border: 1px solid black; padding: 10px; text-align: center;'>1.0</td><td style='border: 1px solid black; padding: 10px; text-align: center;'>0.0</td></tr><tr><td style='border: 1px solid black; padding: 10px; text-align: center;'>0.7071068</td><td style='border: 1px solid black; padding: 10px; text-align: center;'>0.0</td><td style='border: 1px solid black; padding: 10px; text-align: center;'>0.0</td><td style='border: 1px solid black; padding: 10px; text-align: center;'>0.7071068</td></tr></table>"
      ],
      "text/plain": [
       "<IPython.core.display.HTML object>"
      ]
     },
     "metadata": {},
     "output_type": "display_data"
    },
    {
     "name": "stdout",
     "output_type": "stream",
     "text": [
      "\\begin{pmatrix}\n",
      "0.7071068 & 0.0 & 0.0 & -0.7071068 \\\\\n",
      "0.0 & 1.0 & 0.0 & 0.0 \\\\\n",
      "0.0 & 0.0 & 1.0 & 0.0 \\\\\n",
      "0.7071068 & 0.0 & 0.0 & 0.7071068 \\\\\n",
      "\\end{pmatrix}\n",
      "sum of non diagonals squared = 38.000001064249595\n",
      "--------------------------------------------------------------------------------------------------------------------------------------------------------------------------------------------------------------\n"
     ]
    },
    {
     "data": {
      "text/html": [
       "<div style=\"text-align: center; font-size: 24px;\"><p>Iteration 2</p></div>"
      ],
      "text/plain": [
       "<IPython.core.display.HTML object>"
      ]
     },
     "metadata": {},
     "output_type": "display_data"
    },
    {
     "name": "stdout",
     "output_type": "stream",
     "text": [
      "--------------------------------------------------------------------------------------------------------------------------------------------------------------------------------------------------------------\n"
     ]
    },
    {
     "data": {
      "text/html": [
       "<div style=\"text-align: center; font-size: 24px;\"><p>Current A</p></div>"
      ],
      "text/plain": [
       "<IPython.core.display.HTML object>"
      ]
     },
     "metadata": {},
     "output_type": "display_data"
    },
    {
     "data": {
      "text/html": [
       "<table style='border-collapse: collapse; width: 50%; margin: auto;'><tr><td style='border: 1px solid black; padding: 10px; text-align: center;'>13.0000007</td><td style='border: 1px solid black; padding: 10px; text-align: center;'>0.7071068</td><td style='border: 1px solid black; padding: 10px; text-align: center;'>2.1213204</td><td style='border: 1px solid black; padding: 10px; text-align: center;'>-0.0</td></tr><tr><td style='border: 1px solid black; padding: 10px; text-align: center;'>0.7071068</td><td style='border: 1px solid black; padding: 10px; text-align: center;'>10.0</td><td style='border: 1px solid black; padding: 10px; text-align: center;'>-3.0</td><td style='border: 1px solid black; padding: 10px; text-align: center;'>2.1213204</td></tr><tr><td style='border: 1px solid black; padding: 10px; text-align: center;'>2.1213204</td><td style='border: 1px solid black; padding: 10px; text-align: center;'>-3.0</td><td style='border: 1px solid black; padding: 10px; text-align: center;'>10.0</td><td style='border: 1px solid black; padding: 10px; text-align: center;'>-0.7071068</td></tr><tr><td style='border: 1px solid black; padding: 10px; text-align: center;'>-0.0</td><td style='border: 1px solid black; padding: 10px; text-align: center;'>2.1213204</td><td style='border: 1px solid black; padding: 10px; text-align: center;'>-0.7071068</td><td style='border: 1px solid black; padding: 10px; text-align: center;'>7.0000004</td></tr></table>"
      ],
      "text/plain": [
       "<IPython.core.display.HTML object>"
      ]
     },
     "metadata": {},
     "output_type": "display_data"
    },
    {
     "name": "stdout",
     "output_type": "stream",
     "text": [
      "\\begin{pmatrix}\n",
      "13.0000007 & 0.7071068 & 2.1213204 & -0.0 \\\\\n",
      "0.7071068 & 10.0 & -3.0 & 2.1213204 \\\\\n",
      "2.1213204 & -3.0 & 10.0 & -0.7071068 \\\\\n",
      "-0.0 & 2.1213204 & -0.7071068 & 7.0000004 \\\\\n",
      "\\end{pmatrix}\n"
     ]
    },
    {
     "data": {
      "text/html": [
       "<div style=\"text-align: center; font-size: 24px;\"><p>Current V</p></div>"
      ],
      "text/plain": [
       "<IPython.core.display.HTML object>"
      ]
     },
     "metadata": {},
     "output_type": "display_data"
    },
    {
     "data": {
      "text/html": [
       "<table style='border-collapse: collapse; width: 50%; margin: auto;'><tr><td style='border: 1px solid black; padding: 10px; text-align: center;'>0.7071068</td><td style='border: 1px solid black; padding: 10px; text-align: center;'>0.0</td><td style='border: 1px solid black; padding: 10px; text-align: center;'>0.0</td><td style='border: 1px solid black; padding: 10px; text-align: center;'>-0.7071068</td></tr><tr><td style='border: 1px solid black; padding: 10px; text-align: center;'>0.0</td><td style='border: 1px solid black; padding: 10px; text-align: center;'>1.0</td><td style='border: 1px solid black; padding: 10px; text-align: center;'>0.0</td><td style='border: 1px solid black; padding: 10px; text-align: center;'>0.0</td></tr><tr><td style='border: 1px solid black; padding: 10px; text-align: center;'>0.0</td><td style='border: 1px solid black; padding: 10px; text-align: center;'>0.0</td><td style='border: 1px solid black; padding: 10px; text-align: center;'>1.0</td><td style='border: 1px solid black; padding: 10px; text-align: center;'>0.0</td></tr><tr><td style='border: 1px solid black; padding: 10px; text-align: center;'>0.7071068</td><td style='border: 1px solid black; padding: 10px; text-align: center;'>0.0</td><td style='border: 1px solid black; padding: 10px; text-align: center;'>0.0</td><td style='border: 1px solid black; padding: 10px; text-align: center;'>0.7071068</td></tr></table>"
      ],
      "text/plain": [
       "<IPython.core.display.HTML object>"
      ]
     },
     "metadata": {},
     "output_type": "display_data"
    },
    {
     "name": "stdout",
     "output_type": "stream",
     "text": [
      "\\begin{pmatrix}\n",
      "0.7071068 & 0.0 & 0.0 & -0.7071068 \\\\\n",
      "0.0 & 1.0 & 0.0 & 0.0 \\\\\n",
      "0.0 & 0.0 & 1.0 & 0.0 \\\\\n",
      "0.7071068 & 0.0 & 0.0 & 0.7071068 \\\\\n",
      "\\end{pmatrix}\n",
      "\n",
      "a_ij = 3.0, i = 1, j = 2\n",
      "theta = 0.7853982\n",
      "c = 0.7071068\n",
      "s = 0.7071068\n"
     ]
    },
    {
     "data": {
      "text/html": [
       "<div style=\"text-align: center; font-size: 24px;\"><p>Rotation Matrix R</p></div>"
      ],
      "text/plain": [
       "<IPython.core.display.HTML object>"
      ]
     },
     "metadata": {},
     "output_type": "display_data"
    },
    {
     "data": {
      "text/html": [
       "<table style='border-collapse: collapse; width: 50%; margin: auto;'><tr><td style='border: 1px solid black; padding: 10px; text-align: center;'>1.0</td><td style='border: 1px solid black; padding: 10px; text-align: center;'>0.0</td><td style='border: 1px solid black; padding: 10px; text-align: center;'>0.0</td><td style='border: 1px solid black; padding: 10px; text-align: center;'>0.0</td></tr><tr><td style='border: 1px solid black; padding: 10px; text-align: center;'>0.0</td><td style='border: 1px solid black; padding: 10px; text-align: center;'>0.7071068</td><td style='border: 1px solid black; padding: 10px; text-align: center;'>-0.7071068</td><td style='border: 1px solid black; padding: 10px; text-align: center;'>0.0</td></tr><tr><td style='border: 1px solid black; padding: 10px; text-align: center;'>0.0</td><td style='border: 1px solid black; padding: 10px; text-align: center;'>0.7071068</td><td style='border: 1px solid black; padding: 10px; text-align: center;'>0.7071068</td><td style='border: 1px solid black; padding: 10px; text-align: center;'>0.0</td></tr><tr><td style='border: 1px solid black; padding: 10px; text-align: center;'>0.0</td><td style='border: 1px solid black; padding: 10px; text-align: center;'>0.0</td><td style='border: 1px solid black; padding: 10px; text-align: center;'>0.0</td><td style='border: 1px solid black; padding: 10px; text-align: center;'>1.0</td></tr></table>"
      ],
      "text/plain": [
       "<IPython.core.display.HTML object>"
      ]
     },
     "metadata": {},
     "output_type": "display_data"
    },
    {
     "name": "stdout",
     "output_type": "stream",
     "text": [
      "\\begin{pmatrix}\n",
      "1.0 & 0.0 & 0.0 & 0.0 \\\\\n",
      "0.0 & 0.7071068 & -0.7071068 & 0.0 \\\\\n",
      "0.0 & 0.7071068 & 0.7071068 & 0.0 \\\\\n",
      "0.0 & 0.0 & 0.0 & 1.0 \\\\\n",
      "\\end{pmatrix}\n"
     ]
    },
    {
     "data": {
      "text/html": [
       "<div style=\"text-align: center; font-size: 24px;\"><p>New A</p></div>"
      ],
      "text/plain": [
       "<IPython.core.display.HTML object>"
      ]
     },
     "metadata": {},
     "output_type": "display_data"
    },
    {
     "data": {
      "text/html": [
       "<table style='border-collapse: collapse; width: 50%; margin: auto;'><tr><td style='border: 1px solid black; padding: 10px; text-align: center;'>13.0000007</td><td style='border: 1px solid black; padding: 10px; text-align: center;'>2.0000001</td><td style='border: 1px solid black; padding: 10px; text-align: center;'>1.0000001</td><td style='border: 1px solid black; padding: 10px; text-align: center;'>0.0</td></tr><tr><td style='border: 1px solid black; padding: 10px; text-align: center;'>2.0000001</td><td style='border: 1px solid black; padding: 10px; text-align: center;'>7.0000004</td><td style='border: 1px solid black; padding: 10px; text-align: center;'>-0.0</td><td style='border: 1px solid black; padding: 10px; text-align: center;'>1.0000001</td></tr><tr><td style='border: 1px solid black; padding: 10px; text-align: center;'>1.0000001</td><td style='border: 1px solid black; padding: 10px; text-align: center;'>-0.0</td><td style='border: 1px solid black; padding: 10px; text-align: center;'>13.0000007</td><td style='border: 1px solid black; padding: 10px; text-align: center;'>-2.0000001</td></tr><tr><td style='border: 1px solid black; padding: 10px; text-align: center;'>0.0</td><td style='border: 1px solid black; padding: 10px; text-align: center;'>1.0000001</td><td style='border: 1px solid black; padding: 10px; text-align: center;'>-2.0000001</td><td style='border: 1px solid black; padding: 10px; text-align: center;'>7.0000004</td></tr></table>"
      ],
      "text/plain": [
       "<IPython.core.display.HTML object>"
      ]
     },
     "metadata": {},
     "output_type": "display_data"
    },
    {
     "name": "stdout",
     "output_type": "stream",
     "text": [
      "\\begin{pmatrix}\n",
      "13.0000007 & 2.0000001 & 1.0000001 & 0.0 \\\\\n",
      "2.0000001 & 7.0000004 & -0.0 & 1.0000001 \\\\\n",
      "1.0000001 & -0.0 & 13.0000007 & -2.0000001 \\\\\n",
      "0.0 & 1.0000001 & -2.0000001 & 7.0000004 \\\\\n",
      "\\end{pmatrix}\n"
     ]
    },
    {
     "data": {
      "text/html": [
       "<div style=\"text-align: center; font-size: 24px;\"><p>New V</p></div>"
      ],
      "text/plain": [
       "<IPython.core.display.HTML object>"
      ]
     },
     "metadata": {},
     "output_type": "display_data"
    },
    {
     "data": {
      "text/html": [
       "<table style='border-collapse: collapse; width: 50%; margin: auto;'><tr><td style='border: 1px solid black; padding: 10px; text-align: center;'>0.7071068</td><td style='border: 1px solid black; padding: 10px; text-align: center;'>0.0</td><td style='border: 1px solid black; padding: 10px; text-align: center;'>0.0</td><td style='border: 1px solid black; padding: 10px; text-align: center;'>-0.7071068</td></tr><tr><td style='border: 1px solid black; padding: 10px; text-align: center;'>0.0</td><td style='border: 1px solid black; padding: 10px; text-align: center;'>0.7071068</td><td style='border: 1px solid black; padding: 10px; text-align: center;'>-0.7071068</td><td style='border: 1px solid black; padding: 10px; text-align: center;'>0.0</td></tr><tr><td style='border: 1px solid black; padding: 10px; text-align: center;'>0.0</td><td style='border: 1px solid black; padding: 10px; text-align: center;'>0.7071068</td><td style='border: 1px solid black; padding: 10px; text-align: center;'>0.7071068</td><td style='border: 1px solid black; padding: 10px; text-align: center;'>0.0</td></tr><tr><td style='border: 1px solid black; padding: 10px; text-align: center;'>0.7071068</td><td style='border: 1px solid black; padding: 10px; text-align: center;'>0.0</td><td style='border: 1px solid black; padding: 10px; text-align: center;'>0.0</td><td style='border: 1px solid black; padding: 10px; text-align: center;'>0.7071068</td></tr></table>"
      ],
      "text/plain": [
       "<IPython.core.display.HTML object>"
      ]
     },
     "metadata": {},
     "output_type": "display_data"
    },
    {
     "name": "stdout",
     "output_type": "stream",
     "text": [
      "\\begin{pmatrix}\n",
      "0.7071068 & 0.0 & 0.0 & -0.7071068 \\\\\n",
      "0.0 & 0.7071068 & -0.7071068 & 0.0 \\\\\n",
      "0.0 & 0.7071068 & 0.7071068 & 0.0 \\\\\n",
      "0.7071068 & 0.0 & 0.0 & 0.7071068 \\\\\n",
      "\\end{pmatrix}\n",
      "sum of non diagonals squared = 20.000002400000074\n",
      "--------------------------------------------------------------------------------------------------------------------------------------------------------------------------------------------------------------\n"
     ]
    },
    {
     "data": {
      "text/html": [
       "<div style=\"text-align: center; font-size: 24px;\"><p>Iteration 3</p></div>"
      ],
      "text/plain": [
       "<IPython.core.display.HTML object>"
      ]
     },
     "metadata": {},
     "output_type": "display_data"
    },
    {
     "name": "stdout",
     "output_type": "stream",
     "text": [
      "--------------------------------------------------------------------------------------------------------------------------------------------------------------------------------------------------------------\n"
     ]
    },
    {
     "data": {
      "text/html": [
       "<div style=\"text-align: center; font-size: 24px;\"><p>Current A</p></div>"
      ],
      "text/plain": [
       "<IPython.core.display.HTML object>"
      ]
     },
     "metadata": {},
     "output_type": "display_data"
    },
    {
     "data": {
      "text/html": [
       "<table style='border-collapse: collapse; width: 50%; margin: auto;'><tr><td style='border: 1px solid black; padding: 10px; text-align: center;'>13.0000007</td><td style='border: 1px solid black; padding: 10px; text-align: center;'>2.0000001</td><td style='border: 1px solid black; padding: 10px; text-align: center;'>1.0000001</td><td style='border: 1px solid black; padding: 10px; text-align: center;'>0.0</td></tr><tr><td style='border: 1px solid black; padding: 10px; text-align: center;'>2.0000001</td><td style='border: 1px solid black; padding: 10px; text-align: center;'>7.0000004</td><td style='border: 1px solid black; padding: 10px; text-align: center;'>-0.0</td><td style='border: 1px solid black; padding: 10px; text-align: center;'>1.0000001</td></tr><tr><td style='border: 1px solid black; padding: 10px; text-align: center;'>1.0000001</td><td style='border: 1px solid black; padding: 10px; text-align: center;'>-0.0</td><td style='border: 1px solid black; padding: 10px; text-align: center;'>13.0000007</td><td style='border: 1px solid black; padding: 10px; text-align: center;'>-2.0000001</td></tr><tr><td style='border: 1px solid black; padding: 10px; text-align: center;'>0.0</td><td style='border: 1px solid black; padding: 10px; text-align: center;'>1.0000001</td><td style='border: 1px solid black; padding: 10px; text-align: center;'>-2.0000001</td><td style='border: 1px solid black; padding: 10px; text-align: center;'>7.0000004</td></tr></table>"
      ],
      "text/plain": [
       "<IPython.core.display.HTML object>"
      ]
     },
     "metadata": {},
     "output_type": "display_data"
    },
    {
     "name": "stdout",
     "output_type": "stream",
     "text": [
      "\\begin{pmatrix}\n",
      "13.0000007 & 2.0000001 & 1.0000001 & 0.0 \\\\\n",
      "2.0000001 & 7.0000004 & -0.0 & 1.0000001 \\\\\n",
      "1.0000001 & -0.0 & 13.0000007 & -2.0000001 \\\\\n",
      "0.0 & 1.0000001 & -2.0000001 & 7.0000004 \\\\\n",
      "\\end{pmatrix}\n"
     ]
    },
    {
     "data": {
      "text/html": [
       "<div style=\"text-align: center; font-size: 24px;\"><p>Current V</p></div>"
      ],
      "text/plain": [
       "<IPython.core.display.HTML object>"
      ]
     },
     "metadata": {},
     "output_type": "display_data"
    },
    {
     "data": {
      "text/html": [
       "<table style='border-collapse: collapse; width: 50%; margin: auto;'><tr><td style='border: 1px solid black; padding: 10px; text-align: center;'>0.7071068</td><td style='border: 1px solid black; padding: 10px; text-align: center;'>0.0</td><td style='border: 1px solid black; padding: 10px; text-align: center;'>0.0</td><td style='border: 1px solid black; padding: 10px; text-align: center;'>-0.7071068</td></tr><tr><td style='border: 1px solid black; padding: 10px; text-align: center;'>0.0</td><td style='border: 1px solid black; padding: 10px; text-align: center;'>0.7071068</td><td style='border: 1px solid black; padding: 10px; text-align: center;'>-0.7071068</td><td style='border: 1px solid black; padding: 10px; text-align: center;'>0.0</td></tr><tr><td style='border: 1px solid black; padding: 10px; text-align: center;'>0.0</td><td style='border: 1px solid black; padding: 10px; text-align: center;'>0.7071068</td><td style='border: 1px solid black; padding: 10px; text-align: center;'>0.7071068</td><td style='border: 1px solid black; padding: 10px; text-align: center;'>0.0</td></tr><tr><td style='border: 1px solid black; padding: 10px; text-align: center;'>0.7071068</td><td style='border: 1px solid black; padding: 10px; text-align: center;'>0.0</td><td style='border: 1px solid black; padding: 10px; text-align: center;'>0.0</td><td style='border: 1px solid black; padding: 10px; text-align: center;'>0.7071068</td></tr></table>"
      ],
      "text/plain": [
       "<IPython.core.display.HTML object>"
      ]
     },
     "metadata": {},
     "output_type": "display_data"
    },
    {
     "name": "stdout",
     "output_type": "stream",
     "text": [
      "\\begin{pmatrix}\n",
      "0.7071068 & 0.0 & 0.0 & -0.7071068 \\\\\n",
      "0.0 & 0.7071068 & -0.7071068 & 0.0 \\\\\n",
      "0.0 & 0.7071068 & 0.7071068 & 0.0 \\\\\n",
      "0.7071068 & 0.0 & 0.0 & 0.7071068 \\\\\n",
      "\\end{pmatrix}\n",
      "\n",
      "a_ij = 2.0000001, i = 0, j = 1\n",
      "theta = 0.2940013\n",
      "c = 0.957092\n",
      "s = 0.2897841\n"
     ]
    },
    {
     "data": {
      "text/html": [
       "<div style=\"text-align: center; font-size: 24px;\"><p>Rotation Matrix R</p></div>"
      ],
      "text/plain": [
       "<IPython.core.display.HTML object>"
      ]
     },
     "metadata": {},
     "output_type": "display_data"
    },
    {
     "data": {
      "text/html": [
       "<table style='border-collapse: collapse; width: 50%; margin: auto;'><tr><td style='border: 1px solid black; padding: 10px; text-align: center;'>0.957092</td><td style='border: 1px solid black; padding: 10px; text-align: center;'>-0.2897841</td><td style='border: 1px solid black; padding: 10px; text-align: center;'>0.0</td><td style='border: 1px solid black; padding: 10px; text-align: center;'>0.0</td></tr><tr><td style='border: 1px solid black; padding: 10px; text-align: center;'>0.2897841</td><td style='border: 1px solid black; padding: 10px; text-align: center;'>0.957092</td><td style='border: 1px solid black; padding: 10px; text-align: center;'>0.0</td><td style='border: 1px solid black; padding: 10px; text-align: center;'>0.0</td></tr><tr><td style='border: 1px solid black; padding: 10px; text-align: center;'>0.0</td><td style='border: 1px solid black; padding: 10px; text-align: center;'>0.0</td><td style='border: 1px solid black; padding: 10px; text-align: center;'>1.0</td><td style='border: 1px solid black; padding: 10px; text-align: center;'>0.0</td></tr><tr><td style='border: 1px solid black; padding: 10px; text-align: center;'>0.0</td><td style='border: 1px solid black; padding: 10px; text-align: center;'>0.0</td><td style='border: 1px solid black; padding: 10px; text-align: center;'>0.0</td><td style='border: 1px solid black; padding: 10px; text-align: center;'>1.0</td></tr></table>"
      ],
      "text/plain": [
       "<IPython.core.display.HTML object>"
      ]
     },
     "metadata": {},
     "output_type": "display_data"
    },
    {
     "name": "stdout",
     "output_type": "stream",
     "text": [
      "\\begin{pmatrix}\n",
      "0.957092 & -0.2897841 & 0.0 & 0.0 \\\\\n",
      "0.2897841 & 0.957092 & 0.0 & 0.0 \\\\\n",
      "0.0 & 0.0 & 1.0 & 0.0 \\\\\n",
      "0.0 & 0.0 & 0.0 & 1.0 \\\\\n",
      "\\end{pmatrix}\n"
     ]
    },
    {
     "data": {
      "text/html": [
       "<div style=\"text-align: center; font-size: 24px;\"><p>New A</p></div>"
      ],
      "text/plain": [
       "<IPython.core.display.HTML object>"
      ]
     },
     "metadata": {},
     "output_type": "display_data"
    },
    {
     "data": {
      "text/html": [
       "<table style='border-collapse: collapse; width: 50%; margin: auto;'><tr><td style='border: 1px solid black; padding: 10px; text-align: center;'>13.6055509</td><td style='border: 1px solid black; padding: 10px; text-align: center;'>3e-07</td><td style='border: 1px solid black; padding: 10px; text-align: center;'>0.9570921</td><td style='border: 1px solid black; padding: 10px; text-align: center;'>0.2897841</td></tr><tr><td style='border: 1px solid black; padding: 10px; text-align: center;'>3e-07</td><td style='border: 1px solid black; padding: 10px; text-align: center;'>6.3944486</td><td style='border: 1px solid black; padding: 10px; text-align: center;'>-0.2897841</td><td style='border: 1px solid black; padding: 10px; text-align: center;'>0.9570921</td></tr><tr><td style='border: 1px solid black; padding: 10px; text-align: center;'>0.9570921</td><td style='border: 1px solid black; padding: 10px; text-align: center;'>-0.2897841</td><td style='border: 1px solid black; padding: 10px; text-align: center;'>13.0000007</td><td style='border: 1px solid black; padding: 10px; text-align: center;'>-2.0000001</td></tr><tr><td style='border: 1px solid black; padding: 10px; text-align: center;'>0.2897841</td><td style='border: 1px solid black; padding: 10px; text-align: center;'>0.9570921</td><td style='border: 1px solid black; padding: 10px; text-align: center;'>-2.0000001</td><td style='border: 1px solid black; padding: 10px; text-align: center;'>7.0000004</td></tr></table>"
      ],
      "text/plain": [
       "<IPython.core.display.HTML object>"
      ]
     },
     "metadata": {},
     "output_type": "display_data"
    },
    {
     "name": "stdout",
     "output_type": "stream",
     "text": [
      "\\begin{pmatrix}\n",
      "13.6055509 & 3e-07 & 0.9570921 & 0.2897841 \\\\\n",
      "3e-07 & 6.3944486 & -0.2897841 & 0.9570921 \\\\\n",
      "0.9570921 & -0.2897841 & 13.0000007 & -2.0000001 \\\\\n",
      "0.2897841 & 0.9570921 & -2.0000001 & 7.0000004 \\\\\n",
      "\\end{pmatrix}\n"
     ]
    },
    {
     "data": {
      "text/html": [
       "<div style=\"text-align: center; font-size: 24px;\"><p>New V</p></div>"
      ],
      "text/plain": [
       "<IPython.core.display.HTML object>"
      ]
     },
     "metadata": {},
     "output_type": "display_data"
    },
    {
     "data": {
      "text/html": [
       "<table style='border-collapse: collapse; width: 50%; margin: auto;'><tr><td style='border: 1px solid black; padding: 10px; text-align: center;'>0.6767663</td><td style='border: 1px solid black; padding: 10px; text-align: center;'>-0.2049083</td><td style='border: 1px solid black; padding: 10px; text-align: center;'>0.0</td><td style='border: 1px solid black; padding: 10px; text-align: center;'>-0.7071068</td></tr><tr><td style='border: 1px solid black; padding: 10px; text-align: center;'>0.2049083</td><td style='border: 1px solid black; padding: 10px; text-align: center;'>0.6767663</td><td style='border: 1px solid black; padding: 10px; text-align: center;'>-0.7071068</td><td style='border: 1px solid black; padding: 10px; text-align: center;'>0.0</td></tr><tr><td style='border: 1px solid black; padding: 10px; text-align: center;'>0.2049083</td><td style='border: 1px solid black; padding: 10px; text-align: center;'>0.6767663</td><td style='border: 1px solid black; padding: 10px; text-align: center;'>0.7071068</td><td style='border: 1px solid black; padding: 10px; text-align: center;'>0.0</td></tr><tr><td style='border: 1px solid black; padding: 10px; text-align: center;'>0.6767663</td><td style='border: 1px solid black; padding: 10px; text-align: center;'>-0.2049083</td><td style='border: 1px solid black; padding: 10px; text-align: center;'>0.0</td><td style='border: 1px solid black; padding: 10px; text-align: center;'>0.7071068</td></tr></table>"
      ],
      "text/plain": [
       "<IPython.core.display.HTML object>"
      ]
     },
     "metadata": {},
     "output_type": "display_data"
    },
    {
     "name": "stdout",
     "output_type": "stream",
     "text": [
      "\\begin{pmatrix}\n",
      "0.6767663 & -0.2049083 & 0.0 & -0.7071068 \\\\\n",
      "0.2049083 & 0.6767663 & -0.7071068 & 0.0 \\\\\n",
      "0.2049083 & 0.6767663 & 0.7071068 & 0.0 \\\\\n",
      "0.6767663 & -0.2049083 & 0.0 & 0.7071068 \\\\\n",
      "\\end{pmatrix}\n",
      "sum of non diagonals squared = 12.000001249981079\n",
      "--------------------------------------------------------------------------------------------------------------------------------------------------------------------------------------------------------------\n"
     ]
    },
    {
     "data": {
      "text/html": [
       "<div style=\"text-align: center; font-size: 24px;\"><p>Iteration 4</p></div>"
      ],
      "text/plain": [
       "<IPython.core.display.HTML object>"
      ]
     },
     "metadata": {},
     "output_type": "display_data"
    },
    {
     "name": "stdout",
     "output_type": "stream",
     "text": [
      "--------------------------------------------------------------------------------------------------------------------------------------------------------------------------------------------------------------\n"
     ]
    },
    {
     "data": {
      "text/html": [
       "<div style=\"text-align: center; font-size: 24px;\"><p>Current A</p></div>"
      ],
      "text/plain": [
       "<IPython.core.display.HTML object>"
      ]
     },
     "metadata": {},
     "output_type": "display_data"
    },
    {
     "data": {
      "text/html": [
       "<table style='border-collapse: collapse; width: 50%; margin: auto;'><tr><td style='border: 1px solid black; padding: 10px; text-align: center;'>13.6055509</td><td style='border: 1px solid black; padding: 10px; text-align: center;'>3e-07</td><td style='border: 1px solid black; padding: 10px; text-align: center;'>0.9570921</td><td style='border: 1px solid black; padding: 10px; text-align: center;'>0.2897841</td></tr><tr><td style='border: 1px solid black; padding: 10px; text-align: center;'>3e-07</td><td style='border: 1px solid black; padding: 10px; text-align: center;'>6.3944486</td><td style='border: 1px solid black; padding: 10px; text-align: center;'>-0.2897841</td><td style='border: 1px solid black; padding: 10px; text-align: center;'>0.9570921</td></tr><tr><td style='border: 1px solid black; padding: 10px; text-align: center;'>0.9570921</td><td style='border: 1px solid black; padding: 10px; text-align: center;'>-0.2897841</td><td style='border: 1px solid black; padding: 10px; text-align: center;'>13.0000007</td><td style='border: 1px solid black; padding: 10px; text-align: center;'>-2.0000001</td></tr><tr><td style='border: 1px solid black; padding: 10px; text-align: center;'>0.2897841</td><td style='border: 1px solid black; padding: 10px; text-align: center;'>0.9570921</td><td style='border: 1px solid black; padding: 10px; text-align: center;'>-2.0000001</td><td style='border: 1px solid black; padding: 10px; text-align: center;'>7.0000004</td></tr></table>"
      ],
      "text/plain": [
       "<IPython.core.display.HTML object>"
      ]
     },
     "metadata": {},
     "output_type": "display_data"
    },
    {
     "name": "stdout",
     "output_type": "stream",
     "text": [
      "\\begin{pmatrix}\n",
      "13.6055509 & 3e-07 & 0.9570921 & 0.2897841 \\\\\n",
      "3e-07 & 6.3944486 & -0.2897841 & 0.9570921 \\\\\n",
      "0.9570921 & -0.2897841 & 13.0000007 & -2.0000001 \\\\\n",
      "0.2897841 & 0.9570921 & -2.0000001 & 7.0000004 \\\\\n",
      "\\end{pmatrix}\n"
     ]
    },
    {
     "data": {
      "text/html": [
       "<div style=\"text-align: center; font-size: 24px;\"><p>Current V</p></div>"
      ],
      "text/plain": [
       "<IPython.core.display.HTML object>"
      ]
     },
     "metadata": {},
     "output_type": "display_data"
    },
    {
     "data": {
      "text/html": [
       "<table style='border-collapse: collapse; width: 50%; margin: auto;'><tr><td style='border: 1px solid black; padding: 10px; text-align: center;'>0.6767663</td><td style='border: 1px solid black; padding: 10px; text-align: center;'>-0.2049083</td><td style='border: 1px solid black; padding: 10px; text-align: center;'>0.0</td><td style='border: 1px solid black; padding: 10px; text-align: center;'>-0.7071068</td></tr><tr><td style='border: 1px solid black; padding: 10px; text-align: center;'>0.2049083</td><td style='border: 1px solid black; padding: 10px; text-align: center;'>0.6767663</td><td style='border: 1px solid black; padding: 10px; text-align: center;'>-0.7071068</td><td style='border: 1px solid black; padding: 10px; text-align: center;'>0.0</td></tr><tr><td style='border: 1px solid black; padding: 10px; text-align: center;'>0.2049083</td><td style='border: 1px solid black; padding: 10px; text-align: center;'>0.6767663</td><td style='border: 1px solid black; padding: 10px; text-align: center;'>0.7071068</td><td style='border: 1px solid black; padding: 10px; text-align: center;'>0.0</td></tr><tr><td style='border: 1px solid black; padding: 10px; text-align: center;'>0.6767663</td><td style='border: 1px solid black; padding: 10px; text-align: center;'>-0.2049083</td><td style='border: 1px solid black; padding: 10px; text-align: center;'>0.0</td><td style='border: 1px solid black; padding: 10px; text-align: center;'>0.7071068</td></tr></table>"
      ],
      "text/plain": [
       "<IPython.core.display.HTML object>"
      ]
     },
     "metadata": {},
     "output_type": "display_data"
    },
    {
     "name": "stdout",
     "output_type": "stream",
     "text": [
      "\\begin{pmatrix}\n",
      "0.6767663 & -0.2049083 & 0.0 & -0.7071068 \\\\\n",
      "0.2049083 & 0.6767663 & -0.7071068 & 0.0 \\\\\n",
      "0.2049083 & 0.6767663 & 0.7071068 & 0.0 \\\\\n",
      "0.6767663 & -0.2049083 & 0.0 & 0.7071068 \\\\\n",
      "\\end{pmatrix}\n",
      "\n",
      "a_ij = 2.0000001, i = 2, j = 3\n",
      "theta = 0.2940013\n",
      "c = 0.957092\n",
      "s = 0.2897841\n"
     ]
    },
    {
     "data": {
      "text/html": [
       "<div style=\"text-align: center; font-size: 24px;\"><p>Rotation Matrix R</p></div>"
      ],
      "text/plain": [
       "<IPython.core.display.HTML object>"
      ]
     },
     "metadata": {},
     "output_type": "display_data"
    },
    {
     "data": {
      "text/html": [
       "<table style='border-collapse: collapse; width: 50%; margin: auto;'><tr><td style='border: 1px solid black; padding: 10px; text-align: center;'>1.0</td><td style='border: 1px solid black; padding: 10px; text-align: center;'>0.0</td><td style='border: 1px solid black; padding: 10px; text-align: center;'>0.0</td><td style='border: 1px solid black; padding: 10px; text-align: center;'>0.0</td></tr><tr><td style='border: 1px solid black; padding: 10px; text-align: center;'>0.0</td><td style='border: 1px solid black; padding: 10px; text-align: center;'>1.0</td><td style='border: 1px solid black; padding: 10px; text-align: center;'>0.0</td><td style='border: 1px solid black; padding: 10px; text-align: center;'>0.0</td></tr><tr><td style='border: 1px solid black; padding: 10px; text-align: center;'>0.0</td><td style='border: 1px solid black; padding: 10px; text-align: center;'>0.0</td><td style='border: 1px solid black; padding: 10px; text-align: center;'>0.957092</td><td style='border: 1px solid black; padding: 10px; text-align: center;'>-0.2897841</td></tr><tr><td style='border: 1px solid black; padding: 10px; text-align: center;'>0.0</td><td style='border: 1px solid black; padding: 10px; text-align: center;'>0.0</td><td style='border: 1px solid black; padding: 10px; text-align: center;'>0.2897841</td><td style='border: 1px solid black; padding: 10px; text-align: center;'>0.957092</td></tr></table>"
      ],
      "text/plain": [
       "<IPython.core.display.HTML object>"
      ]
     },
     "metadata": {},
     "output_type": "display_data"
    },
    {
     "name": "stdout",
     "output_type": "stream",
     "text": [
      "\\begin{pmatrix}\n",
      "1.0 & 0.0 & 0.0 & 0.0 \\\\\n",
      "0.0 & 1.0 & 0.0 & 0.0 \\\\\n",
      "0.0 & 0.0 & 0.957092 & -0.2897841 \\\\\n",
      "0.0 & 0.0 & 0.2897841 & 0.957092 \\\\\n",
      "\\end{pmatrix}\n"
     ]
    },
    {
     "data": {
      "text/html": [
       "<div style=\"text-align: center; font-size: 24px;\"><p>New A</p></div>"
      ],
      "text/plain": [
       "<IPython.core.display.HTML object>"
      ]
     },
     "metadata": {},
     "output_type": "display_data"
    },
    {
     "data": {
      "text/html": [
       "<table style='border-collapse: collapse; width: 50%; margin: auto;'><tr><td style='border: 1px solid black; padding: 10px; text-align: center;'>13.6055509</td><td style='border: 1px solid black; padding: 10px; text-align: center;'>3e-07</td><td style='border: 1px solid black; padding: 10px; text-align: center;'>1.0</td><td style='border: 1px solid black; padding: 10px; text-align: center;'>-0.0</td></tr><tr><td style='border: 1px solid black; padding: 10px; text-align: center;'>3e-07</td><td style='border: 1px solid black; padding: 10px; text-align: center;'>6.3944486</td><td style='border: 1px solid black; padding: 10px; text-align: center;'>0.0</td><td style='border: 1px solid black; padding: 10px; text-align: center;'>1.0</td></tr><tr><td style='border: 1px solid black; padding: 10px; text-align: center;'>1.0</td><td style='border: 1px solid black; padding: 10px; text-align: center;'>0.0</td><td style='border: 1px solid black; padding: 10px; text-align: center;'>11.3867505</td><td style='border: 1px solid black; padding: 10px; text-align: center;'>-3.328201</td></tr><tr><td style='border: 1px solid black; padding: 10px; text-align: center;'>-0.0</td><td style='border: 1px solid black; padding: 10px; text-align: center;'>1.0</td><td style='border: 1px solid black; padding: 10px; text-align: center;'>-3.328201</td><td style='border: 1px solid black; padding: 10px; text-align: center;'>8.6132491</td></tr></table>"
      ],
      "text/plain": [
       "<IPython.core.display.HTML object>"
      ]
     },
     "metadata": {},
     "output_type": "display_data"
    },
    {
     "name": "stdout",
     "output_type": "stream",
     "text": [
      "\\begin{pmatrix}\n",
      "13.6055509 & 3e-07 & 1.0 & -0.0 \\\\\n",
      "3e-07 & 6.3944486 & 0.0 & 1.0 \\\\\n",
      "1.0 & 0.0 & 11.3867505 & -3.328201 \\\\\n",
      "-0.0 & 1.0 & -3.328201 & 8.6132491 \\\\\n",
      "\\end{pmatrix}\n"
     ]
    },
    {
     "data": {
      "text/html": [
       "<div style=\"text-align: center; font-size: 24px;\"><p>New V</p></div>"
      ],
      "text/plain": [
       "<IPython.core.display.HTML object>"
      ]
     },
     "metadata": {},
     "output_type": "display_data"
    },
    {
     "data": {
      "text/html": [
       "<table style='border-collapse: collapse; width: 50%; margin: auto;'><tr><td style='border: 1px solid black; padding: 10px; text-align: center;'>0.6767663</td><td style='border: 1px solid black; padding: 10px; text-align: center;'>-0.2049083</td><td style='border: 1px solid black; padding: 10px; text-align: center;'>-0.2049083</td><td style='border: 1px solid black; padding: 10px; text-align: center;'>-0.6767663</td></tr><tr><td style='border: 1px solid black; padding: 10px; text-align: center;'>0.2049083</td><td style='border: 1px solid black; padding: 10px; text-align: center;'>0.6767663</td><td style='border: 1px solid black; padding: 10px; text-align: center;'>-0.6767663</td><td style='border: 1px solid black; padding: 10px; text-align: center;'>0.2049083</td></tr><tr><td style='border: 1px solid black; padding: 10px; text-align: center;'>0.2049083</td><td style='border: 1px solid black; padding: 10px; text-align: center;'>0.6767663</td><td style='border: 1px solid black; padding: 10px; text-align: center;'>0.6767663</td><td style='border: 1px solid black; padding: 10px; text-align: center;'>-0.2049083</td></tr><tr><td style='border: 1px solid black; padding: 10px; text-align: center;'>0.6767663</td><td style='border: 1px solid black; padding: 10px; text-align: center;'>-0.2049083</td><td style='border: 1px solid black; padding: 10px; text-align: center;'>0.2049083</td><td style='border: 1px solid black; padding: 10px; text-align: center;'>0.6767663</td></tr></table>"
      ],
      "text/plain": [
       "<IPython.core.display.HTML object>"
      ]
     },
     "metadata": {},
     "output_type": "display_data"
    },
    {
     "name": "stdout",
     "output_type": "stream",
     "text": [
      "\\begin{pmatrix}\n",
      "0.6767663 & -0.2049083 & -0.2049083 & -0.6767663 \\\\\n",
      "0.2049083 & 0.6767663 & -0.6767663 & 0.2049083 \\\\\n",
      "0.2049083 & 0.6767663 & 0.6767663 & -0.2049083 \\\\\n",
      "0.6767663 & -0.2049083 & 0.2049083 & 0.6767663 \\\\\n",
      "\\end{pmatrix}\n",
      "sum of non diagonals squared = 26.153843792802178\n",
      "--------------------------------------------------------------------------------------------------------------------------------------------------------------------------------------------------------------\n"
     ]
    },
    {
     "data": {
      "text/html": [
       "<div style=\"text-align: center; font-size: 24px;\"><p>Iteration 5</p></div>"
      ],
      "text/plain": [
       "<IPython.core.display.HTML object>"
      ]
     },
     "metadata": {},
     "output_type": "display_data"
    },
    {
     "name": "stdout",
     "output_type": "stream",
     "text": [
      "--------------------------------------------------------------------------------------------------------------------------------------------------------------------------------------------------------------\n"
     ]
    },
    {
     "data": {
      "text/html": [
       "<div style=\"text-align: center; font-size: 24px;\"><p>Current A</p></div>"
      ],
      "text/plain": [
       "<IPython.core.display.HTML object>"
      ]
     },
     "metadata": {},
     "output_type": "display_data"
    },
    {
     "data": {
      "text/html": [
       "<table style='border-collapse: collapse; width: 50%; margin: auto;'><tr><td style='border: 1px solid black; padding: 10px; text-align: center;'>13.6055509</td><td style='border: 1px solid black; padding: 10px; text-align: center;'>3e-07</td><td style='border: 1px solid black; padding: 10px; text-align: center;'>1.0</td><td style='border: 1px solid black; padding: 10px; text-align: center;'>-0.0</td></tr><tr><td style='border: 1px solid black; padding: 10px; text-align: center;'>3e-07</td><td style='border: 1px solid black; padding: 10px; text-align: center;'>6.3944486</td><td style='border: 1px solid black; padding: 10px; text-align: center;'>0.0</td><td style='border: 1px solid black; padding: 10px; text-align: center;'>1.0</td></tr><tr><td style='border: 1px solid black; padding: 10px; text-align: center;'>1.0</td><td style='border: 1px solid black; padding: 10px; text-align: center;'>0.0</td><td style='border: 1px solid black; padding: 10px; text-align: center;'>11.3867505</td><td style='border: 1px solid black; padding: 10px; text-align: center;'>-3.328201</td></tr><tr><td style='border: 1px solid black; padding: 10px; text-align: center;'>-0.0</td><td style='border: 1px solid black; padding: 10px; text-align: center;'>1.0</td><td style='border: 1px solid black; padding: 10px; text-align: center;'>-3.328201</td><td style='border: 1px solid black; padding: 10px; text-align: center;'>8.6132491</td></tr></table>"
      ],
      "text/plain": [
       "<IPython.core.display.HTML object>"
      ]
     },
     "metadata": {},
     "output_type": "display_data"
    },
    {
     "name": "stdout",
     "output_type": "stream",
     "text": [
      "\\begin{pmatrix}\n",
      "13.6055509 & 3e-07 & 1.0 & -0.0 \\\\\n",
      "3e-07 & 6.3944486 & 0.0 & 1.0 \\\\\n",
      "1.0 & 0.0 & 11.3867505 & -3.328201 \\\\\n",
      "-0.0 & 1.0 & -3.328201 & 8.6132491 \\\\\n",
      "\\end{pmatrix}\n"
     ]
    },
    {
     "data": {
      "text/html": [
       "<div style=\"text-align: center; font-size: 24px;\"><p>Current V</p></div>"
      ],
      "text/plain": [
       "<IPython.core.display.HTML object>"
      ]
     },
     "metadata": {},
     "output_type": "display_data"
    },
    {
     "data": {
      "text/html": [
       "<table style='border-collapse: collapse; width: 50%; margin: auto;'><tr><td style='border: 1px solid black; padding: 10px; text-align: center;'>0.6767663</td><td style='border: 1px solid black; padding: 10px; text-align: center;'>-0.2049083</td><td style='border: 1px solid black; padding: 10px; text-align: center;'>-0.2049083</td><td style='border: 1px solid black; padding: 10px; text-align: center;'>-0.6767663</td></tr><tr><td style='border: 1px solid black; padding: 10px; text-align: center;'>0.2049083</td><td style='border: 1px solid black; padding: 10px; text-align: center;'>0.6767663</td><td style='border: 1px solid black; padding: 10px; text-align: center;'>-0.6767663</td><td style='border: 1px solid black; padding: 10px; text-align: center;'>0.2049083</td></tr><tr><td style='border: 1px solid black; padding: 10px; text-align: center;'>0.2049083</td><td style='border: 1px solid black; padding: 10px; text-align: center;'>0.6767663</td><td style='border: 1px solid black; padding: 10px; text-align: center;'>0.6767663</td><td style='border: 1px solid black; padding: 10px; text-align: center;'>-0.2049083</td></tr><tr><td style='border: 1px solid black; padding: 10px; text-align: center;'>0.6767663</td><td style='border: 1px solid black; padding: 10px; text-align: center;'>-0.2049083</td><td style='border: 1px solid black; padding: 10px; text-align: center;'>0.2049083</td><td style='border: 1px solid black; padding: 10px; text-align: center;'>0.6767663</td></tr></table>"
      ],
      "text/plain": [
       "<IPython.core.display.HTML object>"
      ]
     },
     "metadata": {},
     "output_type": "display_data"
    },
    {
     "name": "stdout",
     "output_type": "stream",
     "text": [
      "\\begin{pmatrix}\n",
      "0.6767663 & -0.2049083 & -0.2049083 & -0.6767663 \\\\\n",
      "0.2049083 & 0.6767663 & -0.6767663 & 0.2049083 \\\\\n",
      "0.2049083 & 0.6767663 & 0.6767663 & -0.2049083 \\\\\n",
      "0.6767663 & -0.2049083 & 0.2049083 & 0.6767663 \\\\\n",
      "\\end{pmatrix}\n",
      "\n",
      "a_ij = 3.328201, i = 2, j = 3\n",
      "theta = 0.5880026\n",
      "c = 0.8320503\n",
      "s = 0.5547002\n"
     ]
    },
    {
     "data": {
      "text/html": [
       "<div style=\"text-align: center; font-size: 24px;\"><p>Rotation Matrix R</p></div>"
      ],
      "text/plain": [
       "<IPython.core.display.HTML object>"
      ]
     },
     "metadata": {},
     "output_type": "display_data"
    },
    {
     "data": {
      "text/html": [
       "<table style='border-collapse: collapse; width: 50%; margin: auto;'><tr><td style='border: 1px solid black; padding: 10px; text-align: center;'>1.0</td><td style='border: 1px solid black; padding: 10px; text-align: center;'>0.0</td><td style='border: 1px solid black; padding: 10px; text-align: center;'>0.0</td><td style='border: 1px solid black; padding: 10px; text-align: center;'>0.0</td></tr><tr><td style='border: 1px solid black; padding: 10px; text-align: center;'>0.0</td><td style='border: 1px solid black; padding: 10px; text-align: center;'>1.0</td><td style='border: 1px solid black; padding: 10px; text-align: center;'>0.0</td><td style='border: 1px solid black; padding: 10px; text-align: center;'>0.0</td></tr><tr><td style='border: 1px solid black; padding: 10px; text-align: center;'>0.0</td><td style='border: 1px solid black; padding: 10px; text-align: center;'>0.0</td><td style='border: 1px solid black; padding: 10px; text-align: center;'>0.8320503</td><td style='border: 1px solid black; padding: 10px; text-align: center;'>-0.5547002</td></tr><tr><td style='border: 1px solid black; padding: 10px; text-align: center;'>0.0</td><td style='border: 1px solid black; padding: 10px; text-align: center;'>0.0</td><td style='border: 1px solid black; padding: 10px; text-align: center;'>0.5547002</td><td style='border: 1px solid black; padding: 10px; text-align: center;'>0.8320503</td></tr></table>"
      ],
      "text/plain": [
       "<IPython.core.display.HTML object>"
      ]
     },
     "metadata": {},
     "output_type": "display_data"
    },
    {
     "name": "stdout",
     "output_type": "stream",
     "text": [
      "\\begin{pmatrix}\n",
      "1.0 & 0.0 & 0.0 & 0.0 \\\\\n",
      "0.0 & 1.0 & 0.0 & 0.0 \\\\\n",
      "0.0 & 0.0 & 0.8320503 & -0.5547002 \\\\\n",
      "0.0 & 0.0 & 0.5547002 & 0.8320503 \\\\\n",
      "\\end{pmatrix}\n"
     ]
    },
    {
     "data": {
      "text/html": [
       "<div style=\"text-align: center; font-size: 24px;\"><p>New A</p></div>"
      ],
      "text/plain": [
       "<IPython.core.display.HTML object>"
      ]
     },
     "metadata": {},
     "output_type": "display_data"
    },
    {
     "data": {
      "text/html": [
       "<table style='border-collapse: collapse; width: 50%; margin: auto;'><tr><td style='border: 1px solid black; padding: 10px; text-align: center;'>13.6055509</td><td style='border: 1px solid black; padding: 10px; text-align: center;'>3e-07</td><td style='border: 1px solid black; padding: 10px; text-align: center;'>0.8320503</td><td style='border: 1px solid black; padding: 10px; text-align: center;'>-0.5547002</td></tr><tr><td style='border: 1px solid black; padding: 10px; text-align: center;'>3e-07</td><td style='border: 1px solid black; padding: 10px; text-align: center;'>6.3944486</td><td style='border: 1px solid black; padding: 10px; text-align: center;'>0.5547002</td><td style='border: 1px solid black; padding: 10px; text-align: center;'>0.8320503</td></tr><tr><td style='border: 1px solid black; padding: 10px; text-align: center;'>0.8320503</td><td style='border: 1px solid black; padding: 10px; text-align: center;'>0.5547002</td><td style='border: 1px solid black; padding: 10px; text-align: center;'>7.46118</td><td style='border: 1px solid black; padding: 10px; text-align: center;'>-2.5601549</td></tr><tr><td style='border: 1px solid black; padding: 10px; text-align: center;'>-0.5547002</td><td style='border: 1px solid black; padding: 10px; text-align: center;'>0.8320503</td><td style='border: 1px solid black; padding: 10px; text-align: center;'>-2.5601549</td><td style='border: 1px solid black; padding: 10px; text-align: center;'>12.5388199</td></tr></table>"
      ],
      "text/plain": [
       "<IPython.core.display.HTML object>"
      ]
     },
     "metadata": {},
     "output_type": "display_data"
    },
    {
     "name": "stdout",
     "output_type": "stream",
     "text": [
      "\\begin{pmatrix}\n",
      "13.6055509 & 3e-07 & 0.8320503 & -0.5547002 \\\\\n",
      "3e-07 & 6.3944486 & 0.5547002 & 0.8320503 \\\\\n",
      "0.8320503 & 0.5547002 & 7.46118 & -2.5601549 \\\\\n",
      "-0.5547002 & 0.8320503 & -2.5601549 & 12.5388199 \\\\\n",
      "\\end{pmatrix}\n"
     ]
    },
    {
     "data": {
      "text/html": [
       "<div style=\"text-align: center; font-size: 24px;\"><p>New V</p></div>"
      ],
      "text/plain": [
       "<IPython.core.display.HTML object>"
      ]
     },
     "metadata": {},
     "output_type": "display_data"
    },
    {
     "data": {
      "text/html": [
       "<table style='border-collapse: collapse; width: 50%; margin: auto;'><tr><td style='border: 1px solid black; padding: 10px; text-align: center;'>0.6767663</td><td style='border: 1px solid black; padding: 10px; text-align: center;'>-0.2049083</td><td style='border: 1px solid black; padding: 10px; text-align: center;'>-0.5458964</td><td style='border: 1px solid black; padding: 10px; text-align: center;'>-0.4494409</td></tr><tr><td style='border: 1px solid black; padding: 10px; text-align: center;'>0.2049083</td><td style='border: 1px solid black; padding: 10px; text-align: center;'>0.6767663</td><td style='border: 1px solid black; padding: 10px; text-align: center;'>-0.4494409</td><td style='border: 1px solid black; padding: 10px; text-align: center;'>0.5458964</td></tr><tr><td style='border: 1px solid black; padding: 10px; text-align: center;'>0.2049083</td><td style='border: 1px solid black; padding: 10px; text-align: center;'>0.6767663</td><td style='border: 1px solid black; padding: 10px; text-align: center;'>0.4494409</td><td style='border: 1px solid black; padding: 10px; text-align: center;'>-0.5458964</td></tr><tr><td style='border: 1px solid black; padding: 10px; text-align: center;'>0.6767663</td><td style='border: 1px solid black; padding: 10px; text-align: center;'>-0.2049083</td><td style='border: 1px solid black; padding: 10px; text-align: center;'>0.5458964</td><td style='border: 1px solid black; padding: 10px; text-align: center;'>0.4494409</td></tr></table>"
      ],
      "text/plain": [
       "<IPython.core.display.HTML object>"
      ]
     },
     "metadata": {},
     "output_type": "display_data"
    },
    {
     "name": "stdout",
     "output_type": "stream",
     "text": [
      "\\begin{pmatrix}\n",
      "0.6767663 & -0.2049083 & -0.5458964 & -0.4494409 \\\\\n",
      "0.2049083 & 0.6767663 & -0.4494409 & 0.5458964 \\\\\n",
      "0.2049083 & 0.6767663 & 0.4494409 & -0.5458964 \\\\\n",
      "0.6767663 & -0.2049083 & 0.5458964 & 0.4494409 \\\\\n",
      "\\end{pmatrix}\n",
      "sum of non diagonals squared = 17.10878627842872\n",
      "--------------------------------------------------------------------------------------------------------------------------------------------------------------------------------------------------------------\n"
     ]
    },
    {
     "data": {
      "text/html": [
       "<div style=\"text-align: center; font-size: 24px;\"><p>Iteration 6</p></div>"
      ],
      "text/plain": [
       "<IPython.core.display.HTML object>"
      ]
     },
     "metadata": {},
     "output_type": "display_data"
    },
    {
     "name": "stdout",
     "output_type": "stream",
     "text": [
      "--------------------------------------------------------------------------------------------------------------------------------------------------------------------------------------------------------------\n"
     ]
    },
    {
     "data": {
      "text/html": [
       "<div style=\"text-align: center; font-size: 24px;\"><p>Current A</p></div>"
      ],
      "text/plain": [
       "<IPython.core.display.HTML object>"
      ]
     },
     "metadata": {},
     "output_type": "display_data"
    },
    {
     "data": {
      "text/html": [
       "<table style='border-collapse: collapse; width: 50%; margin: auto;'><tr><td style='border: 1px solid black; padding: 10px; text-align: center;'>13.6055509</td><td style='border: 1px solid black; padding: 10px; text-align: center;'>3e-07</td><td style='border: 1px solid black; padding: 10px; text-align: center;'>0.8320503</td><td style='border: 1px solid black; padding: 10px; text-align: center;'>-0.5547002</td></tr><tr><td style='border: 1px solid black; padding: 10px; text-align: center;'>3e-07</td><td style='border: 1px solid black; padding: 10px; text-align: center;'>6.3944486</td><td style='border: 1px solid black; padding: 10px; text-align: center;'>0.5547002</td><td style='border: 1px solid black; padding: 10px; text-align: center;'>0.8320503</td></tr><tr><td style='border: 1px solid black; padding: 10px; text-align: center;'>0.8320503</td><td style='border: 1px solid black; padding: 10px; text-align: center;'>0.5547002</td><td style='border: 1px solid black; padding: 10px; text-align: center;'>7.46118</td><td style='border: 1px solid black; padding: 10px; text-align: center;'>-2.5601549</td></tr><tr><td style='border: 1px solid black; padding: 10px; text-align: center;'>-0.5547002</td><td style='border: 1px solid black; padding: 10px; text-align: center;'>0.8320503</td><td style='border: 1px solid black; padding: 10px; text-align: center;'>-2.5601549</td><td style='border: 1px solid black; padding: 10px; text-align: center;'>12.5388199</td></tr></table>"
      ],
      "text/plain": [
       "<IPython.core.display.HTML object>"
      ]
     },
     "metadata": {},
     "output_type": "display_data"
    },
    {
     "name": "stdout",
     "output_type": "stream",
     "text": [
      "\\begin{pmatrix}\n",
      "13.6055509 & 3e-07 & 0.8320503 & -0.5547002 \\\\\n",
      "3e-07 & 6.3944486 & 0.5547002 & 0.8320503 \\\\\n",
      "0.8320503 & 0.5547002 & 7.46118 & -2.5601549 \\\\\n",
      "-0.5547002 & 0.8320503 & -2.5601549 & 12.5388199 \\\\\n",
      "\\end{pmatrix}\n"
     ]
    },
    {
     "data": {
      "text/html": [
       "<div style=\"text-align: center; font-size: 24px;\"><p>Current V</p></div>"
      ],
      "text/plain": [
       "<IPython.core.display.HTML object>"
      ]
     },
     "metadata": {},
     "output_type": "display_data"
    },
    {
     "data": {
      "text/html": [
       "<table style='border-collapse: collapse; width: 50%; margin: auto;'><tr><td style='border: 1px solid black; padding: 10px; text-align: center;'>0.6767663</td><td style='border: 1px solid black; padding: 10px; text-align: center;'>-0.2049083</td><td style='border: 1px solid black; padding: 10px; text-align: center;'>-0.5458964</td><td style='border: 1px solid black; padding: 10px; text-align: center;'>-0.4494409</td></tr><tr><td style='border: 1px solid black; padding: 10px; text-align: center;'>0.2049083</td><td style='border: 1px solid black; padding: 10px; text-align: center;'>0.6767663</td><td style='border: 1px solid black; padding: 10px; text-align: center;'>-0.4494409</td><td style='border: 1px solid black; padding: 10px; text-align: center;'>0.5458964</td></tr><tr><td style='border: 1px solid black; padding: 10px; text-align: center;'>0.2049083</td><td style='border: 1px solid black; padding: 10px; text-align: center;'>0.6767663</td><td style='border: 1px solid black; padding: 10px; text-align: center;'>0.4494409</td><td style='border: 1px solid black; padding: 10px; text-align: center;'>-0.5458964</td></tr><tr><td style='border: 1px solid black; padding: 10px; text-align: center;'>0.6767663</td><td style='border: 1px solid black; padding: 10px; text-align: center;'>-0.2049083</td><td style='border: 1px solid black; padding: 10px; text-align: center;'>0.5458964</td><td style='border: 1px solid black; padding: 10px; text-align: center;'>0.4494409</td></tr></table>"
      ],
      "text/plain": [
       "<IPython.core.display.HTML object>"
      ]
     },
     "metadata": {},
     "output_type": "display_data"
    },
    {
     "name": "stdout",
     "output_type": "stream",
     "text": [
      "\\begin{pmatrix}\n",
      "0.6767663 & -0.2049083 & -0.5458964 & -0.4494409 \\\\\n",
      "0.2049083 & 0.6767663 & -0.4494409 & 0.5458964 \\\\\n",
      "0.2049083 & 0.6767663 & 0.4494409 & -0.5458964 \\\\\n",
      "0.6767663 & -0.2049083 & 0.5458964 & 0.4494409 \\\\\n",
      "\\end{pmatrix}\n",
      "\n",
      "a_ij = 2.5601549, i = 2, j = 3\n",
      "theta = -0.3947912\n",
      "c = 0.9230769\n",
      "s = -0.3846154\n"
     ]
    },
    {
     "data": {
      "text/html": [
       "<div style=\"text-align: center; font-size: 24px;\"><p>Rotation Matrix R</p></div>"
      ],
      "text/plain": [
       "<IPython.core.display.HTML object>"
      ]
     },
     "metadata": {},
     "output_type": "display_data"
    },
    {
     "data": {
      "text/html": [
       "<table style='border-collapse: collapse; width: 50%; margin: auto;'><tr><td style='border: 1px solid black; padding: 10px; text-align: center;'>1.0</td><td style='border: 1px solid black; padding: 10px; text-align: center;'>0.0</td><td style='border: 1px solid black; padding: 10px; text-align: center;'>0.0</td><td style='border: 1px solid black; padding: 10px; text-align: center;'>0.0</td></tr><tr><td style='border: 1px solid black; padding: 10px; text-align: center;'>0.0</td><td style='border: 1px solid black; padding: 10px; text-align: center;'>1.0</td><td style='border: 1px solid black; padding: 10px; text-align: center;'>0.0</td><td style='border: 1px solid black; padding: 10px; text-align: center;'>0.0</td></tr><tr><td style='border: 1px solid black; padding: 10px; text-align: center;'>0.0</td><td style='border: 1px solid black; padding: 10px; text-align: center;'>0.0</td><td style='border: 1px solid black; padding: 10px; text-align: center;'>0.9230769</td><td style='border: 1px solid black; padding: 10px; text-align: center;'>0.3846154</td></tr><tr><td style='border: 1px solid black; padding: 10px; text-align: center;'>0.0</td><td style='border: 1px solid black; padding: 10px; text-align: center;'>0.0</td><td style='border: 1px solid black; padding: 10px; text-align: center;'>-0.3846154</td><td style='border: 1px solid black; padding: 10px; text-align: center;'>0.9230769</td></tr></table>"
      ],
      "text/plain": [
       "<IPython.core.display.HTML object>"
      ]
     },
     "metadata": {},
     "output_type": "display_data"
    },
    {
     "name": "stdout",
     "output_type": "stream",
     "text": [
      "\\begin{pmatrix}\n",
      "1.0 & 0.0 & 0.0 & 0.0 \\\\\n",
      "0.0 & 1.0 & 0.0 & 0.0 \\\\\n",
      "0.0 & 0.0 & 0.9230769 & 0.3846154 \\\\\n",
      "0.0 & 0.0 & -0.3846154 & 0.9230769 \\\\\n",
      "\\end{pmatrix}\n"
     ]
    },
    {
     "data": {
      "text/html": [
       "<div style=\"text-align: center; font-size: 24px;\"><p>New A</p></div>"
      ],
      "text/plain": [
       "<IPython.core.display.HTML object>"
      ]
     },
     "metadata": {},
     "output_type": "display_data"
    },
    {
     "data": {
      "text/html": [
       "<table style='border-collapse: collapse; width: 50%; margin: auto;'><tr><td style='border: 1px solid black; padding: 10px; text-align: center;'>13.6055509</td><td style='border: 1px solid black; padding: 10px; text-align: center;'>3e-07</td><td style='border: 1px solid black; padding: 10px; text-align: center;'>0.9813927</td><td style='border: 1px solid black; padding: 10px; text-align: center;'>-0.1920116</td></tr><tr><td style='border: 1px solid black; padding: 10px; text-align: center;'>3e-07</td><td style='border: 1px solid black; padding: 10px; text-align: center;'>6.3944486</td><td style='border: 1px solid black; padding: 10px; text-align: center;'>0.1920116</td><td style='border: 1px solid black; padding: 10px; text-align: center;'>0.9813927</td></tr><tr><td style='border: 1px solid black; padding: 10px; text-align: center;'>0.9813927</td><td style='border: 1px solid black; padding: 10px; text-align: center;'>0.1920116</td><td style='border: 1px solid black; padding: 10px; text-align: center;'>10.0301715</td><td style='border: 1px solid black; padding: 10px; text-align: center;'>-3.6054249</td></tr><tr><td style='border: 1px solid black; padding: 10px; text-align: center;'>-0.1920116</td><td style='border: 1px solid black; padding: 10px; text-align: center;'>0.9813927</td><td style='border: 1px solid black; padding: 10px; text-align: center;'>-3.6054249</td><td style='border: 1px solid black; padding: 10px; text-align: center;'>9.9698278</td></tr></table>"
      ],
      "text/plain": [
       "<IPython.core.display.HTML object>"
      ]
     },
     "metadata": {},
     "output_type": "display_data"
    },
    {
     "name": "stdout",
     "output_type": "stream",
     "text": [
      "\\begin{pmatrix}\n",
      "13.6055509 & 3e-07 & 0.9813927 & -0.1920116 \\\\\n",
      "3e-07 & 6.3944486 & 0.1920116 & 0.9813927 \\\\\n",
      "0.9813927 & 0.1920116 & 10.0301715 & -3.6054249 \\\\\n",
      "-0.1920116 & 0.9813927 & -3.6054249 & 9.9698278 \\\\\n",
      "\\end{pmatrix}\n"
     ]
    },
    {
     "data": {
      "text/html": [
       "<div style=\"text-align: center; font-size: 24px;\"><p>New V</p></div>"
      ],
      "text/plain": [
       "<IPython.core.display.HTML object>"
      ]
     },
     "metadata": {},
     "output_type": "display_data"
    },
    {
     "data": {
      "text/html": [
       "<table style='border-collapse: collapse; width: 50%; margin: auto;'><tr><td style='border: 1px solid black; padding: 10px; text-align: center;'>0.6767663</td><td style='border: 1px solid black; padding: 10px; text-align: center;'>-0.2049083</td><td style='border: 1px solid black; padding: 10px; text-align: center;'>-0.3310425</td><td style='border: 1px solid black; padding: 10px; text-align: center;'>-0.6248287</td></tr><tr><td style='border: 1px solid black; padding: 10px; text-align: center;'>0.2049083</td><td style='border: 1px solid black; padding: 10px; text-align: center;'>0.6767663</td><td style='border: 1px solid black; padding: 10px; text-align: center;'>-0.6248287</td><td style='border: 1px solid black; padding: 10px; text-align: center;'>0.3310425</td></tr><tr><td style='border: 1px solid black; padding: 10px; text-align: center;'>0.2049083</td><td style='border: 1px solid black; padding: 10px; text-align: center;'>0.6767663</td><td style='border: 1px solid black; padding: 10px; text-align: center;'>0.6248287</td><td style='border: 1px solid black; padding: 10px; text-align: center;'>-0.3310425</td></tr><tr><td style='border: 1px solid black; padding: 10px; text-align: center;'>0.6767663</td><td style='border: 1px solid black; padding: 10px; text-align: center;'>-0.2049083</td><td style='border: 1px solid black; padding: 10px; text-align: center;'>0.3310425</td><td style='border: 1px solid black; padding: 10px; text-align: center;'>0.6248287</td></tr></table>"
      ],
      "text/plain": [
       "<IPython.core.display.HTML object>"
      ]
     },
     "metadata": {},
     "output_type": "display_data"
    },
    {
     "name": "stdout",
     "output_type": "stream",
     "text": [
      "\\begin{pmatrix}\n",
      "0.6767663 & -0.2049083 & -0.3310425 & -0.6248287 \\\\\n",
      "0.2049083 & 0.6767663 & -0.6248287 & 0.3310425 \\\\\n",
      "0.2049083 & 0.6767663 & 0.6248287 & -0.3310425 \\\\\n",
      "0.6767663 & -0.2049083 & 0.3310425 & 0.6248287 \\\\\n",
      "\\end{pmatrix}\n",
      "sum of non diagonals squared = 29.998177763671602\n",
      "--------------------------------------------------------------------------------------------------------------------------------------------------------------------------------------------------------------\n"
     ]
    },
    {
     "data": {
      "text/html": [
       "<div style=\"text-align: center; font-size: 24px;\"><p>Iteration 7</p></div>"
      ],
      "text/plain": [
       "<IPython.core.display.HTML object>"
      ]
     },
     "metadata": {},
     "output_type": "display_data"
    },
    {
     "name": "stdout",
     "output_type": "stream",
     "text": [
      "--------------------------------------------------------------------------------------------------------------------------------------------------------------------------------------------------------------\n"
     ]
    },
    {
     "data": {
      "text/html": [
       "<div style=\"text-align: center; font-size: 24px;\"><p>Current A</p></div>"
      ],
      "text/plain": [
       "<IPython.core.display.HTML object>"
      ]
     },
     "metadata": {},
     "output_type": "display_data"
    },
    {
     "data": {
      "text/html": [
       "<table style='border-collapse: collapse; width: 50%; margin: auto;'><tr><td style='border: 1px solid black; padding: 10px; text-align: center;'>13.6055509</td><td style='border: 1px solid black; padding: 10px; text-align: center;'>3e-07</td><td style='border: 1px solid black; padding: 10px; text-align: center;'>0.9813927</td><td style='border: 1px solid black; padding: 10px; text-align: center;'>-0.1920116</td></tr><tr><td style='border: 1px solid black; padding: 10px; text-align: center;'>3e-07</td><td style='border: 1px solid black; padding: 10px; text-align: center;'>6.3944486</td><td style='border: 1px solid black; padding: 10px; text-align: center;'>0.1920116</td><td style='border: 1px solid black; padding: 10px; text-align: center;'>0.9813927</td></tr><tr><td style='border: 1px solid black; padding: 10px; text-align: center;'>0.9813927</td><td style='border: 1px solid black; padding: 10px; text-align: center;'>0.1920116</td><td style='border: 1px solid black; padding: 10px; text-align: center;'>10.0301715</td><td style='border: 1px solid black; padding: 10px; text-align: center;'>-3.6054249</td></tr><tr><td style='border: 1px solid black; padding: 10px; text-align: center;'>-0.1920116</td><td style='border: 1px solid black; padding: 10px; text-align: center;'>0.9813927</td><td style='border: 1px solid black; padding: 10px; text-align: center;'>-3.6054249</td><td style='border: 1px solid black; padding: 10px; text-align: center;'>9.9698278</td></tr></table>"
      ],
      "text/plain": [
       "<IPython.core.display.HTML object>"
      ]
     },
     "metadata": {},
     "output_type": "display_data"
    },
    {
     "name": "stdout",
     "output_type": "stream",
     "text": [
      "\\begin{pmatrix}\n",
      "13.6055509 & 3e-07 & 0.9813927 & -0.1920116 \\\\\n",
      "3e-07 & 6.3944486 & 0.1920116 & 0.9813927 \\\\\n",
      "0.9813927 & 0.1920116 & 10.0301715 & -3.6054249 \\\\\n",
      "-0.1920116 & 0.9813927 & -3.6054249 & 9.9698278 \\\\\n",
      "\\end{pmatrix}\n"
     ]
    },
    {
     "data": {
      "text/html": [
       "<div style=\"text-align: center; font-size: 24px;\"><p>Current V</p></div>"
      ],
      "text/plain": [
       "<IPython.core.display.HTML object>"
      ]
     },
     "metadata": {},
     "output_type": "display_data"
    },
    {
     "data": {
      "text/html": [
       "<table style='border-collapse: collapse; width: 50%; margin: auto;'><tr><td style='border: 1px solid black; padding: 10px; text-align: center;'>0.6767663</td><td style='border: 1px solid black; padding: 10px; text-align: center;'>-0.2049083</td><td style='border: 1px solid black; padding: 10px; text-align: center;'>-0.3310425</td><td style='border: 1px solid black; padding: 10px; text-align: center;'>-0.6248287</td></tr><tr><td style='border: 1px solid black; padding: 10px; text-align: center;'>0.2049083</td><td style='border: 1px solid black; padding: 10px; text-align: center;'>0.6767663</td><td style='border: 1px solid black; padding: 10px; text-align: center;'>-0.6248287</td><td style='border: 1px solid black; padding: 10px; text-align: center;'>0.3310425</td></tr><tr><td style='border: 1px solid black; padding: 10px; text-align: center;'>0.2049083</td><td style='border: 1px solid black; padding: 10px; text-align: center;'>0.6767663</td><td style='border: 1px solid black; padding: 10px; text-align: center;'>0.6248287</td><td style='border: 1px solid black; padding: 10px; text-align: center;'>-0.3310425</td></tr><tr><td style='border: 1px solid black; padding: 10px; text-align: center;'>0.6767663</td><td style='border: 1px solid black; padding: 10px; text-align: center;'>-0.2049083</td><td style='border: 1px solid black; padding: 10px; text-align: center;'>0.3310425</td><td style='border: 1px solid black; padding: 10px; text-align: center;'>0.6248287</td></tr></table>"
      ],
      "text/plain": [
       "<IPython.core.display.HTML object>"
      ]
     },
     "metadata": {},
     "output_type": "display_data"
    },
    {
     "name": "stdout",
     "output_type": "stream",
     "text": [
      "\\begin{pmatrix}\n",
      "0.6767663 & -0.2049083 & -0.3310425 & -0.6248287 \\\\\n",
      "0.2049083 & 0.6767663 & -0.6248287 & 0.3310425 \\\\\n",
      "0.2049083 & 0.6767663 & 0.6248287 & -0.3310425 \\\\\n",
      "0.6767663 & -0.2049083 & 0.3310425 & 0.6248287 \\\\\n",
      "\\end{pmatrix}\n",
      "\n",
      "a_ij = 3.6054249, i = 2, j = 3\n",
      "theta = 0.781214\n",
      "c = 0.7100592\n",
      "s = 0.704142\n"
     ]
    },
    {
     "data": {
      "text/html": [
       "<div style=\"text-align: center; font-size: 24px;\"><p>Rotation Matrix R</p></div>"
      ],
      "text/plain": [
       "<IPython.core.display.HTML object>"
      ]
     },
     "metadata": {},
     "output_type": "display_data"
    },
    {
     "data": {
      "text/html": [
       "<table style='border-collapse: collapse; width: 50%; margin: auto;'><tr><td style='border: 1px solid black; padding: 10px; text-align: center;'>1.0</td><td style='border: 1px solid black; padding: 10px; text-align: center;'>0.0</td><td style='border: 1px solid black; padding: 10px; text-align: center;'>0.0</td><td style='border: 1px solid black; padding: 10px; text-align: center;'>0.0</td></tr><tr><td style='border: 1px solid black; padding: 10px; text-align: center;'>0.0</td><td style='border: 1px solid black; padding: 10px; text-align: center;'>1.0</td><td style='border: 1px solid black; padding: 10px; text-align: center;'>0.0</td><td style='border: 1px solid black; padding: 10px; text-align: center;'>0.0</td></tr><tr><td style='border: 1px solid black; padding: 10px; text-align: center;'>0.0</td><td style='border: 1px solid black; padding: 10px; text-align: center;'>0.0</td><td style='border: 1px solid black; padding: 10px; text-align: center;'>0.7100592</td><td style='border: 1px solid black; padding: 10px; text-align: center;'>-0.704142</td></tr><tr><td style='border: 1px solid black; padding: 10px; text-align: center;'>0.0</td><td style='border: 1px solid black; padding: 10px; text-align: center;'>0.0</td><td style='border: 1px solid black; padding: 10px; text-align: center;'>0.704142</td><td style='border: 1px solid black; padding: 10px; text-align: center;'>0.7100592</td></tr></table>"
      ],
      "text/plain": [
       "<IPython.core.display.HTML object>"
      ]
     },
     "metadata": {},
     "output_type": "display_data"
    },
    {
     "name": "stdout",
     "output_type": "stream",
     "text": [
      "\\begin{pmatrix}\n",
      "1.0 & 0.0 & 0.0 & 0.0 \\\\\n",
      "0.0 & 1.0 & 0.0 & 0.0 \\\\\n",
      "0.0 & 0.0 & 0.7100592 & -0.704142 \\\\\n",
      "0.0 & 0.0 & 0.704142 & 0.7100592 \\\\\n",
      "\\end{pmatrix}\n"
     ]
    },
    {
     "data": {
      "text/html": [
       "<div style=\"text-align: center; font-size: 24px;\"><p>New A</p></div>"
      ],
      "text/plain": [
       "<IPython.core.display.HTML object>"
      ]
     },
     "metadata": {},
     "output_type": "display_data"
    },
    {
     "data": {
      "text/html": [
       "<table style='border-collapse: collapse; width: 50%; margin: auto;'><tr><td style='border: 1px solid black; padding: 10px; text-align: center;'>13.6055509</td><td style='border: 1px solid black; padding: 10px; text-align: center;'>3e-07</td><td style='border: 1px solid black; padding: 10px; text-align: center;'>0.5616435</td><td style='border: 1px solid black; padding: 10px; text-align: center;'>-0.8273794</td></tr><tr><td style='border: 1px solid black; padding: 10px; text-align: center;'>3e-07</td><td style='border: 1px solid black; padding: 10px; text-align: center;'>6.3944486</td><td style='border: 1px solid black; padding: 10px; text-align: center;'>0.8273794</td><td style='border: 1px solid black; padding: 10px; text-align: center;'>0.5616435</td></tr><tr><td style='border: 1px solid black; padding: 10px; text-align: center;'>0.5616435</td><td style='border: 1px solid black; padding: 10px; text-align: center;'>0.8273794</td><td style='border: 1px solid black; padding: 10px; text-align: center;'>6.3949536</td><td style='border: 1px solid black; padding: 10px; text-align: center;'>-0.0603414</td></tr><tr><td style='border: 1px solid black; padding: 10px; text-align: center;'>-0.8273794</td><td style='border: 1px solid black; padding: 10px; text-align: center;'>0.5616435</td><td style='border: 1px solid black; padding: 10px; text-align: center;'>-0.0603414</td><td style='border: 1px solid black; padding: 10px; text-align: center;'>13.6050462</td></tr></table>"
      ],
      "text/plain": [
       "<IPython.core.display.HTML object>"
      ]
     },
     "metadata": {},
     "output_type": "display_data"
    },
    {
     "name": "stdout",
     "output_type": "stream",
     "text": [
      "\\begin{pmatrix}\n",
      "13.6055509 & 3e-07 & 0.5616435 & -0.8273794 \\\\\n",
      "3e-07 & 6.3944486 & 0.8273794 & 0.5616435 \\\\\n",
      "0.5616435 & 0.8273794 & 6.3949536 & -0.0603414 \\\\\n",
      "-0.8273794 & 0.5616435 & -0.0603414 & 13.6050462 \\\\\n",
      "\\end{pmatrix}\n"
     ]
    },
    {
     "data": {
      "text/html": [
       "<div style=\"text-align: center; font-size: 24px;\"><p>New V</p></div>"
      ],
      "text/plain": [
       "<IPython.core.display.HTML object>"
      ]
     },
     "metadata": {},
     "output_type": "display_data"
    },
    {
     "data": {
      "text/html": [
       "<table style='border-collapse: collapse; width: 50%; margin: auto;'><tr><td style='border: 1px solid black; padding: 10px; text-align: center;'>0.6767663</td><td style='border: 1px solid black; padding: 10px; text-align: center;'>-0.2049083</td><td style='border: 1px solid black; padding: 10px; text-align: center;'>-0.6750279</td><td style='border: 1px solid black; padding: 10px; text-align: center;'>-0.2105644</td></tr><tr><td style='border: 1px solid black; padding: 10px; text-align: center;'>0.2049083</td><td style='border: 1px solid black; padding: 10px; text-align: center;'>0.6767663</td><td style='border: 1px solid black; padding: 10px; text-align: center;'>-0.2105644</td><td style='border: 1px solid black; padding: 10px; text-align: center;'>0.6750279</td></tr><tr><td style='border: 1px solid black; padding: 10px; text-align: center;'>0.2049083</td><td style='border: 1px solid black; padding: 10px; text-align: center;'>0.6767663</td><td style='border: 1px solid black; padding: 10px; text-align: center;'>0.2105644</td><td style='border: 1px solid black; padding: 10px; text-align: center;'>-0.6750279</td></tr><tr><td style='border: 1px solid black; padding: 10px; text-align: center;'>0.6767663</td><td style='border: 1px solid black; padding: 10px; text-align: center;'>-0.2049083</td><td style='border: 1px solid black; padding: 10px; text-align: center;'>0.6750279</td><td style='border: 1px solid black; padding: 10px; text-align: center;'>0.2105644</td></tr></table>"
      ],
      "text/plain": [
       "<IPython.core.display.HTML object>"
      ]
     },
     "metadata": {},
     "output_type": "display_data"
    },
    {
     "name": "stdout",
     "output_type": "stream",
     "text": [
      "\\begin{pmatrix}\n",
      "0.6767663 & -0.2049083 & -0.6750279 & -0.2105644 \\\\\n",
      "0.2049083 & 0.6767663 & -0.2105644 & 0.6750279 \\\\\n",
      "0.2049083 & 0.6767663 & 0.2105644 & -0.6750279 \\\\\n",
      "0.6767663 & -0.2049083 & 0.6750279 & 0.2105644 \\\\\n",
      "\\end{pmatrix}\n",
      "sum of non diagonals squared = 4.00728253965454\n",
      "--------------------------------------------------------------------------------------------------------------------------------------------------------------------------------------------------------------\n"
     ]
    },
    {
     "data": {
      "text/html": [
       "<div style=\"text-align: center; font-size: 24px;\"><p>Iteration 8</p></div>"
      ],
      "text/plain": [
       "<IPython.core.display.HTML object>"
      ]
     },
     "metadata": {},
     "output_type": "display_data"
    },
    {
     "name": "stdout",
     "output_type": "stream",
     "text": [
      "--------------------------------------------------------------------------------------------------------------------------------------------------------------------------------------------------------------\n"
     ]
    },
    {
     "data": {
      "text/html": [
       "<div style=\"text-align: center; font-size: 24px;\"><p>Current A</p></div>"
      ],
      "text/plain": [
       "<IPython.core.display.HTML object>"
      ]
     },
     "metadata": {},
     "output_type": "display_data"
    },
    {
     "data": {
      "text/html": [
       "<table style='border-collapse: collapse; width: 50%; margin: auto;'><tr><td style='border: 1px solid black; padding: 10px; text-align: center;'>13.6055509</td><td style='border: 1px solid black; padding: 10px; text-align: center;'>3e-07</td><td style='border: 1px solid black; padding: 10px; text-align: center;'>0.5616435</td><td style='border: 1px solid black; padding: 10px; text-align: center;'>-0.8273794</td></tr><tr><td style='border: 1px solid black; padding: 10px; text-align: center;'>3e-07</td><td style='border: 1px solid black; padding: 10px; text-align: center;'>6.3944486</td><td style='border: 1px solid black; padding: 10px; text-align: center;'>0.8273794</td><td style='border: 1px solid black; padding: 10px; text-align: center;'>0.5616435</td></tr><tr><td style='border: 1px solid black; padding: 10px; text-align: center;'>0.5616435</td><td style='border: 1px solid black; padding: 10px; text-align: center;'>0.8273794</td><td style='border: 1px solid black; padding: 10px; text-align: center;'>6.3949536</td><td style='border: 1px solid black; padding: 10px; text-align: center;'>-0.0603414</td></tr><tr><td style='border: 1px solid black; padding: 10px; text-align: center;'>-0.8273794</td><td style='border: 1px solid black; padding: 10px; text-align: center;'>0.5616435</td><td style='border: 1px solid black; padding: 10px; text-align: center;'>-0.0603414</td><td style='border: 1px solid black; padding: 10px; text-align: center;'>13.6050462</td></tr></table>"
      ],
      "text/plain": [
       "<IPython.core.display.HTML object>"
      ]
     },
     "metadata": {},
     "output_type": "display_data"
    },
    {
     "name": "stdout",
     "output_type": "stream",
     "text": [
      "\\begin{pmatrix}\n",
      "13.6055509 & 3e-07 & 0.5616435 & -0.8273794 \\\\\n",
      "3e-07 & 6.3944486 & 0.8273794 & 0.5616435 \\\\\n",
      "0.5616435 & 0.8273794 & 6.3949536 & -0.0603414 \\\\\n",
      "-0.8273794 & 0.5616435 & -0.0603414 & 13.6050462 \\\\\n",
      "\\end{pmatrix}\n"
     ]
    },
    {
     "data": {
      "text/html": [
       "<div style=\"text-align: center; font-size: 24px;\"><p>Current V</p></div>"
      ],
      "text/plain": [
       "<IPython.core.display.HTML object>"
      ]
     },
     "metadata": {},
     "output_type": "display_data"
    },
    {
     "data": {
      "text/html": [
       "<table style='border-collapse: collapse; width: 50%; margin: auto;'><tr><td style='border: 1px solid black; padding: 10px; text-align: center;'>0.6767663</td><td style='border: 1px solid black; padding: 10px; text-align: center;'>-0.2049083</td><td style='border: 1px solid black; padding: 10px; text-align: center;'>-0.6750279</td><td style='border: 1px solid black; padding: 10px; text-align: center;'>-0.2105644</td></tr><tr><td style='border: 1px solid black; padding: 10px; text-align: center;'>0.2049083</td><td style='border: 1px solid black; padding: 10px; text-align: center;'>0.6767663</td><td style='border: 1px solid black; padding: 10px; text-align: center;'>-0.2105644</td><td style='border: 1px solid black; padding: 10px; text-align: center;'>0.6750279</td></tr><tr><td style='border: 1px solid black; padding: 10px; text-align: center;'>0.2049083</td><td style='border: 1px solid black; padding: 10px; text-align: center;'>0.6767663</td><td style='border: 1px solid black; padding: 10px; text-align: center;'>0.2105644</td><td style='border: 1px solid black; padding: 10px; text-align: center;'>-0.6750279</td></tr><tr><td style='border: 1px solid black; padding: 10px; text-align: center;'>0.6767663</td><td style='border: 1px solid black; padding: 10px; text-align: center;'>-0.2049083</td><td style='border: 1px solid black; padding: 10px; text-align: center;'>0.6750279</td><td style='border: 1px solid black; padding: 10px; text-align: center;'>0.2105644</td></tr></table>"
      ],
      "text/plain": [
       "<IPython.core.display.HTML object>"
      ]
     },
     "metadata": {},
     "output_type": "display_data"
    },
    {
     "name": "stdout",
     "output_type": "stream",
     "text": [
      "\\begin{pmatrix}\n",
      "0.6767663 & -0.2049083 & -0.6750279 & -0.2105644 \\\\\n",
      "0.2049083 & 0.6767663 & -0.2105644 & 0.6750279 \\\\\n",
      "0.2049083 & 0.6767663 & 0.2105644 & -0.6750279 \\\\\n",
      "0.6767663 & -0.2049083 & 0.6750279 & 0.2105644 \\\\\n",
      "\\end{pmatrix}\n",
      "\n",
      "a_ij = 0.8273794, i = 0, j = 3\n",
      "theta = 0.7852457\n",
      "c = 0.7072146\n",
      "s = 0.7069989\n"
     ]
    },
    {
     "data": {
      "text/html": [
       "<div style=\"text-align: center; font-size: 24px;\"><p>Rotation Matrix R</p></div>"
      ],
      "text/plain": [
       "<IPython.core.display.HTML object>"
      ]
     },
     "metadata": {},
     "output_type": "display_data"
    },
    {
     "data": {
      "text/html": [
       "<table style='border-collapse: collapse; width: 50%; margin: auto;'><tr><td style='border: 1px solid black; padding: 10px; text-align: center;'>0.7072146</td><td style='border: 1px solid black; padding: 10px; text-align: center;'>0.0</td><td style='border: 1px solid black; padding: 10px; text-align: center;'>0.0</td><td style='border: 1px solid black; padding: 10px; text-align: center;'>-0.7069989</td></tr><tr><td style='border: 1px solid black; padding: 10px; text-align: center;'>0.0</td><td style='border: 1px solid black; padding: 10px; text-align: center;'>1.0</td><td style='border: 1px solid black; padding: 10px; text-align: center;'>0.0</td><td style='border: 1px solid black; padding: 10px; text-align: center;'>0.0</td></tr><tr><td style='border: 1px solid black; padding: 10px; text-align: center;'>0.0</td><td style='border: 1px solid black; padding: 10px; text-align: center;'>0.0</td><td style='border: 1px solid black; padding: 10px; text-align: center;'>1.0</td><td style='border: 1px solid black; padding: 10px; text-align: center;'>0.0</td></tr><tr><td style='border: 1px solid black; padding: 10px; text-align: center;'>0.7069989</td><td style='border: 1px solid black; padding: 10px; text-align: center;'>0.0</td><td style='border: 1px solid black; padding: 10px; text-align: center;'>0.0</td><td style='border: 1px solid black; padding: 10px; text-align: center;'>0.7072146</td></tr></table>"
      ],
      "text/plain": [
       "<IPython.core.display.HTML object>"
      ]
     },
     "metadata": {},
     "output_type": "display_data"
    },
    {
     "name": "stdout",
     "output_type": "stream",
     "text": [
      "\\begin{pmatrix}\n",
      "0.7072146 & 0.0 & 0.0 & -0.7069989 \\\\\n",
      "0.0 & 1.0 & 0.0 & 0.0 \\\\\n",
      "0.0 & 0.0 & 1.0 & 0.0 \\\\\n",
      "0.7069989 & 0.0 & 0.0 & 0.7072146 \\\\\n",
      "\\end{pmatrix}\n"
     ]
    },
    {
     "data": {
      "text/html": [
       "<div style=\"text-align: center; font-size: 24px;\"><p>New A</p></div>"
      ],
      "text/plain": [
       "<IPython.core.display.HTML object>"
      ]
     },
     "metadata": {},
     "output_type": "display_data"
    },
    {
     "data": {
      "text/html": [
       "<table style='border-collapse: collapse; width: 50%; margin: auto;'><tr><td style='border: 1px solid black; padding: 10px; text-align: center;'>12.7779184</td><td style='border: 1px solid black; padding: 10px; text-align: center;'>0.3970815</td><td style='border: 1px solid black; padding: 10px; text-align: center;'>0.3545412</td><td style='border: 1px solid black; padding: 10px; text-align: center;'>-0.0005047</td></tr><tr><td style='border: 1px solid black; padding: 10px; text-align: center;'>0.3970815</td><td style='border: 1px solid black; padding: 10px; text-align: center;'>6.3944486</td><td style='border: 1px solid black; padding: 10px; text-align: center;'>0.8273794</td><td style='border: 1px solid black; padding: 10px; text-align: center;'>0.3972023</td></tr><tr><td style='border: 1px solid black; padding: 10px; text-align: center;'>0.3545412</td><td style='border: 1px solid black; padding: 10px; text-align: center;'>0.8273794</td><td style='border: 1px solid black; padding: 10px; text-align: center;'>6.3949536</td><td style='border: 1px solid black; padding: 10px; text-align: center;'>-0.4397557</td></tr><tr><td style='border: 1px solid black; padding: 10px; text-align: center;'>-0.0005047</td><td style='border: 1px solid black; padding: 10px; text-align: center;'>0.3972023</td><td style='border: 1px solid black; padding: 10px; text-align: center;'>-0.4397557</td><td style='border: 1px solid black; padding: 10px; text-align: center;'>14.4326769</td></tr></table>"
      ],
      "text/plain": [
       "<IPython.core.display.HTML object>"
      ]
     },
     "metadata": {},
     "output_type": "display_data"
    },
    {
     "name": "stdout",
     "output_type": "stream",
     "text": [
      "\\begin{pmatrix}\n",
      "12.7779184 & 0.3970815 & 0.3545412 & -0.0005047 \\\\\n",
      "0.3970815 & 6.3944486 & 0.8273794 & 0.3972023 \\\\\n",
      "0.3545412 & 0.8273794 & 6.3949536 & -0.4397557 \\\\\n",
      "-0.0005047 & 0.3972023 & -0.4397557 & 14.4326769 \\\\\n",
      "\\end{pmatrix}\n"
     ]
    },
    {
     "data": {
      "text/html": [
       "<div style=\"text-align: center; font-size: 24px;\"><p>New V</p></div>"
      ],
      "text/plain": [
       "<IPython.core.display.HTML object>"
      ]
     },
     "metadata": {},
     "output_type": "display_data"
    },
    {
     "data": {
      "text/html": [
       "<table style='border-collapse: collapse; width: 50%; margin: auto;'><tr><td style='border: 1px solid black; padding: 10px; text-align: center;'>0.3297502</td><td style='border: 1px solid black; padding: 10px; text-align: center;'>-0.2049083</td><td style='border: 1px solid black; padding: 10px; text-align: center;'>-0.6750279</td><td style='border: 1px solid black; padding: 10px; text-align: center;'>-0.6273872</td></tr><tr><td style='border: 1px solid black; padding: 10px; text-align: center;'>0.6221581</td><td style='border: 1px solid black; padding: 10px; text-align: center;'>0.6767663</td><td style='border: 1px solid black; padding: 10px; text-align: center;'>-0.2105644</td><td style='border: 1px solid black; padding: 10px; text-align: center;'>0.3325196</td></tr><tr><td style='border: 1px solid black; padding: 10px; text-align: center;'>-0.3323298</td><td style='border: 1px solid black; padding: 10px; text-align: center;'>0.6767663</td><td style='border: 1px solid black; padding: 10px; text-align: center;'>0.2105644</td><td style='border: 1px solid black; padding: 10px; text-align: center;'>-0.6222595</td></tr><tr><td style='border: 1px solid black; padding: 10px; text-align: center;'>0.6274878</td><td style='border: 1px solid black; padding: 10px; text-align: center;'>-0.2049083</td><td style='border: 1px solid black; padding: 10px; text-align: center;'>0.6750279</td><td style='border: 1px solid black; padding: 10px; text-align: center;'>-0.3295588</td></tr></table>"
      ],
      "text/plain": [
       "<IPython.core.display.HTML object>"
      ]
     },
     "metadata": {},
     "output_type": "display_data"
    },
    {
     "name": "stdout",
     "output_type": "stream",
     "text": [
      "\\begin{pmatrix}\n",
      "0.3297502 & -0.2049083 & -0.6750279 & -0.6273872 \\\\\n",
      "0.6221581 & 0.6767663 & -0.2105644 & 0.3325196 \\\\\n",
      "-0.3323298 & 0.6767663 & 0.2105644 & -0.6222595 \\\\\n",
      "0.6274878 & -0.2049083 & 0.6750279 & -0.3295588 \\\\\n",
      "\\end{pmatrix}\n",
      "sum of non diagonals squared = 2.6381696984278404\n",
      "--------------------------------------------------------------------------------------------------------------------------------------------------------------------------------------------------------------\n"
     ]
    },
    {
     "data": {
      "text/html": [
       "<div style=\"text-align: center; font-size: 24px;\"><p>Iteration 9</p></div>"
      ],
      "text/plain": [
       "<IPython.core.display.HTML object>"
      ]
     },
     "metadata": {},
     "output_type": "display_data"
    },
    {
     "name": "stdout",
     "output_type": "stream",
     "text": [
      "--------------------------------------------------------------------------------------------------------------------------------------------------------------------------------------------------------------\n"
     ]
    },
    {
     "data": {
      "text/html": [
       "<div style=\"text-align: center; font-size: 24px;\"><p>Current A</p></div>"
      ],
      "text/plain": [
       "<IPython.core.display.HTML object>"
      ]
     },
     "metadata": {},
     "output_type": "display_data"
    },
    {
     "data": {
      "text/html": [
       "<table style='border-collapse: collapse; width: 50%; margin: auto;'><tr><td style='border: 1px solid black; padding: 10px; text-align: center;'>12.7779184</td><td style='border: 1px solid black; padding: 10px; text-align: center;'>0.3970815</td><td style='border: 1px solid black; padding: 10px; text-align: center;'>0.3545412</td><td style='border: 1px solid black; padding: 10px; text-align: center;'>-0.0005047</td></tr><tr><td style='border: 1px solid black; padding: 10px; text-align: center;'>0.3970815</td><td style='border: 1px solid black; padding: 10px; text-align: center;'>6.3944486</td><td style='border: 1px solid black; padding: 10px; text-align: center;'>0.8273794</td><td style='border: 1px solid black; padding: 10px; text-align: center;'>0.3972023</td></tr><tr><td style='border: 1px solid black; padding: 10px; text-align: center;'>0.3545412</td><td style='border: 1px solid black; padding: 10px; text-align: center;'>0.8273794</td><td style='border: 1px solid black; padding: 10px; text-align: center;'>6.3949536</td><td style='border: 1px solid black; padding: 10px; text-align: center;'>-0.4397557</td></tr><tr><td style='border: 1px solid black; padding: 10px; text-align: center;'>-0.0005047</td><td style='border: 1px solid black; padding: 10px; text-align: center;'>0.3972023</td><td style='border: 1px solid black; padding: 10px; text-align: center;'>-0.4397557</td><td style='border: 1px solid black; padding: 10px; text-align: center;'>14.4326769</td></tr></table>"
      ],
      "text/plain": [
       "<IPython.core.display.HTML object>"
      ]
     },
     "metadata": {},
     "output_type": "display_data"
    },
    {
     "name": "stdout",
     "output_type": "stream",
     "text": [
      "\\begin{pmatrix}\n",
      "12.7779184 & 0.3970815 & 0.3545412 & -0.0005047 \\\\\n",
      "0.3970815 & 6.3944486 & 0.8273794 & 0.3972023 \\\\\n",
      "0.3545412 & 0.8273794 & 6.3949536 & -0.4397557 \\\\\n",
      "-0.0005047 & 0.3972023 & -0.4397557 & 14.4326769 \\\\\n",
      "\\end{pmatrix}\n"
     ]
    },
    {
     "data": {
      "text/html": [
       "<div style=\"text-align: center; font-size: 24px;\"><p>Current V</p></div>"
      ],
      "text/plain": [
       "<IPython.core.display.HTML object>"
      ]
     },
     "metadata": {},
     "output_type": "display_data"
    },
    {
     "data": {
      "text/html": [
       "<table style='border-collapse: collapse; width: 50%; margin: auto;'><tr><td style='border: 1px solid black; padding: 10px; text-align: center;'>0.3297502</td><td style='border: 1px solid black; padding: 10px; text-align: center;'>-0.2049083</td><td style='border: 1px solid black; padding: 10px; text-align: center;'>-0.6750279</td><td style='border: 1px solid black; padding: 10px; text-align: center;'>-0.6273872</td></tr><tr><td style='border: 1px solid black; padding: 10px; text-align: center;'>0.6221581</td><td style='border: 1px solid black; padding: 10px; text-align: center;'>0.6767663</td><td style='border: 1px solid black; padding: 10px; text-align: center;'>-0.2105644</td><td style='border: 1px solid black; padding: 10px; text-align: center;'>0.3325196</td></tr><tr><td style='border: 1px solid black; padding: 10px; text-align: center;'>-0.3323298</td><td style='border: 1px solid black; padding: 10px; text-align: center;'>0.6767663</td><td style='border: 1px solid black; padding: 10px; text-align: center;'>0.2105644</td><td style='border: 1px solid black; padding: 10px; text-align: center;'>-0.6222595</td></tr><tr><td style='border: 1px solid black; padding: 10px; text-align: center;'>0.6274878</td><td style='border: 1px solid black; padding: 10px; text-align: center;'>-0.2049083</td><td style='border: 1px solid black; padding: 10px; text-align: center;'>0.6750279</td><td style='border: 1px solid black; padding: 10px; text-align: center;'>-0.3295588</td></tr></table>"
      ],
      "text/plain": [
       "<IPython.core.display.HTML object>"
      ]
     },
     "metadata": {},
     "output_type": "display_data"
    },
    {
     "name": "stdout",
     "output_type": "stream",
     "text": [
      "\\begin{pmatrix}\n",
      "0.3297502 & -0.2049083 & -0.6750279 & -0.6273872 \\\\\n",
      "0.6221581 & 0.6767663 & -0.2105644 & 0.3325196 \\\\\n",
      "-0.3323298 & 0.6767663 & 0.2105644 & -0.6222595 \\\\\n",
      "0.6274878 & -0.2049083 & 0.6750279 & -0.3295588 \\\\\n",
      "\\end{pmatrix}\n",
      "\n",
      "a_ij = 0.8273794, i = 1, j = 2\n",
      "theta = -0.7852456\n",
      "c = 0.7072147\n",
      "s = -0.7069989\n"
     ]
    },
    {
     "data": {
      "text/html": [
       "<div style=\"text-align: center; font-size: 24px;\"><p>Rotation Matrix R</p></div>"
      ],
      "text/plain": [
       "<IPython.core.display.HTML object>"
      ]
     },
     "metadata": {},
     "output_type": "display_data"
    },
    {
     "data": {
      "text/html": [
       "<table style='border-collapse: collapse; width: 50%; margin: auto;'><tr><td style='border: 1px solid black; padding: 10px; text-align: center;'>1.0</td><td style='border: 1px solid black; padding: 10px; text-align: center;'>0.0</td><td style='border: 1px solid black; padding: 10px; text-align: center;'>0.0</td><td style='border: 1px solid black; padding: 10px; text-align: center;'>0.0</td></tr><tr><td style='border: 1px solid black; padding: 10px; text-align: center;'>0.0</td><td style='border: 1px solid black; padding: 10px; text-align: center;'>0.7072147</td><td style='border: 1px solid black; padding: 10px; text-align: center;'>0.7069989</td><td style='border: 1px solid black; padding: 10px; text-align: center;'>0.0</td></tr><tr><td style='border: 1px solid black; padding: 10px; text-align: center;'>0.0</td><td style='border: 1px solid black; padding: 10px; text-align: center;'>-0.7069989</td><td style='border: 1px solid black; padding: 10px; text-align: center;'>0.7072147</td><td style='border: 1px solid black; padding: 10px; text-align: center;'>0.0</td></tr><tr><td style='border: 1px solid black; padding: 10px; text-align: center;'>0.0</td><td style='border: 1px solid black; padding: 10px; text-align: center;'>0.0</td><td style='border: 1px solid black; padding: 10px; text-align: center;'>0.0</td><td style='border: 1px solid black; padding: 10px; text-align: center;'>1.0</td></tr></table>"
      ],
      "text/plain": [
       "<IPython.core.display.HTML object>"
      ]
     },
     "metadata": {},
     "output_type": "display_data"
    },
    {
     "name": "stdout",
     "output_type": "stream",
     "text": [
      "\\begin{pmatrix}\n",
      "1.0 & 0.0 & 0.0 & 0.0 \\\\\n",
      "0.0 & 0.7072147 & 0.7069989 & 0.0 \\\\\n",
      "0.0 & -0.7069989 & 0.7072147 & 0.0 \\\\\n",
      "0.0 & 0.0 & 0.0 & 1.0 \\\\\n",
      "\\end{pmatrix}\n"
     ]
    },
    {
     "data": {
      "text/html": [
       "<div style=\"text-align: center; font-size: 24px;\"><p>New A</p></div>"
      ],
      "text/plain": [
       "<IPython.core.display.HTML object>"
      ]
     },
     "metadata": {},
     "output_type": "display_data"
    },
    {
     "data": {
      "text/html": [
       "<table style='border-collapse: collapse; width: 50%; margin: auto;'><tr><td style='border: 1px solid black; padding: 10px; text-align: center;'>12.7779184</td><td style='border: 1px solid black; padding: 10px; text-align: center;'>0.0301616</td><td style='border: 1px solid black; padding: 10px; text-align: center;'>0.5314729</td><td style='border: 1px solid black; padding: 10px; text-align: center;'>-0.0005047</td></tr><tr><td style='border: 1px solid black; padding: 10px; text-align: center;'>0.0301616</td><td style='border: 1px solid black; padding: 10px; text-align: center;'>5.5673221</td><td style='border: 1px solid black; padding: 10px; text-align: center;'>0.0</td><td style='border: 1px solid black; padding: 10px; text-align: center;'>0.5918141</td></tr><tr><td style='border: 1px solid black; padding: 10px; text-align: center;'>0.5314729</td><td style='border: 1px solid black; padding: 10px; text-align: center;'>0.0</td><td style='border: 1px solid black; padding: 10px; text-align: center;'>7.2220811</td><td style='border: 1px solid black; padding: 10px; text-align: center;'>-0.0301801</td></tr><tr><td style='border: 1px solid black; padding: 10px; text-align: center;'>-0.0005047</td><td style='border: 1px solid black; padding: 10px; text-align: center;'>0.5918141</td><td style='border: 1px solid black; padding: 10px; text-align: center;'>-0.0301801</td><td style='border: 1px solid black; padding: 10px; text-align: center;'>14.4326769</td></tr></table>"
      ],
      "text/plain": [
       "<IPython.core.display.HTML object>"
      ]
     },
     "metadata": {},
     "output_type": "display_data"
    },
    {
     "name": "stdout",
     "output_type": "stream",
     "text": [
      "\\begin{pmatrix}\n",
      "12.7779184 & 0.0301616 & 0.5314729 & -0.0005047 \\\\\n",
      "0.0301616 & 5.5673221 & 0.0 & 0.5918141 \\\\\n",
      "0.5314729 & 0.0 & 7.2220811 & -0.0301801 \\\\\n",
      "-0.0005047 & 0.5918141 & -0.0301801 & 14.4326769 \\\\\n",
      "\\end{pmatrix}\n"
     ]
    },
    {
     "data": {
      "text/html": [
       "<div style=\"text-align: center; font-size: 24px;\"><p>New V</p></div>"
      ],
      "text/plain": [
       "<IPython.core.display.HTML object>"
      ]
     },
     "metadata": {},
     "output_type": "display_data"
    },
    {
     "data": {
      "text/html": [
       "<table style='border-collapse: collapse; width: 50%; margin: auto;'><tr><td style='border: 1px solid black; padding: 10px; text-align: center;'>0.3297502</td><td style='border: 1px solid black; padding: 10px; text-align: center;'>0.3323298</td><td style='border: 1px solid black; padding: 10px; text-align: center;'>-0.6222596</td><td style='border: 1px solid black; padding: 10px; text-align: center;'>-0.6273872</td></tr><tr><td style='border: 1px solid black; padding: 10px; text-align: center;'>0.6221581</td><td style='border: 1px solid black; padding: 10px; text-align: center;'>0.6274879</td><td style='border: 1px solid black; padding: 10px; text-align: center;'>0.3295588</td><td style='border: 1px solid black; padding: 10px; text-align: center;'>0.3325196</td></tr><tr><td style='border: 1px solid black; padding: 10px; text-align: center;'>-0.3323298</td><td style='border: 1px solid black; padding: 10px; text-align: center;'>0.3297503</td><td style='border: 1px solid black; padding: 10px; text-align: center;'>0.6273873</td><td style='border: 1px solid black; padding: 10px; text-align: center;'>-0.6222595</td></tr><tr><td style='border: 1px solid black; padding: 10px; text-align: center;'>0.6274878</td><td style='border: 1px solid black; padding: 10px; text-align: center;'>-0.6221581</td><td style='border: 1px solid black; padding: 10px; text-align: center;'>0.3325197</td><td style='border: 1px solid black; padding: 10px; text-align: center;'>-0.3295588</td></tr></table>"
      ],
      "text/plain": [
       "<IPython.core.display.HTML object>"
      ]
     },
     "metadata": {},
     "output_type": "display_data"
    },
    {
     "name": "stdout",
     "output_type": "stream",
     "text": [
      "\\begin{pmatrix}\n",
      "0.3297502 & 0.3323298 & -0.6222596 & -0.6273872 \\\\\n",
      "0.6221581 & 0.6274879 & 0.3295588 & 0.3325196 \\\\\n",
      "-0.3323298 & 0.3297503 & 0.6273873 & -0.6222595 \\\\\n",
      "0.6274878 & -0.6221581 & 0.3325197 & -0.3295588 \\\\\n",
      "\\end{pmatrix}\n",
      "sum of non diagonals squared = 1.2690563753317599\n",
      "--------------------------------------------------------------------------------------------------------------------------------------------------------------------------------------------------------------\n"
     ]
    },
    {
     "data": {
      "text/html": [
       "<div style=\"text-align: center; font-size: 24px;\"><p>Iteration 10</p></div>"
      ],
      "text/plain": [
       "<IPython.core.display.HTML object>"
      ]
     },
     "metadata": {},
     "output_type": "display_data"
    },
    {
     "name": "stdout",
     "output_type": "stream",
     "text": [
      "--------------------------------------------------------------------------------------------------------------------------------------------------------------------------------------------------------------\n"
     ]
    },
    {
     "data": {
      "text/html": [
       "<div style=\"text-align: center; font-size: 24px;\"><p>Current A</p></div>"
      ],
      "text/plain": [
       "<IPython.core.display.HTML object>"
      ]
     },
     "metadata": {},
     "output_type": "display_data"
    },
    {
     "data": {
      "text/html": [
       "<table style='border-collapse: collapse; width: 50%; margin: auto;'><tr><td style='border: 1px solid black; padding: 10px; text-align: center;'>12.7779184</td><td style='border: 1px solid black; padding: 10px; text-align: center;'>0.0301616</td><td style='border: 1px solid black; padding: 10px; text-align: center;'>0.5314729</td><td style='border: 1px solid black; padding: 10px; text-align: center;'>-0.0005047</td></tr><tr><td style='border: 1px solid black; padding: 10px; text-align: center;'>0.0301616</td><td style='border: 1px solid black; padding: 10px; text-align: center;'>5.5673221</td><td style='border: 1px solid black; padding: 10px; text-align: center;'>0.0</td><td style='border: 1px solid black; padding: 10px; text-align: center;'>0.5918141</td></tr><tr><td style='border: 1px solid black; padding: 10px; text-align: center;'>0.5314729</td><td style='border: 1px solid black; padding: 10px; text-align: center;'>0.0</td><td style='border: 1px solid black; padding: 10px; text-align: center;'>7.2220811</td><td style='border: 1px solid black; padding: 10px; text-align: center;'>-0.0301801</td></tr><tr><td style='border: 1px solid black; padding: 10px; text-align: center;'>-0.0005047</td><td style='border: 1px solid black; padding: 10px; text-align: center;'>0.5918141</td><td style='border: 1px solid black; padding: 10px; text-align: center;'>-0.0301801</td><td style='border: 1px solid black; padding: 10px; text-align: center;'>14.4326769</td></tr></table>"
      ],
      "text/plain": [
       "<IPython.core.display.HTML object>"
      ]
     },
     "metadata": {},
     "output_type": "display_data"
    },
    {
     "name": "stdout",
     "output_type": "stream",
     "text": [
      "\\begin{pmatrix}\n",
      "12.7779184 & 0.0301616 & 0.5314729 & -0.0005047 \\\\\n",
      "0.0301616 & 5.5673221 & 0.0 & 0.5918141 \\\\\n",
      "0.5314729 & 0.0 & 7.2220811 & -0.0301801 \\\\\n",
      "-0.0005047 & 0.5918141 & -0.0301801 & 14.4326769 \\\\\n",
      "\\end{pmatrix}\n"
     ]
    },
    {
     "data": {
      "text/html": [
       "<div style=\"text-align: center; font-size: 24px;\"><p>Current V</p></div>"
      ],
      "text/plain": [
       "<IPython.core.display.HTML object>"
      ]
     },
     "metadata": {},
     "output_type": "display_data"
    },
    {
     "data": {
      "text/html": [
       "<table style='border-collapse: collapse; width: 50%; margin: auto;'><tr><td style='border: 1px solid black; padding: 10px; text-align: center;'>0.3297502</td><td style='border: 1px solid black; padding: 10px; text-align: center;'>0.3323298</td><td style='border: 1px solid black; padding: 10px; text-align: center;'>-0.6222596</td><td style='border: 1px solid black; padding: 10px; text-align: center;'>-0.6273872</td></tr><tr><td style='border: 1px solid black; padding: 10px; text-align: center;'>0.6221581</td><td style='border: 1px solid black; padding: 10px; text-align: center;'>0.6274879</td><td style='border: 1px solid black; padding: 10px; text-align: center;'>0.3295588</td><td style='border: 1px solid black; padding: 10px; text-align: center;'>0.3325196</td></tr><tr><td style='border: 1px solid black; padding: 10px; text-align: center;'>-0.3323298</td><td style='border: 1px solid black; padding: 10px; text-align: center;'>0.3297503</td><td style='border: 1px solid black; padding: 10px; text-align: center;'>0.6273873</td><td style='border: 1px solid black; padding: 10px; text-align: center;'>-0.6222595</td></tr><tr><td style='border: 1px solid black; padding: 10px; text-align: center;'>0.6274878</td><td style='border: 1px solid black; padding: 10px; text-align: center;'>-0.6221581</td><td style='border: 1px solid black; padding: 10px; text-align: center;'>0.3325197</td><td style='border: 1px solid black; padding: 10px; text-align: center;'>-0.3295588</td></tr></table>"
      ],
      "text/plain": [
       "<IPython.core.display.HTML object>"
      ]
     },
     "metadata": {},
     "output_type": "display_data"
    },
    {
     "name": "stdout",
     "output_type": "stream",
     "text": [
      "\\begin{pmatrix}\n",
      "0.3297502 & 0.3323298 & -0.6222596 & -0.6273872 \\\\\n",
      "0.6221581 & 0.6274879 & 0.3295588 & 0.3325196 \\\\\n",
      "-0.3323298 & 0.3297503 & 0.6273873 & -0.6222595 \\\\\n",
      "0.6274878 & -0.6221581 & 0.3325197 & -0.3295588 \\\\\n",
      "\\end{pmatrix}\n",
      "\n",
      "a_ij = 0.5918141, i = 1, j = 3\n",
      "theta = -0.0663634\n",
      "c = 0.9977988\n",
      "s = -0.0663147\n"
     ]
    },
    {
     "data": {
      "text/html": [
       "<div style=\"text-align: center; font-size: 24px;\"><p>Rotation Matrix R</p></div>"
      ],
      "text/plain": [
       "<IPython.core.display.HTML object>"
      ]
     },
     "metadata": {},
     "output_type": "display_data"
    },
    {
     "data": {
      "text/html": [
       "<table style='border-collapse: collapse; width: 50%; margin: auto;'><tr><td style='border: 1px solid black; padding: 10px; text-align: center;'>1.0</td><td style='border: 1px solid black; padding: 10px; text-align: center;'>0.0</td><td style='border: 1px solid black; padding: 10px; text-align: center;'>0.0</td><td style='border: 1px solid black; padding: 10px; text-align: center;'>0.0</td></tr><tr><td style='border: 1px solid black; padding: 10px; text-align: center;'>0.0</td><td style='border: 1px solid black; padding: 10px; text-align: center;'>0.9977988</td><td style='border: 1px solid black; padding: 10px; text-align: center;'>0.0</td><td style='border: 1px solid black; padding: 10px; text-align: center;'>0.0663147</td></tr><tr><td style='border: 1px solid black; padding: 10px; text-align: center;'>0.0</td><td style='border: 1px solid black; padding: 10px; text-align: center;'>0.0</td><td style='border: 1px solid black; padding: 10px; text-align: center;'>1.0</td><td style='border: 1px solid black; padding: 10px; text-align: center;'>0.0</td></tr><tr><td style='border: 1px solid black; padding: 10px; text-align: center;'>0.0</td><td style='border: 1px solid black; padding: 10px; text-align: center;'>-0.0663147</td><td style='border: 1px solid black; padding: 10px; text-align: center;'>0.0</td><td style='border: 1px solid black; padding: 10px; text-align: center;'>0.9977988</td></tr></table>"
      ],
      "text/plain": [
       "<IPython.core.display.HTML object>"
      ]
     },
     "metadata": {},
     "output_type": "display_data"
    },
    {
     "name": "stdout",
     "output_type": "stream",
     "text": [
      "\\begin{pmatrix}\n",
      "1.0 & 0.0 & 0.0 & 0.0 \\\\\n",
      "0.0 & 0.9977988 & 0.0 & 0.0663147 \\\\\n",
      "0.0 & 0.0 & 1.0 & 0.0 \\\\\n",
      "0.0 & -0.0663147 & 0.0 & 0.9977988 \\\\\n",
      "\\end{pmatrix}\n"
     ]
    },
    {
     "data": {
      "text/html": [
       "<div style=\"text-align: center; font-size: 24px;\"><p>New A</p></div>"
      ],
      "text/plain": [
       "<IPython.core.display.HTML object>"
      ]
     },
     "metadata": {},
     "output_type": "display_data"
    },
    {
     "data": {
      "text/html": [
       "<table style='border-collapse: collapse; width: 50%; margin: auto;'><tr><td style='border: 1px solid black; padding: 10px; text-align: center;'>12.7779184</td><td style='border: 1px solid black; padding: 10px; text-align: center;'>0.0301287</td><td style='border: 1px solid black; padding: 10px; text-align: center;'>0.5314729</td><td style='border: 1px solid black; padding: 10px; text-align: center;'>0.0014966</td></tr><tr><td style='border: 1px solid black; padding: 10px; text-align: center;'>0.0301287</td><td style='border: 1px solid black; padding: 10px; text-align: center;'>5.52799</td><td style='border: 1px solid black; padding: 10px; text-align: center;'>0.0020014</td><td style='border: 1px solid black; padding: 10px; text-align: center;'>-3e-07</td></tr><tr><td style='border: 1px solid black; padding: 10px; text-align: center;'>0.5314729</td><td style='border: 1px solid black; padding: 10px; text-align: center;'>0.0020014</td><td style='border: 1px solid black; padding: 10px; text-align: center;'>7.2220811</td><td style='border: 1px solid black; padding: 10px; text-align: center;'>-0.0301137</td></tr><tr><td style='border: 1px solid black; padding: 10px; text-align: center;'>0.0014966</td><td style='border: 1px solid black; padding: 10px; text-align: center;'>-3e-07</td><td style='border: 1px solid black; padding: 10px; text-align: center;'>-0.0301137</td><td style='border: 1px solid black; padding: 10px; text-align: center;'>14.4720107</td></tr></table>"
      ],
      "text/plain": [
       "<IPython.core.display.HTML object>"
      ]
     },
     "metadata": {},
     "output_type": "display_data"
    },
    {
     "name": "stdout",
     "output_type": "stream",
     "text": [
      "\\begin{pmatrix}\n",
      "12.7779184 & 0.0301287 & 0.5314729 & 0.0014966 \\\\\n",
      "0.0301287 & 5.52799 & 0.0020014 & -3e-07 \\\\\n",
      "0.5314729 & 0.0020014 & 7.2220811 & -0.0301137 \\\\\n",
      "0.0014966 & -3e-07 & -0.0301137 & 14.4720107 \\\\\n",
      "\\end{pmatrix}\n"
     ]
    },
    {
     "data": {
      "text/html": [
       "<div style=\"text-align: center; font-size: 24px;\"><p>New V</p></div>"
      ],
      "text/plain": [
       "<IPython.core.display.HTML object>"
      ]
     },
     "metadata": {},
     "output_type": "display_data"
    },
    {
     "data": {
      "text/html": [
       "<table style='border-collapse: collapse; width: 50%; margin: auto;'><tr><td style='border: 1px solid black; padding: 10px; text-align: center;'>0.3297502</td><td style='border: 1px solid black; padding: 10px; text-align: center;'>0.3732033</td><td style='border: 1px solid black; padding: 10px; text-align: center;'>-0.6222596</td><td style='border: 1px solid black; padding: 10px; text-align: center;'>-0.6039678</td></tr><tr><td style='border: 1px solid black; padding: 10px; text-align: center;'>0.6221581</td><td style='border: 1px solid black; padding: 10px; text-align: center;'>0.6040557</td><td style='border: 1px solid black; padding: 10px; text-align: center;'>0.3295588</td><td style='border: 1px solid black; padding: 10px; text-align: center;'>0.3733993</td></tr><tr><td style='border: 1px solid black; padding: 10px; text-align: center;'>-0.3323298</td><td style='border: 1px solid black; padding: 10px; text-align: center;'>0.3702894</td><td style='border: 1px solid black; padding: 10px; text-align: center;'>0.6273873</td><td style='border: 1px solid black; padding: 10px; text-align: center;'>-0.5990225</td></tr><tr><td style='border: 1px solid black; padding: 10px; text-align: center;'>0.6274878</td><td style='border: 1px solid black; padding: 10px; text-align: center;'>-0.598934</td><td style='border: 1px solid black; padding: 10px; text-align: center;'>0.3325197</td><td style='border: 1px solid black; padding: 10px; text-align: center;'>-0.3700916</td></tr></table>"
      ],
      "text/plain": [
       "<IPython.core.display.HTML object>"
      ]
     },
     "metadata": {},
     "output_type": "display_data"
    },
    {
     "name": "stdout",
     "output_type": "stream",
     "text": [
      "\\begin{pmatrix}\n",
      "0.3297502 & 0.3732033 & -0.6222596 & -0.6039678 \\\\\n",
      "0.6221581 & 0.6040557 & 0.3295588 & 0.3733993 \\\\\n",
      "-0.3323298 & 0.3702894 & 0.6273873 & -0.5990225 \\\\\n",
      "0.6274878 & -0.598934 & 0.3325197 & -0.3700916 \\\\\n",
      "\\end{pmatrix}\n",
      "sum of non diagonals squared = 0.5685685246787999\n",
      "--------------------------------------------------------------------------------------------------------------------------------------------------------------------------------------------------------------\n"
     ]
    },
    {
     "data": {
      "text/html": [
       "<div style=\"text-align: center; font-size: 24px;\"><p>Iteration 11</p></div>"
      ],
      "text/plain": [
       "<IPython.core.display.HTML object>"
      ]
     },
     "metadata": {},
     "output_type": "display_data"
    },
    {
     "name": "stdout",
     "output_type": "stream",
     "text": [
      "--------------------------------------------------------------------------------------------------------------------------------------------------------------------------------------------------------------\n"
     ]
    },
    {
     "data": {
      "text/html": [
       "<div style=\"text-align: center; font-size: 24px;\"><p>Current A</p></div>"
      ],
      "text/plain": [
       "<IPython.core.display.HTML object>"
      ]
     },
     "metadata": {},
     "output_type": "display_data"
    },
    {
     "data": {
      "text/html": [
       "<table style='border-collapse: collapse; width: 50%; margin: auto;'><tr><td style='border: 1px solid black; padding: 10px; text-align: center;'>12.7779184</td><td style='border: 1px solid black; padding: 10px; text-align: center;'>0.0301287</td><td style='border: 1px solid black; padding: 10px; text-align: center;'>0.5314729</td><td style='border: 1px solid black; padding: 10px; text-align: center;'>0.0014966</td></tr><tr><td style='border: 1px solid black; padding: 10px; text-align: center;'>0.0301287</td><td style='border: 1px solid black; padding: 10px; text-align: center;'>5.52799</td><td style='border: 1px solid black; padding: 10px; text-align: center;'>0.0020014</td><td style='border: 1px solid black; padding: 10px; text-align: center;'>-3e-07</td></tr><tr><td style='border: 1px solid black; padding: 10px; text-align: center;'>0.5314729</td><td style='border: 1px solid black; padding: 10px; text-align: center;'>0.0020014</td><td style='border: 1px solid black; padding: 10px; text-align: center;'>7.2220811</td><td style='border: 1px solid black; padding: 10px; text-align: center;'>-0.0301137</td></tr><tr><td style='border: 1px solid black; padding: 10px; text-align: center;'>0.0014966</td><td style='border: 1px solid black; padding: 10px; text-align: center;'>-3e-07</td><td style='border: 1px solid black; padding: 10px; text-align: center;'>-0.0301137</td><td style='border: 1px solid black; padding: 10px; text-align: center;'>14.4720107</td></tr></table>"
      ],
      "text/plain": [
       "<IPython.core.display.HTML object>"
      ]
     },
     "metadata": {},
     "output_type": "display_data"
    },
    {
     "name": "stdout",
     "output_type": "stream",
     "text": [
      "\\begin{pmatrix}\n",
      "12.7779184 & 0.0301287 & 0.5314729 & 0.0014966 \\\\\n",
      "0.0301287 & 5.52799 & 0.0020014 & -3e-07 \\\\\n",
      "0.5314729 & 0.0020014 & 7.2220811 & -0.0301137 \\\\\n",
      "0.0014966 & -3e-07 & -0.0301137 & 14.4720107 \\\\\n",
      "\\end{pmatrix}\n"
     ]
    },
    {
     "data": {
      "text/html": [
       "<div style=\"text-align: center; font-size: 24px;\"><p>Current V</p></div>"
      ],
      "text/plain": [
       "<IPython.core.display.HTML object>"
      ]
     },
     "metadata": {},
     "output_type": "display_data"
    },
    {
     "data": {
      "text/html": [
       "<table style='border-collapse: collapse; width: 50%; margin: auto;'><tr><td style='border: 1px solid black; padding: 10px; text-align: center;'>0.3297502</td><td style='border: 1px solid black; padding: 10px; text-align: center;'>0.3732033</td><td style='border: 1px solid black; padding: 10px; text-align: center;'>-0.6222596</td><td style='border: 1px solid black; padding: 10px; text-align: center;'>-0.6039678</td></tr><tr><td style='border: 1px solid black; padding: 10px; text-align: center;'>0.6221581</td><td style='border: 1px solid black; padding: 10px; text-align: center;'>0.6040557</td><td style='border: 1px solid black; padding: 10px; text-align: center;'>0.3295588</td><td style='border: 1px solid black; padding: 10px; text-align: center;'>0.3733993</td></tr><tr><td style='border: 1px solid black; padding: 10px; text-align: center;'>-0.3323298</td><td style='border: 1px solid black; padding: 10px; text-align: center;'>0.3702894</td><td style='border: 1px solid black; padding: 10px; text-align: center;'>0.6273873</td><td style='border: 1px solid black; padding: 10px; text-align: center;'>-0.5990225</td></tr><tr><td style='border: 1px solid black; padding: 10px; text-align: center;'>0.6274878</td><td style='border: 1px solid black; padding: 10px; text-align: center;'>-0.598934</td><td style='border: 1px solid black; padding: 10px; text-align: center;'>0.3325197</td><td style='border: 1px solid black; padding: 10px; text-align: center;'>-0.3700916</td></tr></table>"
      ],
      "text/plain": [
       "<IPython.core.display.HTML object>"
      ]
     },
     "metadata": {},
     "output_type": "display_data"
    },
    {
     "name": "stdout",
     "output_type": "stream",
     "text": [
      "\\begin{pmatrix}\n",
      "0.3297502 & 0.3732033 & -0.6222596 & -0.6039678 \\\\\n",
      "0.6221581 & 0.6040557 & 0.3295588 & 0.3733993 \\\\\n",
      "-0.3323298 & 0.3702894 & 0.6273873 & -0.5990225 \\\\\n",
      "0.6274878 & -0.598934 & 0.3325197 & -0.3700916 \\\\\n",
      "\\end{pmatrix}\n",
      "\n",
      "a_ij = 0.5314729, i = 0, j = 2\n",
      "theta = 0.0945181\n",
      "c = 0.9955365\n",
      "s = 0.0943774\n"
     ]
    },
    {
     "data": {
      "text/html": [
       "<div style=\"text-align: center; font-size: 24px;\"><p>Rotation Matrix R</p></div>"
      ],
      "text/plain": [
       "<IPython.core.display.HTML object>"
      ]
     },
     "metadata": {},
     "output_type": "display_data"
    },
    {
     "data": {
      "text/html": [
       "<table style='border-collapse: collapse; width: 50%; margin: auto;'><tr><td style='border: 1px solid black; padding: 10px; text-align: center;'>0.9955365</td><td style='border: 1px solid black; padding: 10px; text-align: center;'>0.0</td><td style='border: 1px solid black; padding: 10px; text-align: center;'>-0.0943774</td><td style='border: 1px solid black; padding: 10px; text-align: center;'>0.0</td></tr><tr><td style='border: 1px solid black; padding: 10px; text-align: center;'>0.0</td><td style='border: 1px solid black; padding: 10px; text-align: center;'>1.0</td><td style='border: 1px solid black; padding: 10px; text-align: center;'>0.0</td><td style='border: 1px solid black; padding: 10px; text-align: center;'>0.0</td></tr><tr><td style='border: 1px solid black; padding: 10px; text-align: center;'>0.0943774</td><td style='border: 1px solid black; padding: 10px; text-align: center;'>0.0</td><td style='border: 1px solid black; padding: 10px; text-align: center;'>0.9955365</td><td style='border: 1px solid black; padding: 10px; text-align: center;'>0.0</td></tr><tr><td style='border: 1px solid black; padding: 10px; text-align: center;'>0.0</td><td style='border: 1px solid black; padding: 10px; text-align: center;'>0.0</td><td style='border: 1px solid black; padding: 10px; text-align: center;'>0.0</td><td style='border: 1px solid black; padding: 10px; text-align: center;'>1.0</td></tr></table>"
      ],
      "text/plain": [
       "<IPython.core.display.HTML object>"
      ]
     },
     "metadata": {},
     "output_type": "display_data"
    },
    {
     "name": "stdout",
     "output_type": "stream",
     "text": [
      "\\begin{pmatrix}\n",
      "0.9955365 & 0.0 & -0.0943774 & 0.0 \\\\\n",
      "0.0 & 1.0 & 0.0 & 0.0 \\\\\n",
      "0.0943774 & 0.0 & 0.9955365 & 0.0 \\\\\n",
      "0.0 & 0.0 & 0.0 & 1.0 \\\\\n",
      "\\end{pmatrix}\n"
     ]
    },
    {
     "data": {
      "text/html": [
       "<div style=\"text-align: center; font-size: 24px;\"><p>New A</p></div>"
      ],
      "text/plain": [
       "<IPython.core.display.HTML object>"
      ]
     },
     "metadata": {},
     "output_type": "display_data"
    },
    {
     "data": {
      "text/html": [
       "<table style='border-collapse: collapse; width: 50%; margin: auto;'><tr><td style='border: 1px solid black; padding: 10px; text-align: center;'>12.8283025</td><td style='border: 1px solid black; padding: 10px; text-align: center;'>0.0301831</td><td style='border: 1px solid black; padding: 10px; text-align: center;'>1e-07</td><td style='border: 1px solid black; padding: 10px; text-align: center;'>-0.0013521</td></tr><tr><td style='border: 1px solid black; padding: 10px; text-align: center;'>0.0301831</td><td style='border: 1px solid black; padding: 10px; text-align: center;'>5.52799</td><td style='border: 1px solid black; padding: 10px; text-align: center;'>-0.000851</td><td style='border: 1px solid black; padding: 10px; text-align: center;'>-3e-07</td></tr><tr><td style='border: 1px solid black; padding: 10px; text-align: center;'>1e-07</td><td style='border: 1px solid black; padding: 10px; text-align: center;'>-0.000851</td><td style='border: 1px solid black; padding: 10px; text-align: center;'>7.1716973</td><td style='border: 1px solid black; padding: 10px; text-align: center;'>-0.0301205</td></tr><tr><td style='border: 1px solid black; padding: 10px; text-align: center;'>-0.0013521</td><td style='border: 1px solid black; padding: 10px; text-align: center;'>-3e-07</td><td style='border: 1px solid black; padding: 10px; text-align: center;'>-0.0301205</td><td style='border: 1px solid black; padding: 10px; text-align: center;'>14.4720107</td></tr></table>"
      ],
      "text/plain": [
       "<IPython.core.display.HTML object>"
      ]
     },
     "metadata": {},
     "output_type": "display_data"
    },
    {
     "name": "stdout",
     "output_type": "stream",
     "text": [
      "\\begin{pmatrix}\n",
      "12.8283025 & 0.0301831 & 1e-07 & -0.0013521 \\\\\n",
      "0.0301831 & 5.52799 & -0.000851 & -3e-07 \\\\\n",
      "1e-07 & -0.000851 & 7.1716973 & -0.0301205 \\\\\n",
      "-0.0013521 & -3e-07 & -0.0301205 & 14.4720107 \\\\\n",
      "\\end{pmatrix}\n"
     ]
    },
    {
     "data": {
      "text/html": [
       "<div style=\"text-align: center; font-size: 24px;\"><p>New V</p></div>"
      ],
      "text/plain": [
       "<IPython.core.display.HTML object>"
      ]
     },
     "metadata": {},
     "output_type": "display_data"
    },
    {
     "data": {
      "text/html": [
       "<table style='border-collapse: collapse; width: 50%; margin: auto;'><tr><td style='border: 1px solid black; padding: 10px; text-align: center;'>0.2695511</td><td style='border: 1px solid black; padding: 10px; text-align: center;'>0.3732033</td><td style='border: 1px solid black; padding: 10px; text-align: center;'>-0.6506031</td><td style='border: 1px solid black; padding: 10px; text-align: center;'>-0.6039678</td></tr><tr><td style='border: 1px solid black; padding: 10px; text-align: center;'>0.650484</td><td style='border: 1px solid black; padding: 10px; text-align: center;'>0.6040557</td><td style='border: 1px solid black; padding: 10px; text-align: center;'>0.2693702</td><td style='border: 1px solid black; padding: 10px; text-align: center;'>0.3733993</td></tr><tr><td style='border: 1px solid black; padding: 10px; text-align: center;'>-0.2716353</td><td style='border: 1px solid black; padding: 10px; text-align: center;'>0.3702894</td><td style='border: 1px solid black; padding: 10px; text-align: center;'>0.6559514</td><td style='border: 1px solid black; padding: 10px; text-align: center;'>-0.5990225</td></tr><tr><td style='border: 1px solid black; padding: 10px; text-align: center;'>0.6560694</td><td style='border: 1px solid black; padding: 10px; text-align: center;'>-0.598934</td><td style='border: 1px solid black; padding: 10px; text-align: center;'>0.2718148</td><td style='border: 1px solid black; padding: 10px; text-align: center;'>-0.3700916</td></tr></table>"
      ],
      "text/plain": [
       "<IPython.core.display.HTML object>"
      ]
     },
     "metadata": {},
     "output_type": "display_data"
    },
    {
     "name": "stdout",
     "output_type": "stream",
     "text": [
      "\\begin{pmatrix}\n",
      "0.2695511 & 0.3732033 & -0.6506031 & -0.6039678 \\\\\n",
      "0.650484 & 0.6040557 & 0.2693702 & 0.3733993 \\\\\n",
      "-0.2716353 & 0.3702894 & 0.6559514 & -0.5990225 \\\\\n",
      "0.6560694 & -0.598934 & 0.2718148 & -0.3700916 \\\\\n",
      "\\end{pmatrix}\n",
      "sum of non diagonals squared = 0.0036416328427400003\n"
     ]
    }
   ],
   "source": [
    "newA = A\n",
    "\n",
    "iteration: int = 1\n",
    "while not checkIfDiagonalEnough(newA, epsilon):\n",
    "    print(f'-'*206)\n",
    "    printBig(f'Iteration {iteration}') # type: ignore\n",
    "    print(f'-'*206)\n",
    "\n",
    "    newA, V = rotate(newA, V) \n",
    "    iteration += 1"
   ]
  },
  {
   "cell_type": "code",
   "execution_count": 56,
   "metadata": {},
   "outputs": [
    {
     "name": "stdout",
     "output_type": "stream",
     "text": [
      "A * q0        = [ 3.4699646  8.3623336 -3.4726334  8.39868  ]\n",
      "lambda_0 * q0 = [ 3.45788305  8.34460552 -3.4846198   8.41625672]\n",
      "\n",
      "A * q1        = [ 2.0717541  3.3586175  2.0381995 -3.2913293]\n",
      "lambda_1 * q1 = [ 2.06306411  3.33921387  2.0469561  -3.31090116]\n",
      "\n",
      "A * q2        = [-4.648054   1.9200805  4.722012   1.9610305]\n",
      "lambda_2 * q2 = [-4.6659285   1.93184154  4.70428488  1.94937347]\n",
      "\n",
      "A * q3        = [-8.7213971  5.3948451 -8.6884501 -5.3650433]\n",
      "lambda_3 * q3 = [-8.74062846  5.40383866 -8.66906003 -5.3559696 ]\n",
      "\n"
     ]
    }
   ],
   "source": [
    "for i in range(np.shape(A)[0]):\n",
    "    check1 = A @ V.T[i]\n",
    "    check2 = newA[i][i] * V.T[i]\n",
    "    print(f'A * q{i}        = {check1}')\n",
    "    print(f'lambda_{i} * q{i} = {check2}')\n",
    "    print(f'')\n"
   ]
  }
 ],
 "metadata": {
  "kernelspec": {
   "display_name": "Python 3",
   "language": "python",
   "name": "python3"
  },
  "language_info": {
   "codemirror_mode": {
    "name": "ipython",
    "version": 3
   },
   "file_extension": ".py",
   "mimetype": "text/x-python",
   "name": "python",
   "nbconvert_exporter": "python",
   "pygments_lexer": "ipython3",
   "version": "3.11.9"
  }
 },
 "nbformat": 4,
 "nbformat_minor": 2
}
